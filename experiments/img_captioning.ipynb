{
 "cells": [
  {
   "cell_type": "markdown",
   "metadata": {},
   "source": [
    "In this notebook, we are working with memes900k dataset. Please make sure you have downloaded it if you want to work with this notebook: https://drive.google.com/file/d/1j6YG3skamxA1-mdogC1kRjugFuOkHt_A/edit."
   ]
  },
  {
   "cell_type": "markdown",
   "metadata": {},
   "source": [
    "#### HuggingFace inference, BLIP2 image captioning model"
   ]
  },
  {
   "cell_type": "code",
   "execution_count": 3,
   "metadata": {},
   "outputs": [],
   "source": [
    "import requests\n",
    "import os\n",
    "from tqdm import tqdm\n",
    "import json"
   ]
  },
  {
   "cell_type": "code",
   "execution_count": 4,
   "metadata": {},
   "outputs": [],
   "source": [
    "hf_token = \"hf_YOUR_TOKEN\"\n",
    "# Your home directry:\n",
    "home_dir = os.path.expanduser(\"~\")\n",
    "home_dir = os.path.join(home_dir, 'Downloads', \"meme_caption_generator\")"
   ]
  },
  {
   "cell_type": "code",
   "execution_count": 26,
   "metadata": {},
   "outputs": [],
   "source": [
    "API_URL = \"https://api-inference.huggingface.co/models/Salesforce/blip-image-captioning-base\"\n",
    "headers = {\"Authorization\": f\"Bearer {hf_token}\"}\n",
    "\n",
    "def query(filename):\n",
    "    with open(filename, \"rb\") as f:\n",
    "        data = f.read()\n",
    "    response = requests.post(API_URL, headers=headers, data=data)\n",
    "    return response.json()"
   ]
  },
  {
   "cell_type": "code",
   "execution_count": 39,
   "metadata": {},
   "outputs": [],
   "source": [
    "output = query(f\"memes900k/images/you-were-the-chosen-one.jpg\")"
   ]
  },
  {
   "cell_type": "code",
   "execution_count": 47,
   "metadata": {},
   "outputs": [
    {
     "data": {
      "text/plain": [
       "'a man with a beard and a beard in a scene from the movie star wars'"
      ]
     },
     "execution_count": 47,
     "metadata": {},
     "output_type": "execute_result"
    }
   ],
   "source": [
    "output[0]['generated_text']"
   ]
  },
  {
   "cell_type": "markdown",
   "metadata": {},
   "source": [
    "Load files"
   ]
  },
  {
   "cell_type": "code",
   "execution_count": 42,
   "metadata": {},
   "outputs": [],
   "source": [
    "def list_files(directory):\n",
    "    try:\n",
    "        files = os.listdir(directory)\n",
    "        file_names = [f for f in files if os.path.isfile(os.path.join(directory, f))]\n",
    "        \n",
    "        return file_names\n",
    "    except FileNotFoundError:\n",
    "        print(\"The specified directory does not exist.\")\n",
    "        return []\n",
    "    except PermissionError:\n",
    "        print(\"Permission denied to access the directory.\")\n",
    "        return []"
   ]
  },
  {
   "cell_type": "code",
   "execution_count": 43,
   "metadata": {},
   "outputs": [],
   "source": [
    "directory_path = 'memes900k/images'\n",
    "files = list_files(directory_path)"
   ]
  },
  {
   "cell_type": "code",
   "execution_count": 46,
   "metadata": {},
   "outputs": [
    {
     "data": {
      "text/plain": [
       "'memes900k/images/kd-you-the-real-mvp-f.jpg'"
      ]
     },
     "execution_count": 46,
     "metadata": {},
     "output_type": "execute_result"
    }
   ],
   "source": [
    "os.path.join(directory_path, files[0])"
   ]
  },
  {
   "cell_type": "code",
   "execution_count": 55,
   "metadata": {},
   "outputs": [
    {
     "name": "stderr",
     "output_type": "stream",
     "text": [
      "  0%|          | 0/2 [00:00<?, ?it/s]"
     ]
    },
    {
     "name": "stdout",
     "output_type": "stream",
     "text": [
      "{'error': 'Rate limit reached. You reached free usage limit (reset hourly). Please subscribe to a plan at https://huggingface.co/pricing to use the API at this rate'}\n"
     ]
    },
    {
     "name": "stderr",
     "output_type": "stream",
     "text": [
      "\n"
     ]
    },
    {
     "ename": "KeyError",
     "evalue": "0",
     "output_type": "error",
     "traceback": [
      "\u001b[0;31m---------------------------------------------------------------------------\u001b[0m",
      "\u001b[0;31mKeyError\u001b[0m                                  Traceback (most recent call last)",
      "Cell \u001b[0;32mIn[55], line 6\u001b[0m\n\u001b[1;32m      4\u001b[0m output \u001b[38;5;241m=\u001b[39m query(img)\n\u001b[1;32m      5\u001b[0m \u001b[38;5;28mprint\u001b[39m(output)\n\u001b[0;32m----> 6\u001b[0m output \u001b[38;5;241m=\u001b[39m \u001b[43moutput\u001b[49m\u001b[43m[\u001b[49m\u001b[38;5;241;43m0\u001b[39;49m\u001b[43m]\u001b[49m[\u001b[38;5;124m'\u001b[39m\u001b[38;5;124mgenerated_text\u001b[39m\u001b[38;5;124m'\u001b[39m]\n\u001b[1;32m      7\u001b[0m img_to_description[file] \u001b[38;5;241m=\u001b[39m output\n",
      "\u001b[0;31mKeyError\u001b[0m: 0"
     ]
    }
   ],
   "source": [
    "img_to_description = dict()\n",
    "for file in tqdm(files):\n",
    "    img = os.path.join(directory_path, file)\n",
    "    output = query(img)[0]['generated_text']\n",
    "    img_to_description[file] = output"
   ]
  },
  {
   "cell_type": "code",
   "execution_count": 59,
   "metadata": {},
   "outputs": [],
   "source": [
    "# with open('img_to_description.json', 'w', encoding='utf-8') as file:\n",
    "#     json.dump(img_to_description, file) "
   ]
  },
  {
   "cell_type": "markdown",
   "metadata": {},
   "source": [
    "Read captions of memes"
   ]
  },
  {
   "cell_type": "markdown",
   "metadata": {},
   "source": [
    "In test there should be images not seen in training."
   ]
  },
  {
   "cell_type": "markdown",
   "metadata": {},
   "source": [
    "### Preparing data for training\n",
    "\n",
    "Extract memes' captions. "
   ]
  },
  {
   "cell_type": "code",
   "execution_count": 3,
   "metadata": {},
   "outputs": [],
   "source": [
    "from transformers import AutoTokenizer, AutoModelForSeq2SeqLM, default_data_collator, get_linear_schedule_with_warmup\n",
    "from peft import get_peft_config, get_peft_model, get_peft_model_state_dict, PrefixTuningConfig, TaskType\n",
    "from datasets import load_dataset\n",
    "from torch.utils.data import DataLoader\n",
    "from tqdm import tqdm\n",
    "import torch\n",
    "from datasets import Dataset\n",
    "import pandas as pd\n",
    "from collections import defaultdict, Counter\n",
    "import matplotlib.pyplot as plt"
   ]
  },
  {
   "cell_type": "code",
   "execution_count": 4,
   "metadata": {},
   "outputs": [
    {
     "name": "stdout",
     "output_type": "stream",
     "text": [
      "mps\n"
     ]
    }
   ],
   "source": [
    "os.environ[\"TOKENIZERS_PARALLELISM\"] = \"false\"\n",
    "device = torch.device(\"mps\" if torch.backends.mps.is_available() else \"cpu\")\n",
    "print(device)"
   ]
  },
  {
   "cell_type": "code",
   "execution_count": 76,
   "metadata": {},
   "outputs": [],
   "source": [
    "with open(\"memes900k/captions.txt\", \"r\", encoding='utf-8') as file:\n",
    "    captions = file.readlines()"
   ]
  },
  {
   "cell_type": "code",
   "execution_count": 82,
   "metadata": {},
   "outputs": [],
   "source": [
    "with open(\"memes900k/templates.txt\", \"r\", encoding='utf-8') as file:\n",
    "    templates = file.readlines()"
   ]
  },
  {
   "cell_type": "markdown",
   "metadata": {},
   "source": [
    "Need to preprocess the captions so that the meme name is the same as the name of the corresponding image meme"
   ]
  },
  {
   "cell_type": "code",
   "execution_count": 94,
   "metadata": {},
   "outputs": [
    {
     "data": {
      "text/plain": [
       "'y y y y y y y y y y y y y y y y y y y'"
      ]
     },
     "execution_count": 94,
     "metadata": {},
     "output_type": "execute_result"
    }
   ],
   "source": [
    "img_to_description['y-u-no.jpg']"
   ]
  },
  {
   "cell_type": "code",
   "execution_count": 108,
   "metadata": {},
   "outputs": [],
   "source": [
    "meme_properties = dict()\n",
    "for i in range(len(templates)):\n",
    "    line = templates[i].split('\\t')\n",
    "    name = line[0]\n",
    "    nickname = line[1].strip(\"/\").lower()\n",
    "    file_path = nickname+'.jpg'\n",
    "    meme_properties[name] = {}\n",
    "    meme_properties[name]['nickname'] = nickname\n",
    "    meme_properties[name]['file_path'] = file_path\n",
    "    meme_properties[name]['description'] = img_to_description[file_path]\n",
    "    meme_properties[name]['captions'] = []"
   ]
  },
  {
   "cell_type": "code",
   "execution_count": 111,
   "metadata": {},
   "outputs": [],
   "source": [
    "for i in range(len(captions)):\n",
    "    line = captions[i].split('\\t')\n",
    "    name = line[0]\n",
    "    caption = line[-1].strip(\"\\n\")\n",
    "    meme_properties[name]['captions'].append(caption)"
   ]
  },
  {
   "cell_type": "code",
   "execution_count": 117,
   "metadata": {},
   "outputs": [],
   "source": [
    "# with open('meme_properties.json', 'w', encoding='utf-8') as file:\n",
    "#     json.dump(meme_properties, file)"
   ]
  },
  {
   "cell_type": "markdown",
   "metadata": {},
   "source": [
    "Now let's create a .csv file with descriptions of memes as input and caption as output"
   ]
  },
  {
   "cell_type": "markdown",
   "metadata": {},
   "source": [
    "Had to describe one file with another model since its generated description was \"y y y y y y y y y y y y y y y y y y y\""
   ]
  },
  {
   "cell_type": "code",
   "execution_count": 120,
   "metadata": {},
   "outputs": [],
   "source": [
    "df = pd.DataFrame(columns=['descriptions', 'captions'])"
   ]
  },
  {
   "cell_type": "code",
   "execution_count": 121,
   "metadata": {},
   "outputs": [
    {
     "ename": "KeyboardInterrupt",
     "evalue": "",
     "output_type": "error",
     "traceback": [
      "\u001b[0;31m---------------------------------------------------------------------------\u001b[0m",
      "\u001b[0;31mKeyError\u001b[0m                                  Traceback (most recent call last)",
      "File \u001b[0;32m~/Downloads/BMW_intern_GenAI_coding_task/.bmw_env/lib/python3.11/site-packages/pandas/core/indexes/base.py:3805\u001b[0m, in \u001b[0;36mIndex.get_loc\u001b[0;34m(self, key)\u001b[0m\n\u001b[1;32m   3804\u001b[0m \u001b[38;5;28;01mtry\u001b[39;00m:\n\u001b[0;32m-> 3805\u001b[0m     \u001b[38;5;28;01mreturn\u001b[39;00m \u001b[38;5;28;43mself\u001b[39;49m\u001b[38;5;241;43m.\u001b[39;49m\u001b[43m_engine\u001b[49m\u001b[38;5;241;43m.\u001b[39;49m\u001b[43mget_loc\u001b[49m\u001b[43m(\u001b[49m\u001b[43mcasted_key\u001b[49m\u001b[43m)\u001b[49m\n\u001b[1;32m   3806\u001b[0m \u001b[38;5;28;01mexcept\u001b[39;00m \u001b[38;5;167;01mKeyError\u001b[39;00m \u001b[38;5;28;01mas\u001b[39;00m err:\n",
      "File \u001b[0;32mindex.pyx:167\u001b[0m, in \u001b[0;36mpandas._libs.index.IndexEngine.get_loc\u001b[0;34m()\u001b[0m\n",
      "File \u001b[0;32mindex.pyx:196\u001b[0m, in \u001b[0;36mpandas._libs.index.IndexEngine.get_loc\u001b[0;34m()\u001b[0m\n",
      "File \u001b[0;32mpandas/_libs/hashtable_class_helper.pxi:2606\u001b[0m, in \u001b[0;36mpandas._libs.hashtable.Int64HashTable.get_item\u001b[0;34m()\u001b[0m\n",
      "File \u001b[0;32mpandas/_libs/hashtable_class_helper.pxi:2630\u001b[0m, in \u001b[0;36mpandas._libs.hashtable.Int64HashTable.get_item\u001b[0;34m()\u001b[0m\n",
      "\u001b[0;31mKeyError\u001b[0m: 696096",
      "\nDuring handling of the above exception, another exception occurred:\n",
      "\u001b[0;31mKeyboardInterrupt\u001b[0m                         Traceback (most recent call last)",
      "Cell \u001b[0;32mIn[121], line 5\u001b[0m\n\u001b[1;32m      3\u001b[0m descr \u001b[38;5;241m=\u001b[39m meme_properties[meme][\u001b[38;5;124m'\u001b[39m\u001b[38;5;124mdescription\u001b[39m\u001b[38;5;124m'\u001b[39m]\n\u001b[1;32m      4\u001b[0m \u001b[38;5;28;01mfor\u001b[39;00m caption \u001b[38;5;129;01min\u001b[39;00m meme_properties[meme][\u001b[38;5;124m'\u001b[39m\u001b[38;5;124mcaptions\u001b[39m\u001b[38;5;124m'\u001b[39m]:\n\u001b[0;32m----> 5\u001b[0m     \u001b[43mdf\u001b[49m\u001b[38;5;241;43m.\u001b[39;49m\u001b[43mloc\u001b[49m\u001b[43m[\u001b[49m\u001b[43mi\u001b[49m\u001b[43m]\u001b[49m \u001b[38;5;241m=\u001b[39m [descr, caption]\n\u001b[1;32m      6\u001b[0m     i\u001b[38;5;241m+\u001b[39m\u001b[38;5;241m=\u001b[39m\u001b[38;5;241m1\u001b[39m\n",
      "File \u001b[0;32m~/Downloads/BMW_intern_GenAI_coding_task/.bmw_env/lib/python3.11/site-packages/pandas/core/indexing.py:907\u001b[0m, in \u001b[0;36m_LocationIndexer.__setitem__\u001b[0;34m(self, key, value)\u001b[0m\n\u001b[1;32m    905\u001b[0m     maybe_callable \u001b[38;5;241m=\u001b[39m com\u001b[38;5;241m.\u001b[39mapply_if_callable(key, \u001b[38;5;28mself\u001b[39m\u001b[38;5;241m.\u001b[39mobj)\n\u001b[1;32m    906\u001b[0m     key \u001b[38;5;241m=\u001b[39m \u001b[38;5;28mself\u001b[39m\u001b[38;5;241m.\u001b[39m_check_deprecated_callable_usage(key, maybe_callable)\n\u001b[0;32m--> 907\u001b[0m indexer \u001b[38;5;241m=\u001b[39m \u001b[38;5;28;43mself\u001b[39;49m\u001b[38;5;241;43m.\u001b[39;49m\u001b[43m_get_setitem_indexer\u001b[49m\u001b[43m(\u001b[49m\u001b[43mkey\u001b[49m\u001b[43m)\u001b[49m\n\u001b[1;32m    908\u001b[0m \u001b[38;5;28mself\u001b[39m\u001b[38;5;241m.\u001b[39m_has_valid_setitem_indexer(key)\n\u001b[1;32m    910\u001b[0m iloc \u001b[38;5;241m=\u001b[39m \u001b[38;5;28mself\u001b[39m \u001b[38;5;28;01mif\u001b[39;00m \u001b[38;5;28mself\u001b[39m\u001b[38;5;241m.\u001b[39mname \u001b[38;5;241m==\u001b[39m \u001b[38;5;124m\"\u001b[39m\u001b[38;5;124miloc\u001b[39m\u001b[38;5;124m\"\u001b[39m \u001b[38;5;28;01melse\u001b[39;00m \u001b[38;5;28mself\u001b[39m\u001b[38;5;241m.\u001b[39mobj\u001b[38;5;241m.\u001b[39miloc\n",
      "File \u001b[0;32m~/Downloads/BMW_intern_GenAI_coding_task/.bmw_env/lib/python3.11/site-packages/pandas/core/indexing.py:780\u001b[0m, in \u001b[0;36m_LocationIndexer._get_setitem_indexer\u001b[0;34m(self, key)\u001b[0m\n\u001b[1;32m    776\u001b[0m \u001b[38;5;28;01mif\u001b[39;00m \u001b[38;5;28misinstance\u001b[39m(key, \u001b[38;5;28mrange\u001b[39m):\n\u001b[1;32m    777\u001b[0m     \u001b[38;5;66;03m# GH#45479 test_loc_setitem_range_key\u001b[39;00m\n\u001b[1;32m    778\u001b[0m     key \u001b[38;5;241m=\u001b[39m \u001b[38;5;28mlist\u001b[39m(key)\n\u001b[0;32m--> 780\u001b[0m \u001b[38;5;28;01mreturn\u001b[39;00m \u001b[38;5;28;43mself\u001b[39;49m\u001b[38;5;241;43m.\u001b[39;49m\u001b[43m_convert_to_indexer\u001b[49m\u001b[43m(\u001b[49m\u001b[43mkey\u001b[49m\u001b[43m,\u001b[49m\u001b[43m \u001b[49m\u001b[43maxis\u001b[49m\u001b[38;5;241;43m=\u001b[39;49m\u001b[38;5;241;43m0\u001b[39;49m\u001b[43m)\u001b[49m\n",
      "File \u001b[0;32m~/Downloads/BMW_intern_GenAI_coding_task/.bmw_env/lib/python3.11/site-packages/pandas/core/indexing.py:1493\u001b[0m, in \u001b[0;36m_LocIndexer._convert_to_indexer\u001b[0;34m(self, key, axis)\u001b[0m\n\u001b[1;32m   1486\u001b[0m \u001b[38;5;28;01mif\u001b[39;00m is_scalar(key) \u001b[38;5;129;01mor\u001b[39;00m (\n\u001b[1;32m   1487\u001b[0m     \u001b[38;5;28misinstance\u001b[39m(labels, MultiIndex) \u001b[38;5;129;01mand\u001b[39;00m is_hashable(key) \u001b[38;5;129;01mand\u001b[39;00m \u001b[38;5;129;01mnot\u001b[39;00m contains_slice\n\u001b[1;32m   1488\u001b[0m ):\n\u001b[1;32m   1489\u001b[0m     \u001b[38;5;66;03m# Otherwise get_loc will raise InvalidIndexError\u001b[39;00m\n\u001b[1;32m   1490\u001b[0m \n\u001b[1;32m   1491\u001b[0m     \u001b[38;5;66;03m# if we are a label return me\u001b[39;00m\n\u001b[1;32m   1492\u001b[0m     \u001b[38;5;28;01mtry\u001b[39;00m:\n\u001b[0;32m-> 1493\u001b[0m         \u001b[38;5;28;01mreturn\u001b[39;00m \u001b[43mlabels\u001b[49m\u001b[38;5;241;43m.\u001b[39;49m\u001b[43mget_loc\u001b[49m\u001b[43m(\u001b[49m\u001b[43mkey\u001b[49m\u001b[43m)\u001b[49m\n\u001b[1;32m   1494\u001b[0m     \u001b[38;5;28;01mexcept\u001b[39;00m \u001b[38;5;167;01mLookupError\u001b[39;00m:\n\u001b[1;32m   1495\u001b[0m         \u001b[38;5;28;01mif\u001b[39;00m \u001b[38;5;28misinstance\u001b[39m(key, \u001b[38;5;28mtuple\u001b[39m) \u001b[38;5;129;01mand\u001b[39;00m \u001b[38;5;28misinstance\u001b[39m(labels, MultiIndex):\n",
      "File \u001b[0;32m~/Downloads/BMW_intern_GenAI_coding_task/.bmw_env/lib/python3.11/site-packages/pandas/core/indexes/base.py:3808\u001b[0m, in \u001b[0;36mIndex.get_loc\u001b[0;34m(self, key)\u001b[0m\n\u001b[1;32m   3805\u001b[0m     \u001b[38;5;28;01mreturn\u001b[39;00m \u001b[38;5;28mself\u001b[39m\u001b[38;5;241m.\u001b[39m_engine\u001b[38;5;241m.\u001b[39mget_loc(casted_key)\n\u001b[1;32m   3806\u001b[0m \u001b[38;5;28;01mexcept\u001b[39;00m \u001b[38;5;167;01mKeyError\u001b[39;00m \u001b[38;5;28;01mas\u001b[39;00m err:\n\u001b[1;32m   3807\u001b[0m     \u001b[38;5;28;01mif\u001b[39;00m \u001b[38;5;28misinstance\u001b[39m(casted_key, \u001b[38;5;28mslice\u001b[39m) \u001b[38;5;129;01mor\u001b[39;00m (\n\u001b[0;32m-> 3808\u001b[0m         \u001b[38;5;28misinstance\u001b[39m(casted_key, abc\u001b[38;5;241m.\u001b[39mIterable)\n\u001b[1;32m   3809\u001b[0m         \u001b[38;5;129;01mand\u001b[39;00m \u001b[38;5;28many\u001b[39m(\u001b[38;5;28misinstance\u001b[39m(x, \u001b[38;5;28mslice\u001b[39m) \u001b[38;5;28;01mfor\u001b[39;00m x \u001b[38;5;129;01min\u001b[39;00m casted_key)\n\u001b[1;32m   3810\u001b[0m     ):\n\u001b[1;32m   3811\u001b[0m         \u001b[38;5;28;01mraise\u001b[39;00m InvalidIndexError(key)\n\u001b[1;32m   3812\u001b[0m     \u001b[38;5;28;01mraise\u001b[39;00m \u001b[38;5;167;01mKeyError\u001b[39;00m(key) \u001b[38;5;28;01mfrom\u001b[39;00m \u001b[38;5;21;01merr\u001b[39;00m\n",
      "File \u001b[0;32m<frozen abc>:117\u001b[0m, in \u001b[0;36m__instancecheck__\u001b[0;34m(cls, instance)\u001b[0m\n",
      "\u001b[0;31mKeyboardInterrupt\u001b[0m: "
     ]
    }
   ],
   "source": [
    "i = 0\n",
    "for meme in meme_properties:\n",
    "    descr = meme_properties[meme]['description']\n",
    "    for caption in meme_properties[meme]['captions']:\n",
    "        df.loc[i] = [descr, caption]\n",
    "        i+=1"
   ]
  },
  {
   "cell_type": "code",
   "execution_count": 129,
   "metadata": {},
   "outputs": [
    {
     "data": {
      "text/html": [
       "<div>\n",
       "<style scoped>\n",
       "    .dataframe tbody tr th:only-of-type {\n",
       "        vertical-align: middle;\n",
       "    }\n",
       "\n",
       "    .dataframe tbody tr th {\n",
       "        vertical-align: top;\n",
       "    }\n",
       "\n",
       "    .dataframe thead th {\n",
       "        text-align: right;\n",
       "    }\n",
       "</style>\n",
       "<table border=\"1\" class=\"dataframe\">\n",
       "  <thead>\n",
       "    <tr style=\"text-align: right;\">\n",
       "      <th></th>\n",
       "      <th>descriptions</th>\n",
       "      <th>captions</th>\n",
       "    </tr>\n",
       "  </thead>\n",
       "  <tbody>\n",
       "    <tr>\n",
       "      <th>0</th>\n",
       "      <td>a simple, stylized drawing of a face with a ve...</td>\n",
       "      <td>commercial &lt;sep&gt; y u no same volume as show!?</td>\n",
       "    </tr>\n",
       "    <tr>\n",
       "      <th>1</th>\n",
       "      <td>a simple, stylized drawing of a face with a ve...</td>\n",
       "      <td>Victoria &lt;sep&gt; y u no tell us your secret?!</td>\n",
       "    </tr>\n",
       "    <tr>\n",
       "      <th>2</th>\n",
       "      <td>a simple, stylized drawing of a face with a ve...</td>\n",
       "      <td>KONY &lt;sep&gt; Y u no take justin bieber</td>\n",
       "    </tr>\n",
       "    <tr>\n",
       "      <th>3</th>\n",
       "      <td>a simple, stylized drawing of a face with a ve...</td>\n",
       "      <td>TED &lt;sep&gt; y u no tell us how you met their mother</td>\n",
       "    </tr>\n",
       "    <tr>\n",
       "      <th>4</th>\n",
       "      <td>a simple, stylized drawing of a face with a ve...</td>\n",
       "      <td>Google &lt;sep&gt; Y U NO LET ME FINISH TYPING?</td>\n",
       "    </tr>\n",
       "    <tr>\n",
       "      <th>...</th>\n",
       "      <td>...</td>\n",
       "      <td>...</td>\n",
       "    </tr>\n",
       "    <tr>\n",
       "      <th>696091</th>\n",
       "      <td>a cartoon of two men standing in front of a bl...</td>\n",
       "      <td>Uh huh huh &lt;sep&gt; you said 69</td>\n",
       "    </tr>\n",
       "    <tr>\n",
       "      <th>696092</th>\n",
       "      <td>a cartoon of two men standing in front of a bl...</td>\n",
       "      <td>huh huh huh &lt;sep&gt; she said \"hard\"</td>\n",
       "    </tr>\n",
       "    <tr>\n",
       "      <th>696093</th>\n",
       "      <td>a cartoon of two men standing in front of a bl...</td>\n",
       "      <td>I got wood &lt;sep&gt; Yeah</td>\n",
       "    </tr>\n",
       "    <tr>\n",
       "      <th>696094</th>\n",
       "      <td>a cartoon of two men standing in front of a bl...</td>\n",
       "      <td>HU HU HU HU &lt;sep&gt; She said \"balls.\"</td>\n",
       "    </tr>\n",
       "    <tr>\n",
       "      <th>696095</th>\n",
       "      <td>a cartoon of two men standing in front of a bl...</td>\n",
       "      <td>Uhhhh &lt;sep&gt; Something</td>\n",
       "    </tr>\n",
       "  </tbody>\n",
       "</table>\n",
       "<p>696096 rows × 2 columns</p>\n",
       "</div>"
      ],
      "text/plain": [
       "                                             descriptions  \\\n",
       "0       a simple, stylized drawing of a face with a ve...   \n",
       "1       a simple, stylized drawing of a face with a ve...   \n",
       "2       a simple, stylized drawing of a face with a ve...   \n",
       "3       a simple, stylized drawing of a face with a ve...   \n",
       "4       a simple, stylized drawing of a face with a ve...   \n",
       "...                                                   ...   \n",
       "696091  a cartoon of two men standing in front of a bl...   \n",
       "696092  a cartoon of two men standing in front of a bl...   \n",
       "696093  a cartoon of two men standing in front of a bl...   \n",
       "696094  a cartoon of two men standing in front of a bl...   \n",
       "696095  a cartoon of two men standing in front of a bl...   \n",
       "\n",
       "                                                 captions  \n",
       "0           commercial <sep> y u no same volume as show!?  \n",
       "1             Victoria <sep> y u no tell us your secret?!  \n",
       "2                    KONY <sep> Y u no take justin bieber  \n",
       "3       TED <sep> y u no tell us how you met their mother  \n",
       "4               Google <sep> Y U NO LET ME FINISH TYPING?  \n",
       "...                                                   ...  \n",
       "696091                       Uh huh huh <sep> you said 69  \n",
       "696092                  huh huh huh <sep> she said \"hard\"  \n",
       "696093                              I got wood <sep> Yeah  \n",
       "696094                HU HU HU HU <sep> She said \"balls.\"  \n",
       "696095                              Uhhhh <sep> Something  \n",
       "\n",
       "[696096 rows x 2 columns]"
      ]
     },
     "execution_count": 129,
     "metadata": {},
     "output_type": "execute_result"
    }
   ],
   "source": [
    "df"
   ]
  },
  {
   "cell_type": "code",
   "execution_count": 131,
   "metadata": {},
   "outputs": [],
   "source": [
    "i = 696096\n",
    "meme = \"Beavis and butthead\"\n",
    "descr = meme_properties[meme]['description']\n",
    "for j in range(96, len(meme_properties[meme]['captions'])):\n",
    "    caption = meme_properties[meme]['captions'][j]\n",
    "    df.loc[i] = [descr, caption]\n",
    "    i+=1"
   ]
  },
  {
   "cell_type": "code",
   "execution_count": 136,
   "metadata": {},
   "outputs": [
    {
     "name": "stderr",
     "output_type": "stream",
     "text": [
      "100%|██████████| 3000/3000 [00:49<00:00, 61.04it/s]\n",
      "100%|██████████| 3000/3000 [00:46<00:00, 63.97it/s]\n",
      "100%|██████████| 3000/3000 [00:47<00:00, 62.66it/s]\n",
      "100%|██████████| 3000/3000 [00:50<00:00, 59.74it/s]\n",
      "100%|██████████| 3000/3000 [00:48<00:00, 61.65it/s]\n",
      "100%|██████████| 3000/3000 [00:49<00:00, 60.86it/s]\n",
      "100%|██████████| 3000/3000 [00:49<00:00, 60.95it/s]\n",
      "100%|██████████| 3000/3000 [00:49<00:00, 61.01it/s]\n",
      "100%|██████████| 3000/3000 [00:50<00:00, 59.78it/s]\n",
      "100%|██████████| 3000/3000 [00:50<00:00, 59.99it/s]\n",
      "100%|██████████| 3000/3000 [00:50<00:00, 59.52it/s]\n",
      "100%|██████████| 3000/3000 [00:50<00:00, 59.33it/s]\n",
      "100%|██████████| 3000/3000 [00:50<00:00, 59.69it/s]\n",
      "100%|██████████| 3000/3000 [00:51<00:00, 58.76it/s]\n",
      "100%|██████████| 3000/3000 [00:51<00:00, 58.39it/s]\n",
      "100%|██████████| 3000/3000 [00:51<00:00, 58.68it/s]\n",
      "100%|██████████| 3000/3000 [00:50<00:00, 59.35it/s]\n",
      "100%|██████████| 3000/3000 [00:50<00:00, 59.50it/s]\n",
      "100%|██████████| 3000/3000 [00:50<00:00, 59.49it/s]\n",
      "100%|██████████| 3000/3000 [00:51<00:00, 58.50it/s]\n",
      "100%|██████████| 3000/3000 [00:50<00:00, 59.10it/s]\n",
      "100%|██████████| 3000/3000 [00:51<00:00, 58.32it/s]\n",
      "100%|██████████| 3000/3000 [00:51<00:00, 58.35it/s]\n",
      "100%|██████████| 3000/3000 [00:51<00:00, 58.35it/s]\n",
      "100%|██████████| 3000/3000 [00:51<00:00, 57.86it/s]\n",
      "100%|██████████| 3000/3000 [00:52<00:00, 57.41it/s]\n",
      "100%|██████████| 3000/3000 [00:51<00:00, 58.03it/s]\n",
      "100%|██████████| 3000/3000 [00:52<00:00, 56.84it/s]\n",
      "100%|██████████| 3000/3000 [00:52<00:00, 57.21it/s]\n",
      "100%|██████████| 3000/3000 [00:52<00:00, 56.61it/s]\n",
      "100%|██████████| 3000/3000 [00:53<00:00, 56.18it/s]\n",
      "100%|██████████| 3000/3000 [00:52<00:00, 57.03it/s]\n",
      "100%|██████████| 3000/3000 [00:53<00:00, 56.05it/s]\n",
      "100%|██████████| 3000/3000 [00:53<00:00, 55.86it/s]\n",
      "100%|██████████| 3000/3000 [00:53<00:00, 56.28it/s]\n",
      "100%|██████████| 3000/3000 [00:54<00:00, 55.47it/s]\n",
      "100%|██████████| 3000/3000 [00:55<00:00, 54.12it/s]\n",
      "100%|██████████| 3000/3000 [00:54<00:00, 55.05it/s]\n",
      "100%|██████████| 3000/3000 [00:54<00:00, 54.98it/s]\n",
      "100%|██████████| 3000/3000 [00:54<00:00, 54.67it/s]\n",
      "100%|██████████| 3000/3000 [00:54<00:00, 54.64it/s]\n",
      "100%|██████████| 3000/3000 [00:56<00:00, 53.01it/s]\n",
      "100%|██████████| 3000/3000 [00:56<00:00, 52.67it/s]\n",
      "100%|██████████| 3000/3000 [00:57<00:00, 51.90it/s]\n",
      "100%|██████████| 3000/3000 [00:56<00:00, 52.74it/s]\n",
      "100%|██████████| 3000/3000 [00:57<00:00, 51.92it/s]\n",
      "100%|██████████| 3000/3000 [00:58<00:00, 51.60it/s]\n",
      "100%|██████████| 3000/3000 [00:57<00:00, 52.03it/s]\n",
      "100%|██████████| 3000/3000 [00:59<00:00, 50.78it/s]\n",
      "100%|██████████| 3000/3000 [01:00<00:00, 49.35it/s]\n",
      "100%|██████████| 3000/3000 [00:59<00:00, 50.13it/s]\n",
      "100%|██████████| 3000/3000 [01:00<00:00, 49.92it/s]\n",
      "100%|██████████| 3000/3000 [01:00<00:00, 49.76it/s]\n",
      "100%|██████████| 3000/3000 [01:01<00:00, 48.91it/s]\n",
      "100%|██████████| 3000/3000 [01:02<00:00, 48.38it/s]\n",
      "100%|██████████| 3000/3000 [01:02<00:00, 47.90it/s]\n",
      "100%|██████████| 3000/3000 [01:02<00:00, 47.67it/s]\n",
      "100%|██████████| 3000/3000 [01:01<00:00, 48.77it/s]\n",
      "100%|██████████| 3000/3000 [01:00<00:00, 49.19it/s]\n",
      "100%|██████████| 3000/3000 [01:01<00:00, 49.15it/s]\n",
      "100%|██████████| 3000/3000 [01:01<00:00, 48.45it/s]\n",
      "100%|██████████| 3000/3000 [01:02<00:00, 47.68it/s]\n",
      "100%|██████████| 3000/3000 [01:03<00:00, 47.25it/s]\n",
      "100%|██████████| 3000/3000 [01:02<00:00, 47.79it/s]\n",
      "100%|██████████| 3000/3000 [01:03<00:00, 47.54it/s]\n",
      "100%|██████████| 3000/3000 [01:03<00:00, 47.34it/s]\n",
      "100%|██████████| 3000/3000 [01:04<00:00, 46.57it/s]\n",
      "100%|██████████| 67/67 [1:01:28<00:00, 55.05s/it]\n"
     ]
    }
   ],
   "source": [
    "for m in tqdm(range(233, len(list(meme_properties.keys())))):\n",
    "    meme = list(meme_properties.keys())[m]\n",
    "    descr = meme_properties[meme]['description']\n",
    "    for caption in tqdm(meme_properties[meme]['captions']):\n",
    "        df.loc[i] = [descr, caption]\n",
    "        i+=1"
   ]
  },
  {
   "cell_type": "code",
   "execution_count": 138,
   "metadata": {},
   "outputs": [],
   "source": [
    "# df.to_csv(\"dataset_descr_captions.csv\", index=False)"
   ]
  },
  {
   "cell_type": "code",
   "execution_count": 141,
   "metadata": {},
   "outputs": [
    {
     "data": {
      "text/html": [
       "<div>\n",
       "<style scoped>\n",
       "    .dataframe tbody tr th:only-of-type {\n",
       "        vertical-align: middle;\n",
       "    }\n",
       "\n",
       "    .dataframe tbody tr th {\n",
       "        vertical-align: top;\n",
       "    }\n",
       "\n",
       "    .dataframe thead th {\n",
       "        text-align: right;\n",
       "    }\n",
       "</style>\n",
       "<table border=\"1\" class=\"dataframe\">\n",
       "  <thead>\n",
       "    <tr style=\"text-align: right;\">\n",
       "      <th></th>\n",
       "      <th>descriptions</th>\n",
       "      <th>captions</th>\n",
       "    </tr>\n",
       "  </thead>\n",
       "  <tbody>\n",
       "    <tr>\n",
       "      <th>0</th>\n",
       "      <td>a simple, stylized drawing of a face with a ve...</td>\n",
       "      <td>commercial &lt;sep&gt; y u no same volume as show!?</td>\n",
       "    </tr>\n",
       "    <tr>\n",
       "      <th>1</th>\n",
       "      <td>a simple, stylized drawing of a face with a ve...</td>\n",
       "      <td>Victoria &lt;sep&gt; y u no tell us your secret?!</td>\n",
       "    </tr>\n",
       "    <tr>\n",
       "      <th>2</th>\n",
       "      <td>a simple, stylized drawing of a face with a ve...</td>\n",
       "      <td>KONY &lt;sep&gt; Y u no take justin bieber</td>\n",
       "    </tr>\n",
       "    <tr>\n",
       "      <th>3</th>\n",
       "      <td>a simple, stylized drawing of a face with a ve...</td>\n",
       "      <td>TED &lt;sep&gt; y u no tell us how you met their mother</td>\n",
       "    </tr>\n",
       "    <tr>\n",
       "      <th>4</th>\n",
       "      <td>a simple, stylized drawing of a face with a ve...</td>\n",
       "      <td>Google &lt;sep&gt; Y U NO LET ME FINISH TYPING?</td>\n",
       "    </tr>\n",
       "    <tr>\n",
       "      <th>...</th>\n",
       "      <td>...</td>\n",
       "      <td>...</td>\n",
       "    </tr>\n",
       "    <tr>\n",
       "      <th>899995</th>\n",
       "      <td>the dark knight rises</td>\n",
       "      <td>When reading time commences &lt;sep&gt; you have my ...</td>\n",
       "    </tr>\n",
       "    <tr>\n",
       "      <th>899996</th>\n",
       "      <td>the dark knight rises</td>\n",
       "      <td>only when my mind is in ashes &lt;sep&gt; do you hav...</td>\n",
       "    </tr>\n",
       "    <tr>\n",
       "      <th>899997</th>\n",
       "      <td>the dark knight rises</td>\n",
       "      <td>when facebook has emotions &lt;sep&gt; you have my p...</td>\n",
       "    </tr>\n",
       "    <tr>\n",
       "      <th>899998</th>\n",
       "      <td>the dark knight rises</td>\n",
       "      <td>WHEN YOU HAVE FIXED YOUR GRAMMAR &lt;sep&gt; then yo...</td>\n",
       "    </tr>\n",
       "    <tr>\n",
       "      <th>899999</th>\n",
       "      <td>the dark knight rises</td>\n",
       "      <td>You have my permission to piss &lt;sep&gt; &lt;emp&gt;</td>\n",
       "    </tr>\n",
       "  </tbody>\n",
       "</table>\n",
       "<p>900000 rows × 2 columns</p>\n",
       "</div>"
      ],
      "text/plain": [
       "                                             descriptions  \\\n",
       "0       a simple, stylized drawing of a face with a ve...   \n",
       "1       a simple, stylized drawing of a face with a ve...   \n",
       "2       a simple, stylized drawing of a face with a ve...   \n",
       "3       a simple, stylized drawing of a face with a ve...   \n",
       "4       a simple, stylized drawing of a face with a ve...   \n",
       "...                                                   ...   \n",
       "899995                              the dark knight rises   \n",
       "899996                              the dark knight rises   \n",
       "899997                              the dark knight rises   \n",
       "899998                              the dark knight rises   \n",
       "899999                              the dark knight rises   \n",
       "\n",
       "                                                 captions  \n",
       "0           commercial <sep> y u no same volume as show!?  \n",
       "1             Victoria <sep> y u no tell us your secret?!  \n",
       "2                    KONY <sep> Y u no take justin bieber  \n",
       "3       TED <sep> y u no tell us how you met their mother  \n",
       "4               Google <sep> Y U NO LET ME FINISH TYPING?  \n",
       "...                                                   ...  \n",
       "899995  When reading time commences <sep> you have my ...  \n",
       "899996  only when my mind is in ashes <sep> do you hav...  \n",
       "899997  when facebook has emotions <sep> you have my p...  \n",
       "899998  WHEN YOU HAVE FIXED YOUR GRAMMAR <sep> then yo...  \n",
       "899999         You have my permission to piss <sep> <emp>  \n",
       "\n",
       "[900000 rows x 2 columns]"
      ]
     },
     "execution_count": 141,
     "metadata": {},
     "output_type": "execute_result"
    }
   ],
   "source": [
    "df[df['descriptions']]"
   ]
  },
  {
   "cell_type": "markdown",
   "metadata": {},
   "source": [
    "Some descriptions generated by BLIP ended up messy. E.g.\n",
    "fusosososososososososososososososososo',\n",
    "\n",
    " 'gan gan gan gan gan gan gan gan gan gan gan gan gan gan gan gan gan gan gan',\n",
    "\n",
    " 'gro gro gro gro gro gro gro gro gro gr'\n",
    " \n",
    " Define a function to only consider descriptions that don't repeat."
   ]
  },
  {
   "cell_type": "code",
   "execution_count": 157,
   "metadata": {},
   "outputs": [],
   "source": [
    "# create a function\n",
    "def is_not_garbage_description(d_string):\n",
    "    d_string = d_string.split()\n",
    "    try:\n",
    "        if d_string[-2] == d_string[-3] == d_string[-4]:\n",
    "            return False\n",
    "    except:\n",
    "        return True\n",
    "    else:\n",
    "        return True"
   ]
  },
  {
   "cell_type": "code",
   "execution_count": 158,
   "metadata": {},
   "outputs": [],
   "source": [
    "df_filtered = df[df['descriptions'].apply(is_not_garbage_description)]"
   ]
  },
  {
   "cell_type": "code",
   "execution_count": 159,
   "metadata": {},
   "outputs": [
    {
     "data": {
      "text/html": [
       "<div>\n",
       "<style scoped>\n",
       "    .dataframe tbody tr th:only-of-type {\n",
       "        vertical-align: middle;\n",
       "    }\n",
       "\n",
       "    .dataframe tbody tr th {\n",
       "        vertical-align: top;\n",
       "    }\n",
       "\n",
       "    .dataframe thead th {\n",
       "        text-align: right;\n",
       "    }\n",
       "</style>\n",
       "<table border=\"1\" class=\"dataframe\">\n",
       "  <thead>\n",
       "    <tr style=\"text-align: right;\">\n",
       "      <th></th>\n",
       "      <th>descriptions</th>\n",
       "      <th>captions</th>\n",
       "    </tr>\n",
       "  </thead>\n",
       "  <tbody>\n",
       "    <tr>\n",
       "      <th>0</th>\n",
       "      <td>a simple, stylized drawing of a face with a ve...</td>\n",
       "      <td>commercial &lt;sep&gt; y u no same volume as show!?</td>\n",
       "    </tr>\n",
       "    <tr>\n",
       "      <th>1</th>\n",
       "      <td>a simple, stylized drawing of a face with a ve...</td>\n",
       "      <td>Victoria &lt;sep&gt; y u no tell us your secret?!</td>\n",
       "    </tr>\n",
       "    <tr>\n",
       "      <th>2</th>\n",
       "      <td>a simple, stylized drawing of a face with a ve...</td>\n",
       "      <td>KONY &lt;sep&gt; Y u no take justin bieber</td>\n",
       "    </tr>\n",
       "    <tr>\n",
       "      <th>3</th>\n",
       "      <td>a simple, stylized drawing of a face with a ve...</td>\n",
       "      <td>TED &lt;sep&gt; y u no tell us how you met their mother</td>\n",
       "    </tr>\n",
       "    <tr>\n",
       "      <th>4</th>\n",
       "      <td>a simple, stylized drawing of a face with a ve...</td>\n",
       "      <td>Google &lt;sep&gt; Y U NO LET ME FINISH TYPING?</td>\n",
       "    </tr>\n",
       "    <tr>\n",
       "      <th>...</th>\n",
       "      <td>...</td>\n",
       "      <td>...</td>\n",
       "    </tr>\n",
       "    <tr>\n",
       "      <th>899995</th>\n",
       "      <td>the dark knight rises</td>\n",
       "      <td>When reading time commences &lt;sep&gt; you have my ...</td>\n",
       "    </tr>\n",
       "    <tr>\n",
       "      <th>899996</th>\n",
       "      <td>the dark knight rises</td>\n",
       "      <td>only when my mind is in ashes &lt;sep&gt; do you hav...</td>\n",
       "    </tr>\n",
       "    <tr>\n",
       "      <th>899997</th>\n",
       "      <td>the dark knight rises</td>\n",
       "      <td>when facebook has emotions &lt;sep&gt; you have my p...</td>\n",
       "    </tr>\n",
       "    <tr>\n",
       "      <th>899998</th>\n",
       "      <td>the dark knight rises</td>\n",
       "      <td>WHEN YOU HAVE FIXED YOUR GRAMMAR &lt;sep&gt; then yo...</td>\n",
       "    </tr>\n",
       "    <tr>\n",
       "      <th>899999</th>\n",
       "      <td>the dark knight rises</td>\n",
       "      <td>You have my permission to piss &lt;sep&gt; &lt;emp&gt;</td>\n",
       "    </tr>\n",
       "  </tbody>\n",
       "</table>\n",
       "<p>825000 rows × 2 columns</p>\n",
       "</div>"
      ],
      "text/plain": [
       "                                             descriptions  \\\n",
       "0       a simple, stylized drawing of a face with a ve...   \n",
       "1       a simple, stylized drawing of a face with a ve...   \n",
       "2       a simple, stylized drawing of a face with a ve...   \n",
       "3       a simple, stylized drawing of a face with a ve...   \n",
       "4       a simple, stylized drawing of a face with a ve...   \n",
       "...                                                   ...   \n",
       "899995                              the dark knight rises   \n",
       "899996                              the dark knight rises   \n",
       "899997                              the dark knight rises   \n",
       "899998                              the dark knight rises   \n",
       "899999                              the dark knight rises   \n",
       "\n",
       "                                                 captions  \n",
       "0           commercial <sep> y u no same volume as show!?  \n",
       "1             Victoria <sep> y u no tell us your secret?!  \n",
       "2                    KONY <sep> Y u no take justin bieber  \n",
       "3       TED <sep> y u no tell us how you met their mother  \n",
       "4               Google <sep> Y U NO LET ME FINISH TYPING?  \n",
       "...                                                   ...  \n",
       "899995  When reading time commences <sep> you have my ...  \n",
       "899996  only when my mind is in ashes <sep> do you hav...  \n",
       "899997  when facebook has emotions <sep> you have my p...  \n",
       "899998  WHEN YOU HAVE FIXED YOUR GRAMMAR <sep> then yo...  \n",
       "899999         You have my permission to piss <sep> <emp>  \n",
       "\n",
       "[825000 rows x 2 columns]"
      ]
     },
     "execution_count": 159,
     "metadata": {},
     "output_type": "execute_result"
    }
   ],
   "source": [
    "df_filtered"
   ]
  },
  {
   "cell_type": "code",
   "execution_count": 161,
   "metadata": {},
   "outputs": [],
   "source": [
    "# df_filtered.to_csv(\"df_filtered_descr_captions.csv\", index=False)"
   ]
  },
  {
   "cell_type": "code",
   "execution_count": 5,
   "metadata": {},
   "outputs": [],
   "source": [
    "df_filtered = pd.read_csv(\"df_filtered_descr_captions.csv\") "
   ]
  },
  {
   "cell_type": "markdown",
   "metadata": {},
   "source": [
    "We have 300 unique images with descriptions. Each has 3000 descriptions. Is it maybe too much?\n",
    "Maybe good if we want to generate with a specific template."
   ]
  },
  {
   "cell_type": "code",
   "execution_count": 7,
   "metadata": {},
   "outputs": [],
   "source": [
    "df_grouped = df_filtered.groupby('descriptions')['captions'].apply(lambda x: x.head(10)).reset_index()\n"
   ]
  },
  {
   "cell_type": "code",
   "execution_count": 8,
   "metadata": {},
   "outputs": [
    {
     "data": {
      "text/html": [
       "<div>\n",
       "<style scoped>\n",
       "    .dataframe tbody tr th:only-of-type {\n",
       "        vertical-align: middle;\n",
       "    }\n",
       "\n",
       "    .dataframe tbody tr th {\n",
       "        vertical-align: top;\n",
       "    }\n",
       "\n",
       "    .dataframe thead th {\n",
       "        text-align: right;\n",
       "    }\n",
       "</style>\n",
       "<table border=\"1\" class=\"dataframe\">\n",
       "  <thead>\n",
       "    <tr style=\"text-align: right;\">\n",
       "      <th></th>\n",
       "      <th>descriptions</th>\n",
       "      <th>level_1</th>\n",
       "      <th>captions</th>\n",
       "    </tr>\n",
       "  </thead>\n",
       "  <tbody>\n",
       "    <tr>\n",
       "      <th>0</th>\n",
       "      <td>a baby laughing</td>\n",
       "      <td>819000</td>\n",
       "      <td>i've got a surpise in my diaper &lt;sep&gt; and it's...</td>\n",
       "    </tr>\n",
       "    <tr>\n",
       "      <th>1</th>\n",
       "      <td>a baby laughing</td>\n",
       "      <td>819001</td>\n",
       "      <td>I WANT TO MAKE PLANS &lt;sep&gt; FOR OUR ANNIVERSARY</td>\n",
       "    </tr>\n",
       "    <tr>\n",
       "      <th>2</th>\n",
       "      <td>a baby laughing</td>\n",
       "      <td>819002</td>\n",
       "      <td>she can't see &lt;sep&gt; everybody reads this shiet!</td>\n",
       "    </tr>\n",
       "    <tr>\n",
       "      <th>3</th>\n",
       "      <td>a baby laughing</td>\n",
       "      <td>819003</td>\n",
       "      <td>I did it &lt;sep&gt; it's \"Legal\" !!!</td>\n",
       "    </tr>\n",
       "    <tr>\n",
       "      <th>4</th>\n",
       "      <td>a baby laughing</td>\n",
       "      <td>819004</td>\n",
       "      <td>I will burn your precious &lt;sep&gt; village</td>\n",
       "    </tr>\n",
       "    <tr>\n",
       "      <th>5</th>\n",
       "      <td>a baby laughing</td>\n",
       "      <td>819005</td>\n",
       "      <td>i'll tell that bitch i chant &lt;sep&gt; bitches lov...</td>\n",
       "    </tr>\n",
       "    <tr>\n",
       "      <th>6</th>\n",
       "      <td>a baby laughing</td>\n",
       "      <td>819006</td>\n",
       "      <td>martial law? &lt;sep&gt; sounds like kill a cop to me</td>\n",
       "    </tr>\n",
       "    <tr>\n",
       "      <th>7</th>\n",
       "      <td>a baby laughing</td>\n",
       "      <td>819007</td>\n",
       "      <td>you've not seen star wars yet &lt;sep&gt; let me tel...</td>\n",
       "    </tr>\n",
       "    <tr>\n",
       "      <th>8</th>\n",
       "      <td>a baby laughing</td>\n",
       "      <td>819008</td>\n",
       "      <td>GUESS WHAT I DID &lt;sep&gt; HINT IT'S IN MY NAPPY</td>\n",
       "    </tr>\n",
       "    <tr>\n",
       "      <th>9</th>\n",
       "      <td>a baby laughing</td>\n",
       "      <td>819009</td>\n",
       "      <td>i still have a hape &lt;sep&gt; of last years turf</td>\n",
       "    </tr>\n",
       "    <tr>\n",
       "      <th>10</th>\n",
       "      <td>a baby laughing in the grass</td>\n",
       "      <td>276000</td>\n",
       "      <td>Hee he...daddy just flirted with the neighbor ...</td>\n",
       "    </tr>\n",
       "    <tr>\n",
       "      <th>11</th>\n",
       "      <td>a baby laughing in the grass</td>\n",
       "      <td>276001</td>\n",
       "      <td>my face &lt;sep&gt; when my parents leave me with th...</td>\n",
       "    </tr>\n",
       "    <tr>\n",
       "      <th>12</th>\n",
       "      <td>a baby laughing in the grass</td>\n",
       "      <td>276002</td>\n",
       "      <td>i went pee pee &lt;sep&gt; ..but i'm not telling you...</td>\n",
       "    </tr>\n",
       "    <tr>\n",
       "      <th>13</th>\n",
       "      <td>a baby laughing in the grass</td>\n",
       "      <td>276003</td>\n",
       "      <td>i found a pile of shit under your bed &lt;sep&gt; i ...</td>\n",
       "    </tr>\n",
       "    <tr>\n",
       "      <th>14</th>\n",
       "      <td>a baby laughing in the grass</td>\n",
       "      <td>276004</td>\n",
       "      <td>I WILL STORE MY TOY CARS &lt;sep&gt; ON THE STAIRS</td>\n",
       "    </tr>\n",
       "    <tr>\n",
       "      <th>15</th>\n",
       "      <td>a baby laughing in the grass</td>\n",
       "      <td>276005</td>\n",
       "      <td>tells a buddhist &lt;sep&gt; yolo</td>\n",
       "    </tr>\n",
       "    <tr>\n",
       "      <th>16</th>\n",
       "      <td>a baby laughing in the grass</td>\n",
       "      <td>276006</td>\n",
       "      <td>MOMMY JUST CHANGED MY DIAPER &lt;sep&gt; SHE'S GOING...</td>\n",
       "    </tr>\n",
       "    <tr>\n",
       "      <th>17</th>\n",
       "      <td>a baby laughing in the grass</td>\n",
       "      <td>276007</td>\n",
       "      <td>Tell my black friends I support obama &lt;sep&gt; bu...</td>\n",
       "    </tr>\n",
       "    <tr>\n",
       "      <th>18</th>\n",
       "      <td>a baby laughing in the grass</td>\n",
       "      <td>276008</td>\n",
       "      <td>I want to hug you till you feel better &lt;sep&gt; T...</td>\n",
       "    </tr>\n",
       "    <tr>\n",
       "      <th>19</th>\n",
       "      <td>a baby laughing in the grass</td>\n",
       "      <td>276009</td>\n",
       "      <td>turns of his computer &lt;sep&gt; before windows say...</td>\n",
       "    </tr>\n",
       "  </tbody>\n",
       "</table>\n",
       "</div>"
      ],
      "text/plain": [
       "                    descriptions  level_1  \\\n",
       "0                a baby laughing   819000   \n",
       "1                a baby laughing   819001   \n",
       "2                a baby laughing   819002   \n",
       "3                a baby laughing   819003   \n",
       "4                a baby laughing   819004   \n",
       "5                a baby laughing   819005   \n",
       "6                a baby laughing   819006   \n",
       "7                a baby laughing   819007   \n",
       "8                a baby laughing   819008   \n",
       "9                a baby laughing   819009   \n",
       "10  a baby laughing in the grass   276000   \n",
       "11  a baby laughing in the grass   276001   \n",
       "12  a baby laughing in the grass   276002   \n",
       "13  a baby laughing in the grass   276003   \n",
       "14  a baby laughing in the grass   276004   \n",
       "15  a baby laughing in the grass   276005   \n",
       "16  a baby laughing in the grass   276006   \n",
       "17  a baby laughing in the grass   276007   \n",
       "18  a baby laughing in the grass   276008   \n",
       "19  a baby laughing in the grass   276009   \n",
       "\n",
       "                                             captions  \n",
       "0   i've got a surpise in my diaper <sep> and it's...  \n",
       "1      I WANT TO MAKE PLANS <sep> FOR OUR ANNIVERSARY  \n",
       "2     she can't see <sep> everybody reads this shiet!  \n",
       "3                     I did it <sep> it's \"Legal\" !!!  \n",
       "4             I will burn your precious <sep> village  \n",
       "5   i'll tell that bitch i chant <sep> bitches lov...  \n",
       "6     martial law? <sep> sounds like kill a cop to me  \n",
       "7   you've not seen star wars yet <sep> let me tel...  \n",
       "8        GUESS WHAT I DID <sep> HINT IT'S IN MY NAPPY  \n",
       "9        i still have a hape <sep> of last years turf  \n",
       "10  Hee he...daddy just flirted with the neighbor ...  \n",
       "11  my face <sep> when my parents leave me with th...  \n",
       "12  i went pee pee <sep> ..but i'm not telling you...  \n",
       "13  i found a pile of shit under your bed <sep> i ...  \n",
       "14       I WILL STORE MY TOY CARS <sep> ON THE STAIRS  \n",
       "15                        tells a buddhist <sep> yolo  \n",
       "16  MOMMY JUST CHANGED MY DIAPER <sep> SHE'S GOING...  \n",
       "17  Tell my black friends I support obama <sep> bu...  \n",
       "18  I want to hug you till you feel better <sep> T...  \n",
       "19  turns of his computer <sep> before windows say...  "
      ]
     },
     "execution_count": 8,
     "metadata": {},
     "output_type": "execute_result"
    }
   ],
   "source": [
    "df_grouped[:20]"
   ]
  },
  {
   "cell_type": "code",
   "execution_count": 9,
   "metadata": {},
   "outputs": [],
   "source": [
    "df_shuffled = df_grouped.sample(frac=1, random_state=42).reset_index(drop=True)\n",
    "df_shuffled = df_shuffled.drop(columns=['level_1'])"
   ]
  },
  {
   "cell_type": "code",
   "execution_count": 10,
   "metadata": {},
   "outputs": [],
   "source": []
  },
  {
   "cell_type": "code",
   "execution_count": 11,
   "metadata": {},
   "outputs": [],
   "source": [
    "model_name_or_path = \"google/flan-t5-xxl\"\n",
    "tokenizer_name_or_path = \"google/flan-t5-xxl\"\n",
    "\n",
    "text_column = \"description\"\n",
    "label_column = \"caption\"\n",
    "# max_length = 128\n",
    "lr = 1e-2\n",
    "num_epochs = 3\n",
    "batch_size = 8"
   ]
  },
  {
   "cell_type": "code",
   "execution_count": 12,
   "metadata": {},
   "outputs": [
    {
     "data": {
      "text/plain": [
       "{'caption': 'Cloud storage <sep> now supported',\n",
       " 'description': 'a man with glasses and a beard smiles at the camera'}"
      ]
     },
     "execution_count": 12,
     "metadata": {},
     "output_type": "execute_result"
    }
   ],
   "source": [
    "# Create Transformers dataset\n",
    "data = {\"caption\": [word for word in df_shuffled['captions']], \"description\":[descr for descr in df_shuffled['descriptions']]}\n",
    "dataset = Dataset.from_dict(data)\n",
    "dataset_split = dataset.train_test_split(test_size=0.2, shuffle=True, seed=42)\n",
    "dataset_split['train'][0]"
   ]
  },
  {
   "cell_type": "code",
   "execution_count": 13,
   "metadata": {},
   "outputs": [
    {
     "data": {
      "application/vnd.jupyter.widget-view+json": {
       "model_id": "5d4d5f4fec5c4e00a8bf6f8089297002",
       "version_major": 2,
       "version_minor": 0
      },
      "text/plain": [
       "tokenizer_config.json:   0%|          | 0.00/2.54k [00:00<?, ?B/s]"
      ]
     },
     "metadata": {},
     "output_type": "display_data"
    },
    {
     "data": {
      "application/vnd.jupyter.widget-view+json": {
       "model_id": "3ea2618d64074de58e928568fa6127e7",
       "version_major": 2,
       "version_minor": 0
      },
      "text/plain": [
       "spiece.model:   0%|          | 0.00/792k [00:00<?, ?B/s]"
      ]
     },
     "metadata": {},
     "output_type": "display_data"
    },
    {
     "data": {
      "application/vnd.jupyter.widget-view+json": {
       "model_id": "b21d7a67bf59437390956bce94be59b0",
       "version_major": 2,
       "version_minor": 0
      },
      "text/plain": [
       "tokenizer.json:   0%|          | 0.00/2.42M [00:00<?, ?B/s]"
      ]
     },
     "metadata": {},
     "output_type": "display_data"
    },
    {
     "data": {
      "application/vnd.jupyter.widget-view+json": {
       "model_id": "7a5ea50b85314efbb55bb446e0498703",
       "version_major": 2,
       "version_minor": 0
      },
      "text/plain": [
       "special_tokens_map.json:   0%|          | 0.00/2.20k [00:00<?, ?B/s]"
      ]
     },
     "metadata": {},
     "output_type": "display_data"
    },
    {
     "name": "stdout",
     "output_type": "stream",
     "text": [
      "47\n"
     ]
    },
    {
     "name": "stderr",
     "output_type": "stream",
     "text": [
      "/Users/nursulusagimbayeva/Downloads/BMW_intern_GenAI_coding_task/.bmw_env/lib/python3.11/site-packages/transformers/tokenization_utils_base.py:1601: FutureWarning: `clean_up_tokenization_spaces` was not set. It will be set to `True` by default. This behavior will be depracted in transformers v4.45, and will be then set to `False` by default. For more details check this issue: https://github.com/huggingface/transformers/issues/31884\n",
      "  warnings.warn(\n"
     ]
    }
   ],
   "source": [
    "captions = dataset_split['train']['caption']\n",
    "tokenizer = AutoTokenizer.from_pretrained(model_name_or_path)\n",
    "if tokenizer.pad_token_id is None:\n",
    "    tokenizer.pad_token_id = tokenizer.eos_token_id\n",
    "caption_max_length = max([len(tokenizer(caption)[\"input_ids\"]) for caption in captions])\n",
    "print(caption_max_length)"
   ]
  },
  {
   "cell_type": "code",
   "execution_count": 20,
   "metadata": {},
   "outputs": [],
   "source": [
    "def preprocess_function(examples):\n",
    "    inputs = examples[text_column]\n",
    "    targets = examples[label_column]\n",
    "    prefix = \"Description: \"\n",
    "    suffix = \". Caption: \"\n",
    "    inputs = [prefix + input_text + suffix for input_text in inputs]\n",
    "\n",
    "    model_inputs = tokenizer(inputs, max_length=caption_max_length, padding=\"max_length\", truncation=True, return_tensors=\"pt\")\n",
    "    labels = tokenizer(targets, max_length=caption_max_length, padding=\"max_length\", truncation=True, return_tensors=\"pt\")\n",
    "    labels = labels[\"input_ids\"]\n",
    "    labels[labels == tokenizer.pad_token_id] = -100\n",
    "    model_inputs[\"labels\"] = labels\n",
    "    return model_inputs"
   ]
  },
  {
   "cell_type": "code",
   "execution_count": 21,
   "metadata": {},
   "outputs": [
    {
     "name": "stderr",
     "output_type": "stream",
     "text": [
      "/Users/nursulusagimbayeva/Downloads/BMW_intern_GenAI_coding_task/.bmw_env/lib/python3.11/site-packages/transformers/tokenization_utils_base.py:1601: FutureWarning: `clean_up_tokenization_spaces` was not set. It will be set to `True` by default. This behavior will be depracted in transformers v4.45, and will be then set to `False` by default. For more details check this issue: https://github.com/huggingface/transformers/issues/31884\n",
      "  warnings.warn(\n"
     ]
    }
   ],
   "source": [
    "tokenizer = AutoTokenizer.from_pretrained(model_name_or_path)"
   ]
  },
  {
   "cell_type": "code",
   "execution_count": 22,
   "metadata": {},
   "outputs": [
    {
     "data": {
      "application/vnd.jupyter.widget-view+json": {
       "model_id": "ac3301df011d45e4b9ca5a426160ad55",
       "version_major": 2,
       "version_minor": 0
      },
      "text/plain": [
       "Running tokenizer on dataset:   0%|          | 0/1960 [00:00<?, ? examples/s]"
      ]
     },
     "metadata": {},
     "output_type": "display_data"
    },
    {
     "data": {
      "application/vnd.jupyter.widget-view+json": {
       "model_id": "21c9974efad042d79492dceaaae9aa8f",
       "version_major": 2,
       "version_minor": 0
      },
      "text/plain": [
       "Running tokenizer on dataset:   0%|          | 0/490 [00:00<?, ? examples/s]"
      ]
     },
     "metadata": {},
     "output_type": "display_data"
    }
   ],
   "source": [
    "processed_datasets = dataset_split.map(\n",
    "    preprocess_function,\n",
    "    batched=True,\n",
    "    num_proc=1,\n",
    "    remove_columns=dataset_split[\"train\"].column_names,\n",
    "    load_from_cache_file=False,\n",
    "    desc=\"Running tokenizer on dataset\",\n",
    ")"
   ]
  },
  {
   "cell_type": "code",
   "execution_count": 23,
   "metadata": {},
   "outputs": [
    {
     "data": {
      "text/plain": [
       "DatasetDict({\n",
       "    train: Dataset({\n",
       "        features: ['input_ids', 'attention_mask', 'labels'],\n",
       "        num_rows: 1960\n",
       "    })\n",
       "    test: Dataset({\n",
       "        features: ['input_ids', 'attention_mask', 'labels'],\n",
       "        num_rows: 490\n",
       "    })\n",
       "})"
      ]
     },
     "execution_count": 23,
     "metadata": {},
     "output_type": "execute_result"
    }
   ],
   "source": [
    "processed_datasets"
   ]
  },
  {
   "cell_type": "code",
   "execution_count": 24,
   "metadata": {},
   "outputs": [],
   "source": [
    "train_dataset = processed_datasets[\"train\"]\n",
    "eval_dataset = processed_datasets[\"test\"]\n",
    "\n",
    "train_dataloader = DataLoader(\n",
    "    train_dataset, shuffle=True, collate_fn=default_data_collator, batch_size=batch_size, pin_memory=True\n",
    ")\n",
    "eval_dataloader = DataLoader(eval_dataset, collate_fn=default_data_collator, batch_size=batch_size, pin_memory=True)"
   ]
  },
  {
   "cell_type": "code",
   "execution_count": 25,
   "metadata": {},
   "outputs": [
    {
     "name": "stdout",
     "output_type": "stream",
     "text": [
      "Description: a man with glasses and a beard smiles at the camera. Caption: \n",
      "Description: a black background with a white and red flower. Caption: \n",
      "Description: a picture of a young boy with a smile. Caption: \n",
      "Description: the cover of the album,'the man who knew the world '. Caption: \n",
      "Description: a black and white photo of a man in a suit. Caption: \n",
      "Description: a black background with a white and red flower. Caption: \n",
      "Description: a cartoon character with a red hair and glasses. Caption: \n",
      "Description: a poster of a man with a cigarette. Caption: \n",
      "Description: a man in a suit and tie standing next to the ocean. Caption: \n",
      "Description: a man is holding a remote control device. Caption: \n"
     ]
    }
   ],
   "source": [
    "for i in range(10):\n",
    "    print(tokenizer.decode(train_dataset['input_ids'][i], skip_special_tokens=True))"
   ]
  },
  {
   "cell_type": "markdown",
   "metadata": {},
   "source": [
    "### Training"
   ]
  },
  {
   "cell_type": "code",
   "execution_count": 26,
   "metadata": {},
   "outputs": [
    {
     "data": {
      "application/vnd.jupyter.widget-view+json": {
       "model_id": "d40ab6fc122e4f46bd5fa7da5ebedeb9",
       "version_major": 2,
       "version_minor": 0
      },
      "text/plain": [
       "config.json:   0%|          | 0.00/674 [00:00<?, ?B/s]"
      ]
     },
     "metadata": {},
     "output_type": "display_data"
    },
    {
     "data": {
      "application/vnd.jupyter.widget-view+json": {
       "model_id": "495c7c356bbd4982bf50cb82d63411a7",
       "version_major": 2,
       "version_minor": 0
      },
      "text/plain": [
       "model.safetensors.index.json:   0%|          | 0.00/53.0k [00:00<?, ?B/s]"
      ]
     },
     "metadata": {},
     "output_type": "display_data"
    },
    {
     "data": {
      "application/vnd.jupyter.widget-view+json": {
       "model_id": "88469270a78b4ab39abab014331af84f",
       "version_major": 2,
       "version_minor": 0
      },
      "text/plain": [
       "Downloading shards:   0%|          | 0/5 [00:00<?, ?it/s]"
      ]
     },
     "metadata": {},
     "output_type": "display_data"
    },
    {
     "data": {
      "application/vnd.jupyter.widget-view+json": {
       "model_id": "8320f7b6c33b4a5da3694be19048c81d",
       "version_major": 2,
       "version_minor": 0
      },
      "text/plain": [
       "model-00001-of-00005.safetensors:   0%|          | 0.00/9.45G [00:00<?, ?B/s]"
      ]
     },
     "metadata": {},
     "output_type": "display_data"
    },
    {
     "data": {
      "application/vnd.jupyter.widget-view+json": {
       "model_id": "f6120c93a6644f4a80d0c2f83da62b0a",
       "version_major": 2,
       "version_minor": 0
      },
      "text/plain": [
       "model-00002-of-00005.safetensors:   0%|          | 0.00/9.60G [00:00<?, ?B/s]"
      ]
     },
     "metadata": {},
     "output_type": "display_data"
    },
    {
     "data": {
      "application/vnd.jupyter.widget-view+json": {
       "model_id": "5db8f9d6b897454ea6ffa23a8bfbb27d",
       "version_major": 2,
       "version_minor": 0
      },
      "text/plain": [
       "model-00003-of-00005.safetensors:   0%|          | 0.00/9.96G [00:00<?, ?B/s]"
      ]
     },
     "metadata": {},
     "output_type": "display_data"
    },
    {
     "data": {
      "application/vnd.jupyter.widget-view+json": {
       "model_id": "0afd71148af643c18543d357b3dc28a8",
       "version_major": 2,
       "version_minor": 0
      },
      "text/plain": [
       "model-00004-of-00005.safetensors:   0%|          | 0.00/10.0G [00:00<?, ?B/s]"
      ]
     },
     "metadata": {},
     "output_type": "display_data"
    },
    {
     "data": {
      "application/vnd.jupyter.widget-view+json": {
       "model_id": "015239b56a914b90b18ea673bfbd742b",
       "version_major": 2,
       "version_minor": 0
      },
      "text/plain": [
       "model-00005-of-00005.safetensors:   0%|          | 0.00/6.06G [00:00<?, ?B/s]"
      ]
     },
     "metadata": {},
     "output_type": "display_data"
    },
    {
     "data": {
      "application/vnd.jupyter.widget-view+json": {
       "model_id": "40648c4267754ddca99f232a9d7c9a5f",
       "version_major": 2,
       "version_minor": 0
      },
      "text/plain": [
       "Loading checkpoint shards:   0%|          | 0/5 [00:00<?, ?it/s]"
      ]
     },
     "metadata": {},
     "output_type": "display_data"
    },
    {
     "data": {
      "application/vnd.jupyter.widget-view+json": {
       "model_id": "acab5e426ac84b5d8e89f64b9ccb3ce4",
       "version_major": 2,
       "version_minor": 0
      },
      "text/plain": [
       "generation_config.json:   0%|          | 0.00/147 [00:00<?, ?B/s]"
      ]
     },
     "metadata": {},
     "output_type": "display_data"
    }
   ],
   "source": [
    "peft_config = PrefixTuningConfig(task_type=TaskType.SEQ_2_SEQ_LM, inference_mode=False, num_virtual_tokens=20)\n",
    "\n",
    "model = AutoModelForSeq2SeqLM.from_pretrained(model_name_or_path)\n",
    "model = get_peft_model(model, peft_config)"
   ]
  },
  {
   "cell_type": "code",
   "execution_count": 27,
   "metadata": {},
   "outputs": [],
   "source": [
    "import wandb"
   ]
  },
  {
   "cell_type": "code",
   "execution_count": 28,
   "metadata": {},
   "outputs": [
    {
     "name": "stderr",
     "output_type": "stream",
     "text": [
      "Failed to detect the name of this notebook, you can set it manually with the WANDB_NOTEBOOK_NAME environment variable to enable code saving.\n",
      "\u001b[34m\u001b[1mwandb\u001b[0m: Currently logged in as: \u001b[33mnurs-sagimbayeva\u001b[0m. Use \u001b[1m`wandb login --relogin`\u001b[0m to force relogin\n"
     ]
    },
    {
     "data": {
      "text/html": [
       "Tracking run with wandb version 0.17.9"
      ],
      "text/plain": [
       "<IPython.core.display.HTML object>"
      ]
     },
     "metadata": {},
     "output_type": "display_data"
    },
    {
     "data": {
      "text/html": [
       "Run data is saved locally in <code>/Users/nursulusagimbayeva/Downloads/BMW_intern_GenAI_coding_task/wandb/run-20240911_231148-vyhjehvl</code>"
      ],
      "text/plain": [
       "<IPython.core.display.HTML object>"
      ]
     },
     "metadata": {},
     "output_type": "display_data"
    },
    {
     "data": {
      "text/html": [
       "Syncing run <strong><a href='https://wandb.ai/nurs-sagimbayeva/caption_generation_3_epochs_xxl/runs/vyhjehvl' target=\"_blank\">chocolate-moon-1</a></strong> to <a href='https://wandb.ai/nurs-sagimbayeva/caption_generation_3_epochs_xxl' target=\"_blank\">Weights & Biases</a> (<a href='https://wandb.me/run' target=\"_blank\">docs</a>)<br/>"
      ],
      "text/plain": [
       "<IPython.core.display.HTML object>"
      ]
     },
     "metadata": {},
     "output_type": "display_data"
    },
    {
     "data": {
      "text/html": [
       " View project at <a href='https://wandb.ai/nurs-sagimbayeva/caption_generation_3_epochs_xxl' target=\"_blank\">https://wandb.ai/nurs-sagimbayeva/caption_generation_3_epochs_xxl</a>"
      ],
      "text/plain": [
       "<IPython.core.display.HTML object>"
      ]
     },
     "metadata": {},
     "output_type": "display_data"
    },
    {
     "data": {
      "text/html": [
       " View run at <a href='https://wandb.ai/nurs-sagimbayeva/caption_generation_3_epochs_xxl/runs/vyhjehvl' target=\"_blank\">https://wandb.ai/nurs-sagimbayeva/caption_generation_3_epochs_xxl/runs/vyhjehvl</a>"
      ],
      "text/plain": [
       "<IPython.core.display.HTML object>"
      ]
     },
     "metadata": {},
     "output_type": "display_data"
    },
    {
     "data": {
      "text/html": [
       "<button onClick=\"this.nextSibling.style.display='block';this.style.display='none';\">Display W&B run</button><iframe src='https://wandb.ai/nurs-sagimbayeva/caption_generation_3_epochs_xxl/runs/vyhjehvl?jupyter=true' style='border:none;width:100%;height:420px;display:none;'></iframe>"
      ],
      "text/plain": [
       "<wandb.sdk.wandb_run.Run at 0x16200a8d0>"
      ]
     },
     "execution_count": 28,
     "metadata": {},
     "output_type": "execute_result"
    }
   ],
   "source": [
    "# Initialize W&B\n",
    "wandb.init(project=\"caption_generation_3_epochs_xxl\", entity=\"nurs-sagimbayeva\")"
   ]
  },
  {
   "cell_type": "code",
   "execution_count": 29,
   "metadata": {},
   "outputs": [
    {
     "name": "stdout",
     "output_type": "stream",
     "text": [
      "trainable params: 3,932,160 || all params: 11,139,264,512 || trainable%: 0.0353\n"
     ]
    },
    {
     "data": {
      "text/plain": [
       "'trainable params: 983040 || all params: 738651136 || trainable%: 0.13308583065659835'"
      ]
     },
     "execution_count": 29,
     "metadata": {},
     "output_type": "execute_result"
    }
   ],
   "source": [
    "model.print_trainable_parameters()\n",
    "\"trainable params: 983040 || all params: 738651136 || trainable%: 0.13308583065659835\""
   ]
  },
  {
   "cell_type": "code",
   "execution_count": 30,
   "metadata": {},
   "outputs": [],
   "source": [
    "optimizer = torch.optim.AdamW(model.parameters(), lr=lr)\n",
    "lr_scheduler = get_linear_schedule_with_warmup(\n",
    "    optimizer=optimizer,\n",
    "    num_warmup_steps=0,\n",
    "    num_training_steps=(len(train_dataloader) * num_epochs),\n",
    ")"
   ]
  },
  {
   "cell_type": "code",
   "execution_count": 31,
   "metadata": {},
   "outputs": [
    {
     "ename": "KeyboardInterrupt",
     "evalue": "",
     "output_type": "error",
     "traceback": [
      "\u001b[0;31m---------------------------------------------------------------------------\u001b[0m",
      "\u001b[0;31mKeyboardInterrupt\u001b[0m                         Traceback (most recent call last)",
      "Cell \u001b[0;32mIn[31], line 1\u001b[0m\n\u001b[0;32m----> 1\u001b[0m model \u001b[38;5;241m=\u001b[39m \u001b[43mmodel\u001b[49m\u001b[38;5;241;43m.\u001b[39;49m\u001b[43mto\u001b[49m\u001b[43m(\u001b[49m\u001b[43mdevice\u001b[49m\u001b[43m)\u001b[49m\n\u001b[1;32m      3\u001b[0m \u001b[38;5;28;01mfor\u001b[39;00m epoch \u001b[38;5;129;01min\u001b[39;00m \u001b[38;5;28mrange\u001b[39m(num_epochs):\n\u001b[1;32m      4\u001b[0m     \u001b[38;5;28mprint\u001b[39m(\u001b[38;5;124mf\u001b[39m\u001b[38;5;124m\"\u001b[39m\u001b[38;5;124m-----Epoch \u001b[39m\u001b[38;5;132;01m{\u001b[39;00mepoch\u001b[38;5;132;01m}\u001b[39;00m\u001b[38;5;124m has started-----\u001b[39m\u001b[38;5;124m\"\u001b[39m)\n",
      "File \u001b[0;32m~/Downloads/BMW_intern_GenAI_coding_task/.bmw_env/lib/python3.11/site-packages/torch/nn/modules/module.py:1174\u001b[0m, in \u001b[0;36mModule.to\u001b[0;34m(self, *args, **kwargs)\u001b[0m\n\u001b[1;32m   1171\u001b[0m         \u001b[38;5;28;01melse\u001b[39;00m:\n\u001b[1;32m   1172\u001b[0m             \u001b[38;5;28;01mraise\u001b[39;00m\n\u001b[0;32m-> 1174\u001b[0m \u001b[38;5;28;01mreturn\u001b[39;00m \u001b[38;5;28;43mself\u001b[39;49m\u001b[38;5;241;43m.\u001b[39;49m\u001b[43m_apply\u001b[49m\u001b[43m(\u001b[49m\u001b[43mconvert\u001b[49m\u001b[43m)\u001b[49m\n",
      "File \u001b[0;32m~/Downloads/BMW_intern_GenAI_coding_task/.bmw_env/lib/python3.11/site-packages/torch/nn/modules/module.py:780\u001b[0m, in \u001b[0;36mModule._apply\u001b[0;34m(self, fn, recurse)\u001b[0m\n\u001b[1;32m    778\u001b[0m \u001b[38;5;28;01mif\u001b[39;00m recurse:\n\u001b[1;32m    779\u001b[0m     \u001b[38;5;28;01mfor\u001b[39;00m module \u001b[38;5;129;01min\u001b[39;00m \u001b[38;5;28mself\u001b[39m\u001b[38;5;241m.\u001b[39mchildren():\n\u001b[0;32m--> 780\u001b[0m         \u001b[43mmodule\u001b[49m\u001b[38;5;241;43m.\u001b[39;49m\u001b[43m_apply\u001b[49m\u001b[43m(\u001b[49m\u001b[43mfn\u001b[49m\u001b[43m)\u001b[49m\n\u001b[1;32m    782\u001b[0m \u001b[38;5;28;01mdef\u001b[39;00m \u001b[38;5;21mcompute_should_use_set_data\u001b[39m(tensor, tensor_applied):\n\u001b[1;32m    783\u001b[0m     \u001b[38;5;28;01mif\u001b[39;00m torch\u001b[38;5;241m.\u001b[39m_has_compatible_shallow_copy_type(tensor, tensor_applied):\n\u001b[1;32m    784\u001b[0m         \u001b[38;5;66;03m# If the new tensor has compatible tensor type as the existing tensor,\u001b[39;00m\n\u001b[1;32m    785\u001b[0m         \u001b[38;5;66;03m# the current behavior is to change the tensor in-place using `.data =`,\u001b[39;00m\n\u001b[0;32m   (...)\u001b[0m\n\u001b[1;32m    790\u001b[0m         \u001b[38;5;66;03m# global flag to let the user control whether they want the future\u001b[39;00m\n\u001b[1;32m    791\u001b[0m         \u001b[38;5;66;03m# behavior of overwriting the existing tensor or not.\u001b[39;00m\n",
      "File \u001b[0;32m~/Downloads/BMW_intern_GenAI_coding_task/.bmw_env/lib/python3.11/site-packages/torch/nn/modules/module.py:780\u001b[0m, in \u001b[0;36mModule._apply\u001b[0;34m(self, fn, recurse)\u001b[0m\n\u001b[1;32m    778\u001b[0m \u001b[38;5;28;01mif\u001b[39;00m recurse:\n\u001b[1;32m    779\u001b[0m     \u001b[38;5;28;01mfor\u001b[39;00m module \u001b[38;5;129;01min\u001b[39;00m \u001b[38;5;28mself\u001b[39m\u001b[38;5;241m.\u001b[39mchildren():\n\u001b[0;32m--> 780\u001b[0m         \u001b[43mmodule\u001b[49m\u001b[38;5;241;43m.\u001b[39;49m\u001b[43m_apply\u001b[49m\u001b[43m(\u001b[49m\u001b[43mfn\u001b[49m\u001b[43m)\u001b[49m\n\u001b[1;32m    782\u001b[0m \u001b[38;5;28;01mdef\u001b[39;00m \u001b[38;5;21mcompute_should_use_set_data\u001b[39m(tensor, tensor_applied):\n\u001b[1;32m    783\u001b[0m     \u001b[38;5;28;01mif\u001b[39;00m torch\u001b[38;5;241m.\u001b[39m_has_compatible_shallow_copy_type(tensor, tensor_applied):\n\u001b[1;32m    784\u001b[0m         \u001b[38;5;66;03m# If the new tensor has compatible tensor type as the existing tensor,\u001b[39;00m\n\u001b[1;32m    785\u001b[0m         \u001b[38;5;66;03m# the current behavior is to change the tensor in-place using `.data =`,\u001b[39;00m\n\u001b[0;32m   (...)\u001b[0m\n\u001b[1;32m    790\u001b[0m         \u001b[38;5;66;03m# global flag to let the user control whether they want the future\u001b[39;00m\n\u001b[1;32m    791\u001b[0m         \u001b[38;5;66;03m# behavior of overwriting the existing tensor or not.\u001b[39;00m\n",
      "    \u001b[0;31m[... skipping similar frames: Module._apply at line 780 (5 times)]\u001b[0m\n",
      "File \u001b[0;32m~/Downloads/BMW_intern_GenAI_coding_task/.bmw_env/lib/python3.11/site-packages/torch/nn/modules/module.py:780\u001b[0m, in \u001b[0;36mModule._apply\u001b[0;34m(self, fn, recurse)\u001b[0m\n\u001b[1;32m    778\u001b[0m \u001b[38;5;28;01mif\u001b[39;00m recurse:\n\u001b[1;32m    779\u001b[0m     \u001b[38;5;28;01mfor\u001b[39;00m module \u001b[38;5;129;01min\u001b[39;00m \u001b[38;5;28mself\u001b[39m\u001b[38;5;241m.\u001b[39mchildren():\n\u001b[0;32m--> 780\u001b[0m         \u001b[43mmodule\u001b[49m\u001b[38;5;241;43m.\u001b[39;49m\u001b[43m_apply\u001b[49m\u001b[43m(\u001b[49m\u001b[43mfn\u001b[49m\u001b[43m)\u001b[49m\n\u001b[1;32m    782\u001b[0m \u001b[38;5;28;01mdef\u001b[39;00m \u001b[38;5;21mcompute_should_use_set_data\u001b[39m(tensor, tensor_applied):\n\u001b[1;32m    783\u001b[0m     \u001b[38;5;28;01mif\u001b[39;00m torch\u001b[38;5;241m.\u001b[39m_has_compatible_shallow_copy_type(tensor, tensor_applied):\n\u001b[1;32m    784\u001b[0m         \u001b[38;5;66;03m# If the new tensor has compatible tensor type as the existing tensor,\u001b[39;00m\n\u001b[1;32m    785\u001b[0m         \u001b[38;5;66;03m# the current behavior is to change the tensor in-place using `.data =`,\u001b[39;00m\n\u001b[0;32m   (...)\u001b[0m\n\u001b[1;32m    790\u001b[0m         \u001b[38;5;66;03m# global flag to let the user control whether they want the future\u001b[39;00m\n\u001b[1;32m    791\u001b[0m         \u001b[38;5;66;03m# behavior of overwriting the existing tensor or not.\u001b[39;00m\n",
      "File \u001b[0;32m~/Downloads/BMW_intern_GenAI_coding_task/.bmw_env/lib/python3.11/site-packages/torch/nn/modules/module.py:805\u001b[0m, in \u001b[0;36mModule._apply\u001b[0;34m(self, fn, recurse)\u001b[0m\n\u001b[1;32m    801\u001b[0m \u001b[38;5;66;03m# Tensors stored in modules are graph leaves, and we don't want to\u001b[39;00m\n\u001b[1;32m    802\u001b[0m \u001b[38;5;66;03m# track autograd history of `param_applied`, so we have to use\u001b[39;00m\n\u001b[1;32m    803\u001b[0m \u001b[38;5;66;03m# `with torch.no_grad():`\u001b[39;00m\n\u001b[1;32m    804\u001b[0m \u001b[38;5;28;01mwith\u001b[39;00m torch\u001b[38;5;241m.\u001b[39mno_grad():\n\u001b[0;32m--> 805\u001b[0m     param_applied \u001b[38;5;241m=\u001b[39m \u001b[43mfn\u001b[49m\u001b[43m(\u001b[49m\u001b[43mparam\u001b[49m\u001b[43m)\u001b[49m\n\u001b[1;32m    806\u001b[0m p_should_use_set_data \u001b[38;5;241m=\u001b[39m compute_should_use_set_data(param, param_applied)\n\u001b[1;32m    808\u001b[0m \u001b[38;5;66;03m# subclasses may have multiple child tensors so we need to use swap_tensors\u001b[39;00m\n",
      "File \u001b[0;32m~/Downloads/BMW_intern_GenAI_coding_task/.bmw_env/lib/python3.11/site-packages/torch/nn/modules/module.py:1160\u001b[0m, in \u001b[0;36mModule.to.<locals>.convert\u001b[0;34m(t)\u001b[0m\n\u001b[1;32m   1153\u001b[0m     \u001b[38;5;28;01mif\u001b[39;00m convert_to_format \u001b[38;5;129;01mis\u001b[39;00m \u001b[38;5;129;01mnot\u001b[39;00m \u001b[38;5;28;01mNone\u001b[39;00m \u001b[38;5;129;01mand\u001b[39;00m t\u001b[38;5;241m.\u001b[39mdim() \u001b[38;5;129;01min\u001b[39;00m (\u001b[38;5;241m4\u001b[39m, \u001b[38;5;241m5\u001b[39m):\n\u001b[1;32m   1154\u001b[0m         \u001b[38;5;28;01mreturn\u001b[39;00m t\u001b[38;5;241m.\u001b[39mto(\n\u001b[1;32m   1155\u001b[0m             device,\n\u001b[1;32m   1156\u001b[0m             dtype \u001b[38;5;28;01mif\u001b[39;00m t\u001b[38;5;241m.\u001b[39mis_floating_point() \u001b[38;5;129;01mor\u001b[39;00m t\u001b[38;5;241m.\u001b[39mis_complex() \u001b[38;5;28;01melse\u001b[39;00m \u001b[38;5;28;01mNone\u001b[39;00m,\n\u001b[1;32m   1157\u001b[0m             non_blocking,\n\u001b[1;32m   1158\u001b[0m             memory_format\u001b[38;5;241m=\u001b[39mconvert_to_format,\n\u001b[1;32m   1159\u001b[0m         )\n\u001b[0;32m-> 1160\u001b[0m     \u001b[38;5;28;01mreturn\u001b[39;00m \u001b[43mt\u001b[49m\u001b[38;5;241;43m.\u001b[39;49m\u001b[43mto\u001b[49m\u001b[43m(\u001b[49m\n\u001b[1;32m   1161\u001b[0m \u001b[43m        \u001b[49m\u001b[43mdevice\u001b[49m\u001b[43m,\u001b[49m\n\u001b[1;32m   1162\u001b[0m \u001b[43m        \u001b[49m\u001b[43mdtype\u001b[49m\u001b[43m \u001b[49m\u001b[38;5;28;43;01mif\u001b[39;49;00m\u001b[43m \u001b[49m\u001b[43mt\u001b[49m\u001b[38;5;241;43m.\u001b[39;49m\u001b[43mis_floating_point\u001b[49m\u001b[43m(\u001b[49m\u001b[43m)\u001b[49m\u001b[43m \u001b[49m\u001b[38;5;129;43;01mor\u001b[39;49;00m\u001b[43m \u001b[49m\u001b[43mt\u001b[49m\u001b[38;5;241;43m.\u001b[39;49m\u001b[43mis_complex\u001b[49m\u001b[43m(\u001b[49m\u001b[43m)\u001b[49m\u001b[43m \u001b[49m\u001b[38;5;28;43;01melse\u001b[39;49;00m\u001b[43m \u001b[49m\u001b[38;5;28;43;01mNone\u001b[39;49;00m\u001b[43m,\u001b[49m\n\u001b[1;32m   1163\u001b[0m \u001b[43m        \u001b[49m\u001b[43mnon_blocking\u001b[49m\u001b[43m,\u001b[49m\n\u001b[1;32m   1164\u001b[0m \u001b[43m    \u001b[49m\u001b[43m)\u001b[49m\n\u001b[1;32m   1165\u001b[0m \u001b[38;5;28;01mexcept\u001b[39;00m \u001b[38;5;167;01mNotImplementedError\u001b[39;00m \u001b[38;5;28;01mas\u001b[39;00m e:\n\u001b[1;32m   1166\u001b[0m     \u001b[38;5;28;01mif\u001b[39;00m \u001b[38;5;28mstr\u001b[39m(e) \u001b[38;5;241m==\u001b[39m \u001b[38;5;124m\"\u001b[39m\u001b[38;5;124mCannot copy out of meta tensor; no data!\u001b[39m\u001b[38;5;124m\"\u001b[39m:\n",
      "\u001b[0;31mKeyboardInterrupt\u001b[0m: "
     ]
    }
   ],
   "source": [
    "model = model.to(device)\n",
    "\n",
    "for epoch in range(num_epochs):\n",
    "    print(f\"-----Epoch {epoch} has started-----\")\n",
    "    model.train()\n",
    "    total_loss = 0\n",
    "    for step, batch in enumerate(tqdm(train_dataloader)):\n",
    "        batch = {k: v.to(device) for k, v in batch.items()}\n",
    "        outputs = model(**batch)\n",
    "        loss = outputs.loss\n",
    "        total_loss += loss.detach().float()\n",
    "        loss.backward()\n",
    "        optimizer.step()\n",
    "        lr_scheduler.step()\n",
    "        optimizer.zero_grad()\n",
    "        wandb.log({\"train_loss\": loss.item(), \"epoch\": epoch})\n",
    "\n",
    "    model.eval()\n",
    "    eval_loss = 0\n",
    "    eval_preds = []\n",
    "    for step, batch in enumerate(tqdm(eval_dataloader)):\n",
    "        batch = {k: v.to(device) for k, v in batch.items()}\n",
    "        with torch.no_grad():\n",
    "            outputs = model(**batch)\n",
    "        loss = outputs.loss\n",
    "        eval_loss += loss.detach().float()\n",
    "        eval_preds.extend(\n",
    "            tokenizer.batch_decode(torch.argmax(outputs.logits, -1).detach().cpu().numpy(), skip_special_tokens=True)\n",
    "        )\n",
    "\n",
    "    eval_epoch_loss = eval_loss / len(eval_dataloader)\n",
    "    eval_ppl = torch.exp(eval_epoch_loss)\n",
    "    train_epoch_loss = total_loss / len(train_dataloader)\n",
    "    train_ppl = torch.exp(train_epoch_loss)\n",
    "    \n",
    "        # Log evaluation metrics\n",
    "    wandb.log({\n",
    "        \"eval_loss\": eval_epoch_loss.item(),\n",
    "        \"eval_ppl\": eval_ppl.item(),\n",
    "        \"train_loss\": train_epoch_loss.item(),\n",
    "        \"train_ppl\": train_ppl.item(),\n",
    "        \"epoch\": epoch\n",
    "    })\n",
    "    \n",
    "    print(f\"{epoch=}: {train_ppl=} {train_epoch_loss=} {eval_ppl=} {eval_epoch_loss=}\")"
   ]
  },
  {
   "cell_type": "code",
   "execution_count": 242,
   "metadata": {},
   "outputs": [
    {
     "name": "stdout",
     "output_type": "stream",
     "text": [
      "a man sitting at a table with a cup\n",
      "Actual caption: she returned a high five <sep> So I guess you could say things are getting pretty serious\n",
      "prediction: A is to cup scoresep>,' I can say  like  better good                      A\n",
      "a baby sitting at a table with a beer\n",
      "Actual caption: I met a cute chick at the sandbox <sep> i was like\"You and i should go chill at my crib\"\n",
      "prediction: A' a baby babyk  the barzex castlesep>  love 'mei are go to the house          \n",
      "a man with glasses and a green background\n",
      "Actual caption: What if i told you <sep> There was more to an election than same sex marriage and abortion\n",
      "prediction: A a wei can you isep>  is  to do hour you ex                   \n",
      "a bear with a capt that says, i'm'm'm'm'm\n",
      "Actual caption: Kidnapping? <sep> I prefer the term \"SURPRISE Adoption\"\n",
      "prediction:  ap sep>'to  sePRISE\"dict\"                    A A A\n",
      "a man with a mustache and mustaches on his face\n",
      "Actual caption: watch out guys <sep> ill get on my 138 main\n",
      "prediction: A  forsep>  be  the knees                             A A\n",
      "a person holding a cat in their hand\n",
      "Actual caption: Houston, we have a problem <sep> good.\n",
      "prediction: A 'a catsep>  luck                              \n",
      "a man in a purple suit and hat\n",
      "Actual caption: Oh, youre one of those hipsters? <sep> Tell me about how unique you are.\n",
      "prediction: , e  of the peoplepiess.sep>  me  it you you are                    \n",
      "a bear with a capt that says, i'm'm'm'm'm\n",
      "Actual caption: What's the leading cause of child molestation? <sep> Sexy children\n",
      "prediction:  s the point  of the abuselestation?sep> xys                       \n",
      "a kid with a purple and orange background\n",
      "Actual caption: starts wave in stadium <sep> drowns\n",
      "prediction: A tod thesep> s in               A A A A A A A A A A A A A A A A A A A\n",
      "a man in glasses and a green background with the words,'i'm '\n",
      "Actual caption: asian without a's <sep> spell sin\n",
      "prediction:  man  a sesep> ss                             \n",
      "a bird sitting on a pole with a caption\n",
      "Actual caption: Discovers retail robin <sep> \"I'm not alone!\"\n",
      "prediction: Ae  berssep> 'm  s                          \n",
      "a man and woman standing in a room\n",
      "Actual caption: What do we say about miss the workout? <sep> Not today!\n",
      "prediction: They  you do  it ?sep> .                 The The The The The The The The The The The The\n",
      "a group of referees are talking to each other players\n",
      "Actual caption: i think he caught it. <sep> lets say he dropped so he gets pissed and we can call a penalty on him.\n",
      "prediction: ' i' sep>  go'the manyi' ssed '' ita foul the.          \n",
      "a man in a suit and tie is looking at the camera\n",
      "Actual caption: i love beating women <sep> to the door so i can open it for them\n",
      "prediction: ' you thesep>  death moon i can get the you                       \n",
      "a cartoon character is sitting in a car\n",
      "Actual caption: Remember when only girls wore skinny jeans? <sep> pepperidge farm remembers\n",
      "prediction: A the   can  pants?sep> edss s                        \n",
      "a girl with a pink background and a blue background, says, i'm'm '\n",
      "Actual caption: My blood type <sep> is gravy\n",
      "prediction: A y issep>  y                  A A A A A A A A A A A A A A A A A\n",
      "the cover of the album,'the man who knew the world '\n",
      "Actual caption: Bonasera, Bonasera <sep> why have you stolen my guitar?\n",
      "prediction: opart   aserasep>   you never my heart                         \n",
      "a cartoon of two men standing in front of a blackboard\n",
      "Actual caption: Hey Butt-Head, what's the difference between Logan Paul and a retard? <sep> Uhhh... I don't know.\n",
      "prediction: , Ie yds I s the point?  and and a sep> h ''t know         \n",
      "a penguin is walking across a red and blue background\n",
      "Actual caption: accidentally got a boner infront of a cute girl <sep> she's impressed\n",
      "prediction: A  a peny the of mea  sep>'s                       \n",
      "a cartoon character sitting at a desk with a computer\n",
      "Actual caption: Had the motivation to study <sep> AAAANNNDDDD IT'S GONE\n",
      "prediction: A  best to go sep> AAO 'S OT               A A A A A A A A A A\n",
      "a cartoon duck with a blue hat and a blue bow\n",
      "Actual caption: Kill me <sep> pls...\n",
      "prediction: Aing sep> ss                                  \n",
      "the communist flag\n",
      "Actual caption: in soviet russia <sep> girls stalk you\n",
      "prediction:  theviet unionsep> ing                       the the the the the the the the\n",
      "a man and woman sitting on a couch\n",
      "Actual caption: Your twitter bio says you're an intellectual <sep> We have determined that is a lie\n",
      "prediction: Ae is is're  sep>' that you a good          A A A A A A A A A A A A A\n",
      "a chicken with a capt that says, i'm'm'm'm'm\n",
      "Actual caption: Knock Knock. Who's there? <sep> A jehovah's witness\n",
      "prediction: Ack knockckas the?sep>  chickeneahs witness                     \n",
      "a guy holding a beer glass in his hand\n",
      "Actual caption: DJ'S AT PARTY <sep> PLAYS CD, THEN JUST SITS THERE\n",
      "prediction:  s  HOMEWORKY sep> YING S N UST ING RE                    \n",
      "a cat sitting at a table with a cup of coffee\n",
      "Actual caption: It's my mother's birthday next week. <sep> I should send her a birthday cod.\n",
      "prediction: 's  birthdays birthday weeksep>'be you a cup carda                   \n",
      "the dark knight in the dark knight\n",
      "Actual caption: I hope Justin Bieber is ready <sep> Cause i am going in dry\n",
      "prediction: '  iseber is  tosep>  i'  to  s                        \n",
      "the dark knight in the dark knight\n",
      "Actual caption: enjoy the day <sep> then you have my permission to die\n",
      "prediction:  the sep> 'to heart do                             \n",
      "a man with a beard and a red and yellow background\n",
      "Actual caption: Books? <sep> PPPFFFTTT\n",
      "prediction:   sep> sPPPPs                                \n",
      "a person holding a cat in their lap\n",
      "Actual caption: I hate internet Memes... <sep> And don't you dare share this!\n",
      "prediction: ' youow  sep>  't  knowe to with                        \n",
      "a black background with a white and red flower\n",
      "Actual caption: This is <sep> Not a penis.\n",
      "prediction:  is asep>   problem                                \n",
      "a man in a red shirt pointing at something\n",
      "Actual caption: Why the * <sep> Am I being censored?\n",
      "prediction:  do hell***sep>  I  aed?                            \n",
      "a group of people with their arms up\n",
      "Actual caption: plays air guitar solo <sep> you can actually hear it\n",
      "prediction:   guitarssep>  can' dance it                              \n",
      "a dog with glasses on it's face\n",
      "Actual caption: Racism shouldn't exist <sep> Just like niggers\n",
      "prediction: Aistm is't besep>   agers                        A A A\n",
      "a dog is talking on a phone\n",
      "Actual caption: HELLO? <sep> IS IT ME YOU'RE LOOKING FOR?\n",
      "prediction: AmmO sep>   DIC RE IVEKING FOR ME             A A A A A A A A A A A A\n",
      "a guy in a crown with a capt that says, i'm'm'm '\n",
      "Actual caption: Finish the tutorial <sep> have an unnatural hatred towards the english\n",
      "prediction: Aing  sep>  fun awesomeily for                              \n",
      "a woman with a blue shirt and a smile\n",
      "Actual caption: I don't spit or swallow <sep> i save it\n",
      "prediction: A''t knowuck out sep>'my                          \n",
      "a boy holding a video game controller\n",
      "Actual caption: <emp> <sep> plays cod\n",
      "prediction: Asm> sep>  ss                        A A A A A A A A A\n",
      "a man with a hoodie and a quote that says, i'm'm'm\n",
      "Actual caption: ROOM MATE BOUGHT RICE <sep> 'UNCLE BEN'S'\n",
      "prediction:  AKEABHT ID sep> sS ABCH                      \n",
      "a man laughing and laughing with the capt of a text that reads,'i'm '\n",
      "Actual caption: YOU ONLY LIVE ONCE <sep> UNLESS...YOU'RE BUDDHIST!!\n",
      "prediction:   IVE INCE sep> LIS YOUES RE ACKGETIST                      \n",
      "a man with a mustache and mustaches on his face\n",
      "Actual caption: NIGGA MY BAD <sep> <emp>\n",
      "prediction: A  Y AB sep> sm>           A A A A A A A A A A A A A A A A A A\n",
      "a cartoon character with a stick and a capt that says,'i'm '\n",
      "Actual caption: pop <sep> all the bubblewrap!\n",
      "prediction: ssep>  over waysrap s                                \n",
      "a green and brown minecraft creeper\n",
      "Actual caption: you can run but you caN'T HIDE <sep> SHIT, HE CLOSED THE DOOR\n",
      "prediction:  can' away  can 't AP MEsep> OUT  'OULDES  OR                 \n",
      "a man in a blue shirt is holding his hand up\n",
      "Actual caption: so, to cure ebola we bring the diseased to America <sep> fascinating...\n",
      "prediction: A   the theaca' it  thesep>                   The The The The\n",
      "a pink and red background with a cartoon character in the middle of the image\n",
      "Actual caption: guys <sep> be my friends on myspace\n",
      "prediction: ,sep>  careful friend  way                                \n",
      "a crowd of people\n",
      "Actual caption: BLACK MEN REFER TO WOMAN AS BITCHES <sep> BECAUSE THEY REFER EACH OTHER AS\"DAWG\"\n",
      "prediction: A  LA TO MEMEN  TERS sep> WUSE YOUY G TO OTHER  UG\"s         \n",
      "a cartoon character with a stick and a capt that says,'i'm '\n",
      "Actual caption: Finish fapping.. <sep> CLose ALL the tabs!\n",
      "prediction: inguckking'sep> EARse   timess                       \n",
      "a man with glasses and a tank top\n",
      "Actual caption: Hey Girl, I heard We have similar Glasses <sep> I like that.\n",
      "prediction: A,, I' you'  problemses sep>'it s    A A A A A A A A A A A A A A A A A A A A A\n",
      "a man sitting at a table with a beer bottle\n",
      "Actual caption: I DON'T ALWAYS USE INTERNET EXPLORER <sep> BUT WHEN I DO, ITS TO DOWNLOAD GOOGLE CHROME.\n",
      "prediction: A'ID'T WAYS GET STNETXCEPTAINER sep>  IHEN I  IT I FREEOGETLOAD ESLE ARTE\n",
      "a man sitting at a table with a beer bottle\n",
      "Actual caption: I don't always generate a meme <sep> but when I do, I generate them twice\n",
      "prediction: A''t know drink a lotsep>    do  it'  s                     \n",
      "a cartoon character crying with a sad expression\n",
      "Actual caption: YOUR SLEEPING FACE... <sep> IT'S SO PERFECT\n",
      "prediction: A GOEEP  ACE  sep> 'S  AWFECT                 A A A A A A A\n",
      "a cartoon drawing of a man holding a sign\n",
      "Actual caption: trying to do an assignment <sep> without using wikipedia\n",
      "prediction:  to get something interviewsep>   a                              \n",
      "a man with a red and white background and a red and white background\n",
      "Actual caption: you have a used condom from Jfk <sep> let me call my buddy whos an expert in used condoms from jfk\n",
      "prediction:  can toa lot toms theUksep>  me know you mom ise   ms apk         \n",
      "a man with glasses and a beard is looking at the camera\n",
      "Actual caption: hey <sep> do you know any cheat codes for wii fit?\n",
      "prediction: A isep>  you want how goods? i??                          \n",
      "two girls are smiling and one is covering her eyes\n",
      "Actual caption: they said they were antiracist <sep> but they are anti-white\n",
      "prediction: Two are  are going-istssep>   didn not-governments    They They They They They They They Two Two Two Two Two Two Two Two Two Two Two Two Two Two Two Two\n",
      "a man in a suit holding a gun\n",
      "Actual caption: Share another link <sep> and I'll double dare you motherfucker\n",
      "prediction: A this man sep> 'm be checke youucker               A A A A A A A A A A\n",
      "a man in a purple suit and hat\n",
      "Actual caption: you liked a picture of a child with cancer? <sep> you must care loads about it\n",
      "prediction: is can it lot of a man?sep>'be about the                     \n",
      "a girl standing in front of a fire\n",
      "Actual caption: my friend recently blocked my twitter profile <sep> so i blocked her fire exits.\n",
      "prediction: A  is  the way accountsep>  i can it                       \n",
      "the cover of the album,'the man who knew the world '\n",
      "Actual caption: You may borrow my laptop for your quiz. <sep> Someday I may ask you for a favor.\n",
      "prediction:  can have     ownzesep> where  will be you to a                      \n",
      "a cartoon drawing of a person pointing at a person\n",
      "Actual caption: Guess Who Needs To <sep> Mind Their Own Business\n",
      "prediction:  who's  Besep> less Own Business    A A A A A A A A A A A A A A A A A A A A A A A A A A A\n",
      "a man in a red kimono suit and glasses\n",
      "Actual caption: They laughed at my glasses <sep> i laughed at their medical bills\n",
      "prediction: A are at me sep>'them joke s                           \n",
      "a cartoon of two men standing in front of a blackboard\n",
      "Actual caption: Hey Butt-head! Did the 2016 election made people autistic? <sep> Of course it did, dumbass!\n",
      "prediction: The, Ie-s you   win you distic?sep>  course! did but assss           The The The\n",
      "a cartoon character with a red and blue background\n",
      "Actual caption: I HAVE COMPLEX MACHINES IN MY LAB <sep> THEY DO NOTHING.\n",
      "prediction: ' TOLETED!STERNES Y HOELsep> RE NT INGs                   \n",
      "batman mememe mememememememememememememememe\n",
      "Actual caption: Wait wait wait... <sep> Avengers has generated HOW much already?!\n",
      "prediction:   wait wait sep>      money                             \n",
      "a man in a red shirt and a green shirt\n",
      "Actual caption: Play Crysis on ultrahigh <sep> Lag on Minecraft\n",
      "prediction: Aingrappe the  speedsep> ps the         A A A A A A A A A A A A A A A A A A A\n",
      "a dog with marijuana leaves on it's face\n",
      "Actual caption: Turn THE RADIO ON <sep> I can't SEE\n",
      "prediction: As WINIO ON!sep> ''t believeEE IT         A A A A A A A A A A A A A A A A A A A\n",
      "a bear is sitting on a tree branch\n",
      "Actual caption: I say \"what?\" eventhough <sep> i heard\n",
      "prediction: A'    though isep>'s                             \n",
      "a woman and child sitting on the ground\n",
      "Actual caption: So you tell your kids to think about me <sep> when forcing them to finish their plate?\n",
      "prediction: A, can me friends to stop about itsep>  you them to do their homework                      \n",
      "the cover of the album,'the man who knew the world '\n",
      "Actual caption: Victory <sep> has defeated you...\n",
      "prediction:   issep>  been  s                                 \n",
      "a man with a beard and a red background\n",
      "Actual caption: Eats chocolate <sep> bites own hand\n",
      "prediction: A  sep> s  head                    A A A A A A A A A A A A A\n",
      "a koalaa is sitting in a tree\n",
      "Actual caption: i'm not... <sep> a bear?\n",
      "prediction: k'm   isep> h                             \n",
      "a man holding a gun in his hand\n",
      "Actual caption: tell me the name of the song is darude by sandstorm <sep> one more time!!!\n",
      "prediction: As  truth of the man  e eaesep>  day time                    \n",
      "a man in a suit and tie speaking into a microphone\n",
      "Actual caption: Que krissia vive en facebook <sep> Es culpa de ella misma!!! Jajaja\n",
      "prediction: Ausee    sep> perpable  tsta                 \n",
      "a cat wearing glasses and a bow tie sitting at a table\n",
      "Actual caption: what if i played with yarn on a subatomic level? <sep> string theory.\n",
      "prediction: A a i can with you a mach planetsep>  s                     \n",
      "a man with a big grin on his face\n",
      "Actual caption: ho! ho! ho! <sep> hell o !\n",
      "prediction: n ho!sep>  ih                            \n",
      "a man with a beard and a beard on his head, laughing\n",
      "Actual caption: MW3? <sep> THIS IS DLC for $70!\n",
      "prediction: A  sep>  IS IFF                 A A A A A A A A A A A A A\n",
      "a man with a red cross on his face\n",
      "Actual caption: this pregnancy is... <sep> terminated\n",
      "prediction:  is is  sep> d                                 \n",
      "batman slappinging batman - 79999996\n",
      "Actual caption: i used to be an acrobat until i took <sep> bitchslap to the face!!\n",
      "prediction: ' to love  apebat  i got asep> ch   the head                  \n",
      "a dog with a black background and a black background\n",
      "Actual caption: she says she loves you <sep> wrong msn window\n",
      "prediction: A is'yousep> rg                            \n",
      "a cartoon character with a capt that says, i'm'm'm'm '\n",
      "Actual caption: U LIKE ONE DIRECTION <sep> DON'T U SQUIDWARD\n",
      "prediction: hKE  IONsep> ON'T  EERTORD MEs                      \n",
      "a man holding a gun in his hand\n",
      "Actual caption: Google <sep> Sign me out one more time\n",
      "prediction: A sep>  up up day time             A A A A A A A A A A A A A A A A A A A A\n",
      "a cartoon character with a mustache and a mustache\n",
      "Actual caption: callate <sep> y escuchaa\n",
      "prediction: A me sep> ed                                 \n",
      "a man with long hair and a white shirt\n",
      "Actual caption: If the devil only punishes bad people <sep> Doesn't that make him good\n",
      "prediction: A you vil is es you thingssep>n't matter make you?                     \n",
      "a cartoon character with a stick and a stick in his hand\n",
      "Actual caption: Change all the <sep> PAsswords!\n",
      "prediction: As the timessep> PERehss              A A A A A A A A A A A A A A A A A\n",
      "the cover of the book the great war\n",
      "Actual caption: NHS ENGLAND <sep> CALL TO ACTION\n",
      "prediction:  L sep> LOS  ACTIONs                          the the the the the\n",
      "a woman and child sitting on the ground\n",
      "Actual caption: So you're trying to bring me back to America? <sep> I'm not falling for that shit again\n",
      "prediction: A, canre  to get me to to lifesep>'m not going down youhit                \n",
      "a mememe mememememememememememememememe\n",
      "Actual caption: put joke in wrong meme? <sep> y u no accept challenge?\n",
      "prediction:  s  placesep> e                             \n",
      "a girl with a blue shirt and a white shirt\n",
      "Actual caption: I'm voting for obama <sep> so you can stay unemployed and never leave me\n",
      "prediction: A'm going for abamasep>   can winemployed get have                   \n",
      "a cat with a capt that says, i'm a cat\n",
      "Actual caption: Break down at dr office because of pain <sep> DIAGNOSES: Depression\n",
      "prediction: Aing  thean.  thesep> BEOST s                      \n",
      "a girl with a blue shirt and a white shirt\n",
      "Actual caption: I LOOK INTO YOUR CAR AND I DIDN'T FiND ANY FEMALE HAIR <sep> ARE YOU CHEATING ON ME WITH A BALD GIRL?\n",
      "prediction: A'OK TO THE AR 'DN'T d ITTHUCILASsep>  YOU REAESPER ME ME?OUT SS RL\n",
      "a clown with red hair and a white face\n",
      "Actual caption: Your Facebook Page... <sep> I Look at It.\n",
      "prediction: Ae  sep> 'e Yous    A A A A A A A A A A A A A A A A A A A A A A A A A A A\n",
      "a cartoon character with a yellow background\n",
      "Actual caption: collect weapons <sep> always use the same one\n",
      "prediction: ssep>   same thing                                \n",
      "a man in a suit and tie speaking into microphones\n",
      "Actual caption: when your friend <sep> beats u in a 1 v 1 on fortnite\n",
      "prediction: A e issep> s you thea ss the night                     \n",
      "a cartoon drawing of a person pointing at a person\n",
      "Actual caption: my balls are going <sep> in somebody's mouth\n",
      "prediction:   are  tosep>   elses face                              \n",
      "a woman sitting on a table with a laptop\n",
      "Actual caption: 16 piece fried chicken <sep> I'm cutting back.\n",
      "prediction: A  of chickensep>'m  my on                            \n",
      "a woman in a brown shirt is standing in front of a white and red background\n",
      "Actual caption: nuh uh-uh <sep> you ain't gettin a piece of this booty until i see some fried chicken\n",
      "prediction: Ade h  hsep> 'in't notin'  of cake  i get you  chickens       \n",
      "fusosososososososososososososososososo\n",
      "Actual caption: Not sure if I'm just getting old <sep> Or this generation is f*cking stupid\n",
      "prediction:    it'm going kidding oldsep>   is  auckinging                    \n",
      "a woman in a field with mountains in the background\n",
      "Actual caption: this is me <sep> not caring about debates\n",
      "prediction:  is  sep>   thess                               \n",
      "the big ler\n",
      "Actual caption: my kids asked if god was real <sep> i helped them find the answer\n",
      "prediction:   are for  is sep>'  big               the the the the the the the the the the\n",
      "a cartoon character with a sad expression sticker\n",
      "Actual caption: people please <sep> stop singing frozen songs\n",
      "prediction: A are helpsep>                                    \n",
      "a cartoon character with a red and blue background\n",
      "Actual caption: Beat them within an inch of their lives and imprison them <sep> it's the only way to make friends\n",
      "prediction: s up  hour  lives youe them insep>'s  best thing get thems                  \n",
      "a man in a green jacket and hat\n",
      "Actual caption: Memes? <sep> Is that a new kind of candy?\n",
      "prediction: is and sep>'it a   of?            is is is is is is is is is is is is is is is\n",
      "an old woman holding a laptop computer\n",
      "Actual caption: Two girls and one cup? <sep> sounds like an interesting baking program, I think I'll see\n",
      "prediction: A people are  of ofsep>  like   idea recipe''m go you.                   \n",
      "a picture of a young boy with a smile\n",
      "Actual caption: PHONE GOES OF AT FUNERAL <sep> RINGTONE IS HIGHWAY TO HELL\n",
      "prediction: OTO ES FERTENIVERALsep> SIME    ELLs                  \n",
      "a man in a blue suit sitting in a chair\n",
      "Actual caption: Liverpool 4 - Arsenal 0 <sep> that escalated quickly\n",
      "prediction:      sep>'s                             \n",
      "a man in a suit and tie is making a gesture\n",
      "Actual caption: patent <sep> this!\n",
      "prediction:  sep>  iss                                    \n",
      "a cartoon character with a capt that says,'i'm'm'm'm\n",
      "Actual caption: Hurrayy... <sep> Long holiday !!!\n",
      "prediction: ry!ysep>  live weekend                               \n",
      "a girl with a blue shirt and a smile\n",
      "Actual caption: you blinked <sep> Don't want to see me anymore?\n",
      "prediction:  cant sep> 't be to do                           \n",
      "a cat with its mouth open and a capt that says,'i'm '\n",
      "Actual caption: national debt already maxed at 14 trillion? <sep> just raise the debt limit\n",
      "prediction: ist   d out  sep>  s bar                        \n",
      "a man in a suit and tie speaking into microphones\n",
      "Actual caption: Servers who bring you refills without having to ask <sep> You da Real MVp\n",
      "prediction: s  are  s  to paysep>  can man  s                      \n",
      "a picture of a man with a face on it\n",
      "Actual caption: during sex, girl says she has to go pee <sep> okay\n",
      "prediction:  aa,' go toepsep>                          \n",
      "a cartoon drawing of a man holding a sign\n",
      "Actual caption: in class, 2+2=4 <sep> exam, if you have 3 bikes, and you give one away. what is the weight of the sun?\n",
      "prediction:     2 sep>    can   ' to  the  of  world?,        \n",
      "a cartoon duck with a hat and a blue hat on it's head\n",
      "Actual caption: whats the difference between an apple and an orange? <sep> gooby pls\n",
      "prediction: A  the point between   and  apple?sep> so s                       \n",
      "a man in a suit and tie is talking\n",
      "Actual caption: people who are obsessed with this meme <sep> are aliens\n",
      "prediction:  are are  with  gamesep>  ss                             \n",
      "the cast of the sopranos\n",
      "Actual caption: Lets call the IT support <sep> 10 minutes before they go home\n",
      "prediction: ' go it  departmentsep>    the leave to           the the the the the the the the the the the the the the the the the\n",
      "a man in a suit and tie is laughing\n",
      "Actual caption: government shutdown? <sep> time to steal the declaration of independence\n",
      "prediction: A officialssep>  to go money independence                A A A A A A A A A A A A A A\n",
      "a picture of a man with a mustache and mustache\n",
      "Actual caption: Jewcy Juice <sep> Made from concentrate\n",
      "prediction: Aez y dsep>  me                 A A A A A A A A A A A A A A A\n",
      "a group of children dancing in the dirt\n",
      "Actual caption: IT'S FRIDAY BITCHES!!! <sep> <emp>\n",
      "prediction: 'S ANTEND CHS sep> sm>                        \n",
      "a woman holding her head in front of her face\n",
      "Actual caption: I haven't lost any weight <sep> and i've worked out three times already.\n",
      "prediction: ' 't  my weightsep>  Ii'm lost out for times                     \n",
      "the cast of the sopranos\n",
      "Actual caption: Lets relEase awsome vidEo games <sep> On the first day of school\n",
      "prediction: ' goaede  littlewsepsep>  the road day  school                 \n",
      "a picture of a man with a hat and a beard\n",
      "Actual caption: creates boobs <sep> so men can go to hell for looking\n",
      "prediction: s abssep>   can be to the  at                         \n",
      "a dog with a black background and a black background\n",
      "Actual caption: hates being alone <sep> sits in room all day\n",
      "prediction: As it sep> s down the day                             A\n",
      "a man in a suit and tie is holding a cigarette\n",
      "Actual caption: starbucks <sep> stop paying $4.00 for a 30 cent cup of coffee\n",
      "prediction: Aingssep>  smoking me. a  minute  coffee                        \n",
      "a cat sitting on a couch with a pillow\n",
      "Actual caption: Humanity's biggest problem <sep> HUMANS!\n",
      "prediction: As iss  problem issep> mmMM         A A A A A A A A A A A A A A A A A A A A A A\n",
      "a red and white poster with a face drawn in the middle\n",
      "Actual caption: 29 kill killstreak, power goes out <sep> kills entire family\n",
      "prediction:  ss es  of tosep> s  family                         \n",
      "a man with a beard and a red background\n",
      "Actual caption: british colonization <sep> was the best thing that ever happened to india.\n",
      "prediction: Atish isep>   best thing  ever happened to mes                       \n",
      "a dog sitting on top of a wooden table\n",
      "Actual caption: I don't always bark unnecessarily <sep> But When I do I make sure its 2:00 in the morning\n",
      "prediction: A''t know get atcontrolecessarilysep>   I get'sure it nota the morning             \n",
      "a man is holding a remote control device\n",
      "Actual caption: don't drink that water <sep> it's wet\n",
      "prediction: 't worry muchsep>'s t                            \n",
      "a kid with a green shirt and a white shirt is looking at the camera\n",
      "Actual caption: Grows up and finds out he was a meme <sep> gets laid because of it\n",
      "prediction: An up to   he' a sep>    hiss                      \n",
      "a cartoon drawing of a person pointing at a person\n",
      "Actual caption: guess who <sep> needs some penis?\n",
      "prediction:  what isisep>  to helpguin                                \n",
      "a group of people with their arms up\n",
      "Actual caption: Plays Air guitar <sep> band stops to listen\n",
      "prediction: ing plansep> its sing tos               A A A A A A A A A A A A A A A A A\n",
      "a group of men in a room\n",
      "Actual caption: and then i told them <sep> \"you won't lose your health care\"\n",
      "prediction:   i' you toisep> I''t believe  mind                         \n",
      "a person holding a cat in their hand\n",
      "Actual caption: See you tomorrow? <sep> THANKS FOR THE WARNING.\n",
      "prediction: Am sep>  YOU  ONING                A A A A A A A A A A A A A\n",
      "a group of men in a room\n",
      "Actual caption: Calls for stiffer gun control <sep> Blows up a hospital\n",
      "prediction:  me  helpness  sep> ADs  a window                A A A A A A A A A A\n",
      "a simple, stylized drawing of a face with a very exaggerated expression of anger or frustration\n",
      "Actual caption: TED <sep> y u no tell us how you met their mother\n",
      "prediction: xsep> e   me  to feel                           \n",
      "a simple, stylized drawing of a face with a very exaggerated expression of anger or frustration\n",
      "Actual caption: commercial <sep> y u no same volume as show!?\n",
      "prediction: ssep> e                               \n",
      "a shirtless man sitting on a bed\n",
      "Actual caption: Hey Girl <sep> You're sexier than Lisa Goldberg\n",
      "prediction: A,,sep>'re ahity than meberg                       A A A A A\n",
      "a picture of a goat with a capt that says, i'm'm'm '\n",
      "Actual caption: Sees obvious trap <sep> Walks over it to find out what it does\n",
      "prediction:    ssep> s away to the    is                         \n",
      "a woman with long hair and a red shirt\n",
      "Actual caption: Nirvana's awesome! <sep> Can't wait to see them live\n",
      "prediction: Agvana s sep> 't wait to see you again              A A A A A A A A A A\n",
      "a man in a green jacket and hat\n",
      "Actual caption: Just 15 more Fridays <sep> Until Christmas\n",
      "prediction: A  minutes minutess andsep>  then                              A A\n",
      "a man laughing and laughing with the capt of a text that reads,'i'm '\n",
      "Actual caption: \"DUDE I AM SO METAL!\" <sep> BITCH PLEASE MY BLOOD IS MOLTEN METAL\n",
      "prediction:  H' DIC sep> CH  AKE ABOD YDERING s               \n",
      "a man holding two guns and a sign that says, i'm'm'm '\n",
      "Actual caption: I KNOW THE LAST DIGIT OF PI <sep> AND I DIVIDED IT BY ZERO\n",
      "prediction: A'NOW YOU AST ATEGER  NKsep>  'ONINED IT Y RO s            A A A A\n",
      "a girl with a pink background and a blue background, says, i'm'm '\n",
      "Actual caption: do you like my new dress? <sep> it's cyan and magenta\n",
      "prediction: A you know it   'sep>'s a blueenta                       \n",
      "a man with a beard and a beard on his head, laughing\n",
      "Actual caption: I take the \"THE\" out of <sep> psychotherapist\n",
      "prediction: A'  sE   of theasep>            A A A A A A A A A A A A A A A A A A\n",
      "a man laughing and laughing with the capt of a text that reads,'i'm '\n",
      "Actual caption: WHEN MRS.JOHNSON SAYS \"GO TO MEASURE 69\" <sep> I'M LIKE\n",
      "prediction: TF Y. OHNSON YS IT THE URE  sep>'m KE              \n",
      "a cartoon character in a red suit\n",
      "Actual caption: If you're going on youtube without adblock <sep> you're gonna have a bad time\n",
      "prediction:  you wantre  to tube, a sep>'re a die toa lot time                \n",
      "a kid with a purple and orange background\n",
      "Actual caption: plays with himself <sep> loses\n",
      "prediction: A with sep> s s                     A A A A A A A A A A A A A A\n",
      "a man with a black shirt and a black tie\n",
      "Actual caption: I AM <sep> SPIDER MAN\n",
      "prediction: A' sep> EERIT        A A A A A A A A A A A A A A A A A A A A A A A A A A\n",
      "a man with a mustache and a mustache\n",
      "Actual caption: I mustache you a question. <sep> can eyebrows your computer?\n",
      "prediction: A' be is insep>  yous must                         \n",
      "the communist flag\n",
      "Actual caption: In soviet internet, <sep> Google search you!\n",
      "prediction:  the manyt times sep>  tube                      the the the the the the the the\n",
      "a man with a beard and a beard in a scene from the movie star wars\n",
      "Actual caption: you were the chosen one!! <sep> you were supposed to make fun of bronies, not join them!!!\n",
      "prediction:  know  best onesep>'the to be me of meto but  the                   \n",
      "a man in a red shirt\n",
      "Actual caption: Hillary: a psychopath. trump: a psychopath. <sep> america: What the fuck is wrong with you???\n",
      "prediction: is Clinton hpathmps hpath.sep>     hellfuck? going with you?           \n",
      "a man with long hair and a mustache\n",
      "Actual caption: you keep calling people homophobes <sep> I don't think it means what you think it means\n",
      "prediction: A can it me phobicssep> ''t know'anything you think is                   \n",
      "a cartoon character in a red suit\n",
      "Actual caption: if you're mean to your girlfriend in her dream <sep> your gonna have a bad time\n",
      "prediction:  you wantre  me friends  birthdaysep> ea die toa good time                   \n",
      "a boy is sitting at a desk with a laptop\n",
      "Actual caption: Hot LONELY singles <sep> in my area wanting me\n",
      "prediction: AdogolliLY ssep>  the head to to                           A A\n",
      "a picture of a man with a hat and a shirt\n",
      "Actual caption: you sing juan direction's song? <sep> i can rap eminem's lose jourself !\n",
      "prediction:  can ly sesep> ''emsern             \n",
      "the communist flag\n",
      "Actual caption: In russia <sep> Water more expensive than vodka\n",
      "prediction:  thea sep>   than s                    the the the the the the the the the the the the\n",
      "a man in a suit and tie speaking into a microphone\n",
      "Actual caption: Crystal... <sep> Your fat is hanging out of your shirt, you see.\n",
      "prediction: As sep> e as  out of the '                   A A A A A A\n",
      "a painting of a man in a hat and coat\n",
      "Actual caption: Allow the carcasses <sep> To make contact with the ground\n",
      "prediction:  me s tosep>  be  with the sun                             \n",
      "a pokemon pio with a yellow and blue background\n",
      "Actual caption: snorlax is blocking the way! <sep> no, you can't walk around\n",
      "prediction: Ahitoope  the sep>   ''t top                    \n",
      "ariel from the little mermaid\n",
      "Actual caption: <emp> <sep> PUTTING WORDS ON THE TOP IS TOO MAINSTREAM\n",
      "prediction: asmt sep> s  ORDS   O UCHONG                  \n",
      "a dog sitting on top of a wooden table\n",
      "Actual caption: Cool Dog <sep> Loves Bitches\n",
      "prediction: A,sep>  it toe   A A A A A A A A A A A A A A A A A A A A A A A A A A A A A A A\n",
      "a woman in a pink dress and a man in a suit\n",
      "Actual caption: let the hunger games <sep> begin\n",
      "prediction: A' man be beginsep>                             A A A A A A A\n",
      "the simpsons is a cartoon character\n",
      "Actual caption: look marge, i'm a liberal <sep> \"but muh feelings!!\"\n",
      "prediction:  aty  i'm a sep>  a                      \n",
      "a man with a beard and a beard in a scene from the movie star wars\n",
      "Actual caption: got a large chip but it broke in the dip <sep> you were the chosen one!\n",
      "prediction:  a be be in'the lastsep>  know  best one                       \n",
      "a group of men in a room\n",
      "Actual caption: then i said <sep> you can keep your doctor, you can keep your insurance...period\n",
      "prediction:  i' sep>  can' it mouth.  can' your doctor.ods                    \n",
      "a woman in a brown shirt is standing in front of a white and red background\n",
      "Actual caption: OH <sep> HELL TO THE NO!\n",
      "prediction: A NOYsep> mmO YOU ISE                  A A A A A A A A A A A A A A\n",
      "bender and bender from the simpsons\n",
      "Actual caption: WE'LL HAVE OUR OWN WORLD CUP <sep> WITH BLACKJACK AND HOOKERS\n",
      "prediction: Bend RE  TOHE WN BUSINESS UPsep> OUT ACK BLPE              Bend Bend Bend Bend Bend\n",
      "a man with a black shirt and a black tie\n",
      "Actual caption: doesn't spit nor swallow <sep> saves\n",
      "prediction: A't uck out sep> s his                             \n",
      "south park south park south park south park south park south park south park south park south park south\n",
      "Actual caption: If i could just not get stood up by a girl one single time <sep> I would be so happy\n",
      "prediction: south youi want  go get  up a  day dayisep>  would be  happy         south south south south south south south south south south\n",
      "a woman in a field with mountains in the background\n",
      "Actual caption: look at all the friends i have <sep> when i'm not on facebook\n",
      "prediction:  at the the  havesep>  i getm done  the                       \n",
      "a mememe mememememememememememememememe\n",
      "Actual caption: nyan cat? 10 hours? <sep> ch.. challenge accepted...\n",
      "prediction: ace    agosep> r  me                        \n",
      "a man with glasses and a tank top\n",
      "Actual caption: hey girl <sep> I know it's cold outside but i'll warm you up when you get home\n",
      "prediction: A,isep>'you's  i'm be up up  get home                 \n",
      "two men in suits and sunglasses are taking a selfie\n",
      "Actual caption: so that's how google makes money <sep> Got it? good\n",
      "prediction: Two  s  s moneysep>  s           Two Two Two Two Two Two Two Two Two Two Two Two Two Two Two Two Two\n",
      "a picture of a man with a mustache and mustache\n",
      "Actual caption: no need to debate about gay marriage <sep> if there's no gays\n",
      "prediction:   to  itssep>  you iss no ones                        \n",
      "a man and woman standing in a room\n",
      "Actual caption: AND WHAT DO WE SAY TO SITES THAT WANT TO CONNECT USING FACEBOOK? <sep> NOT TODAY\n",
      "prediction: They   YOU DOY  THES  OULD TO TINECT  ACEBOOKsep>                 A\n",
      "a cartoon character is sitting in a car\n",
      "Actual caption: Remember when mtv used to play music <sep> not even pepperidge farm remembers\n",
      "prediction: A the irv was to be?sep>  anymore eds                     \n",
      "a man with a cigarette in his mouth\n",
      "Actual caption: Sees you parked in handicapped spot <sep> BReaks your legs so you don't get in trouble\n",
      "prediction: A    in theped parkingsep> OTHERes head you can't have s               \n",
      "a group of referees are talking to each other players\n",
      "Actual caption: so guys... <sep> Are we wearing white shirts with black stripes or black shirts with white stripes?\n",
      "prediction: A, sep>  you going   stripes somethingshirts with white stripes                   \n",
      "a man in a suit and tie is making a gesture\n",
      "Actual caption: dedicated to <sep> kim jong un\n",
      "prediction:  to theasep>  ongi                                \n",
      "a man in a gray shirt holding a knife\n",
      "Actual caption: american <sep> \"football\"\n",
      "prediction: Assep> Is\"              A A A A A A A A A A A A A A A A A A A A A\n",
      "one does the trick - one does the trick one does the trick one does the trick one does\n",
      "Actual caption: one does not simply <sep> find nemo\n",
      "prediction:  does the do sep>  ae    one one one one one one one one one one one one one one one one one one one one one one one one one one one one one\n",
      "a cartoon character with a sad expression sticker\n",
      "Actual caption: Kitty <sep> Please Come home\n",
      "prediction: AEEP issep>  help Home        A A A A A A A A A A A A A A A A A A A A A A A A A A A\n",
      "a green and brown minecraft creeper\n",
      "Actual caption: Please Sir help <sep> they strapped a bomp on me\n",
      "prediction:  help, mesep> 'ped mea on on me                           \n",
      "a man with a mustache and mustaches on his face\n",
      "Actual caption: OH \"NEW YEAR NEW ME\" ? <sep> EVERYBODY TAKE A SEAT\n",
      "prediction: A NOW SSXsep> THDY AKES IDE      A A A A A A A A A A A A A A A\n",
      "a girl with a yellow background and a yellow background\n",
      "Actual caption: you are so funny <sep> just like my boyfriend\n",
      "prediction: A can  cutesep>  kidding  mom                               \n",
      "a picture of two people in a room with a red and blue background\n",
      "Actual caption: yeah <sep> this place sucks ass\n",
      "prediction: Two isep>  is isucksss                            Two Two Two\n",
      "a cartoon penguin with a blue hat and a white background\n",
      "Actual caption: YOUTUBE <sep> PUT THE ERR0R IN YOUR ASS PLS\n",
      "prediction: A BE sep> EO IT YOR  SSISTLAN           A A A A A A A A A A A A A A\n",
      "a cat sitting at a table with a cup of coffee\n",
      "Actual caption: I SHOULD <sep> BUY A LOTTERY TICKET\n",
      "prediction: A'OULD GETsep> Y ME LOT OF KETS                A A A A A A A A A A\n",
      "a man in a suit and sunglasses is helping a woman with a skateboard\n",
      "Actual caption: Happy arse fucking friday <sep> <emp>\n",
      "prediction: A birthdayrepuck  daysep> sm>                         \n",
      "a cartoon character with a red and blue background\n",
      "Actual caption: every time you beat the elite four <sep> i came\n",
      "prediction:  time  get  s timessep>'to                             \n",
      "a man in a top hat and top hat with a smile\n",
      "Actual caption: Welcome to my <sep> SweeAt shoP\n",
      "prediction: A to the househatsep> eepyeoe          A A A A A A A A A A A A A A A A A A A\n",
      "a cat with its mouth open and a capt that says,'i'm '\n",
      "Actual caption: Drink up! <sep> Fetuses love alcohol!\n",
      "prediction: Aingsep> atchings are s                          A A A A\n",
      "a painting of a man in a hat and coat\n",
      "Actual caption: scrutinize thyself <sep> before thou devastates thyself\n",
      "prediction: izesoselfsep>  ievilstations meyself                     \n",
      "a man with glasses and a beard\n",
      "Actual caption: HEY GIRL <sep> ACNE DOESN'T MAKE YOU ANY LESS BEAUTIFUL\n",
      "prediction: A'!RL!sep> TING S'T EAN ME  ESSAUTIFULs          A A A A A A A\n",
      "a guy holding a beer glass in his hand\n",
      "Actual caption: Smokes weed and listens to dark side of the moon <sep> On shuffle.\n",
      "prediction: Ae  s s to music music of the moonsep>  theaffle                    \n",
      "a man in a sombre hat with a mexican flag\n",
      "Actual caption: no americans <sep> sneaking into mexico\n",
      "prediction:  ssep> s in thexico                              \n",
      "an eagle with the american flag on it's head\n",
      "Actual caption: RELIGIOUS FREEDOM <sep> EXCEPT FOR NONCHRISTIANS\n",
      "prediction: aiseEVOUS DOMsep> ASC  IGHT-ANCETOSMs                       \n",
      "a cat sitting at a table with a newspaper\n",
      "Actual caption: I should start studying <sep> <emp>\n",
      "prediction: A' have sep> sm>                             A A A\n",
      "a man with a mustache and a shirt\n",
      "Actual caption: I'M THE FAT HITLER <sep> <emp>\n",
      "prediction: A'm REREAMANEAD sep> sm>                A A A A A A A A A A A\n",
      "a man with a big grin on his face\n",
      "Actual caption: i`m erdogan <sep> kiss me please )\n",
      "prediction: 's gonnarsep> e                          \n",
      "the communist flag\n",
      "Actual caption: in soviet russia <sep> music kills rebecca black\n",
      "prediction:  theviet unionsep> s alismcca                         \n",
      "a group of children dancing in the dirt\n",
      "Actual caption: <emp> <sep> TWERK TEAM\n",
      "prediction: sm> sep> AKEICEENT AKE                             \n",
      "a cartoon character with a hat on and a green background\n",
      "Actual caption: sleep powder, harden <sep> pound\n",
      "prediction: Ay  to sep> ings                                \n",
      "a baby with headphones on is looking at the camera\n",
      "Actual caption: plays bf3 beta like it's cod <sep> goes 0-20\n",
      "prediction: A withb  's sep>  to                         \n",
      "keep calm and keep calm\n",
      "Actual caption: <emp> <sep> procrastinate until the very last minute\n",
      "prediction: keep veryt keepsep> keepverbstin you end end second  keep keep keep keep keep keep keep keep keep keep keep keep keep keep keep keep keep keep keep keep keep keep keep\n",
      "a picture of a man with a face on it\n",
      "Actual caption: can i come with you guys? <sep> NO? okay...\n",
      "prediction:  youi get to you  sep>                             \n",
      "a black cat wearing a tie and a yellow tie\n",
      "Actual caption: what a crazy day <sep> only 18 hours of sleep\n",
      "prediction: A a  catsep>    sleep                             \n",
      "a man with glasses and a beard\n",
      "Actual caption: hey girl <sep> the way you spent your weekend at the gym instead of going out is really sexy\n",
      "prediction: A  isep>   to want  money the beach of  to  niceahity                 \n",
      "a man in glasses and a green background with the words,'i'm '\n",
      "Actual caption: an a minus is an a <sep> minus my love for you\n",
      "prediction:  isian   optionwsep>    you                         \n",
      "a cat with its mouth open and a capt that says,'i'm '\n",
      "Actual caption: can't give good advise? <sep> leave sarcastic remark instead\n",
      "prediction: A yout wait you advicesep>  mehitalymark                       \n",
      "a dog sitting on a desk with a laptop\n",
      "Actual caption: hotdog <sep> hot dog?\n",
      "prediction: A dogssep> dog             A A A A A A A A A A A A A A A A A A A A A A\n",
      "a frog with a capt that says, i'm'm'm'm'm\n",
      "Actual caption: dad comes into the room <sep> stare at google until he leaves\n",
      "prediction: , to town housesep> s me i gets                           \n",
      "a dog sitting on top of a white table\n",
      "Actual caption: i is da wow <sep> are do u da wow???\n",
      "prediction: Aa' ddywsep>  youggyu want w                        A A\n",
      "a cartoon character with a capt that says, i'm'm'm'm '\n",
      "Actual caption: YOU TOUGHT YOU WIPED YOUR BROWSER HISTORY <sep> BIG BOOBS FAN\n",
      "prediction:  HIH  OULD   ABN KEY sep>  ANGREA                 \n",
      "a man with a red and white background and a red and white background\n",
      "Actual caption: Old ass nickel? <sep> let me call my buddy who is an expert in old ass nickels\n",
      "prediction: A man  ssep>'know you mom is  expert  carss                   \n",
      "a group of referees are talking to each other players\n",
      "Actual caption: soooooo... <sep> homerun?\n",
      "prediction: spalatuerkarten Gründenionat mouvement inteleg spalat plombierpottingigte électroniquebehalten astaziguesschiedcottclamOREkamagraZAubilassSP serrurier geeignetloggedlassen serrurier riscunui contraire Mädchenschnitt serrurier essentiellebianschneid livrcapsuligkeit plombier serrurier\n",
      "obama and obama toasting at a bar\n",
      "Actual caption: so the golf course is still open in Ferguson? <sep> on my way.\n",
      "prediction: steaddeprivedApothekeaceobos turcNN spannend sorte masinaRAC ferry pleine ähnlich Regulament Wurzelweiß Sinaidorfgeladenissondépendance télévisionhöhere spalatarulemblfolgepulsion Schattenlane serruriercreddrückttoriitorii Survey sanatoslandschafterungijklinersnehm prochaineDistinguishedüm adanc\n",
      "a man with glasses and a beard\n",
      "Actual caption: Hey Girl, <sep> I'd love get on a stable exchange stage with you and go from a \"me\" to a \"we\".\n",
      "prediction: Ersatzteile spalatност astazi superioara masina boug Craciunţa verhindertierungwichtigen nastere Clickfunnelteller spalat Syndromepton machiaj KircheBreflandais garantiert nuntapermeabilwartet Violetionistlomiwartet lemnstoff humid Reference nasterehoch LeichtFinishedillage gelegenhydrate invata Vergangenheitgardinen Hilfe\n",
      "a man with a black shirt and a black tie\n",
      "Actual caption: Oh so you went to AA last night <sep> he was there huh...\n",
      "prediction: Eintragwechsel Englisch passantqué Travailphébeliebig incadr proaspat Geist slavewöhn Clickfunnel machiaj gust hartieleben serrurierillergianrträgeöffentlichenserrurerievenuepunkte Clickfunnelkabel Konsequenz vigoare Wechsel genugvezstadtdruck Bewegungflugieux usoaraeuilATH fisierwissenschaft pourquoi passe\n",
      "a man laughing and laughing with the capt of a text that reads,'i'm '\n",
      "Actual caption: me chinese <sep> me play joke\n",
      "prediction: plombier hartie serrurier Zahn serrurierfarben spät serrurierlenk serrurier raspunde spalat medicul passant Craciunöhneko serrurier serrurier afaceri serrurier eternity serrurier spalat serrurier raison passant serrurier Mindesthangängig Menge cumparatiqueussirium serruriergeschlossen passantjuri spalat incalzire serruriercifra\n",
      "a man is holding a remote control device\n",
      "Actual caption: CHICKEN POT PIE <sep> MY THREE FAVOURITE THINGS\n",
      "prediction: vetiÜbungen serrurier proaspat serrurier spalat senzati serrurier serrurier and volleyball serrurier spéciale serrurier serrurier chiar Zubehör spalat rechts invata Clickfunnel prevazutdemokrat inaltime serrurieroara serrurier serrurier serrurier serrurier Sonnen serrurier  masina spalatgesagtSpeicherempelpunetikamagraluc serrurieralle foloseste\n",
      "a man with a smile on his face and the capt says,'i'm '\n",
      "Actual caption: Roses are red, Valentine's day is crap. <sep> i have no girlfriend, FAp fap fap fap\n",
      "prediction: 'bersighted superioara medicul serrurier festgelegt caractéris serrurier serrurierodiasichtig inteleg machiaj wait hartieserrureriemol Einfluss superioara identificTOR Zahlen serrurier tarziu passant unicverkauf foloseste machiajöstlich fisier serrurier Berichtozo Travail passant serrurier serrurier astazi machiaj medicul serrurier masina serrurier\n",
      "a man in a fur coat holding a microphone\n",
      "Actual caption: Finally it's the season where <sep> The weather matches people's hearts\n",
      "prediction: abilariya electoral spalat Moldova Einflussfehl serrurier serrurier superioara Craciun serrurier serrurier serrurier Border rendember boutonvenir famille favoris comunic festgelegt serrurierhidrat serrurieromia astazi serrurier serrurier passant spalat Iisuskabelserrurerie Clickfunnelacul serrurieravant serrurier spalat senzati spalat serrurier\n",
      "a group of children dancing in the dirt\n",
      "Actual caption: SHAKE WHAT YOU <sep> MOMMA GAVE YA\n",
      "prediction: ItARE   CANsep> V OD MEUP                          It It It It It It\n",
      "a cartoon of two men standing in front of a blackboard\n",
      "Actual caption: uh huh huh <sep> I think we have a winner\n",
      "prediction: h   sep>'' a problem                         \n",
      "a cat with its mouth open and a capt that says,'i'm '\n",
      "Actual caption: yolnt <sep> you only live nine times\n",
      "prediction: e  aesep>' once days                              \n",
      "a cartoon character with a red hair and glasses\n",
      "Actual caption: Not sure if hungry <sep> or bored\n",
      "prediction: It    orsep>            The The The The The The The The The The The The The The The The The The The The The The The\n",
      "a girl with a blue shirt and a smile\n",
      "Actual caption: Your facebook says 'happy independence day' <sep> are you breaking up with me?\n",
      "prediction: s page sppy birthday day'sep>  you  the with me?                        \n",
      "a man in a white shirt and tie is standing on a stage\n",
      "Actual caption: What do you mean <sep> you forget your homework?\n",
      "prediction:   you mean?sep>'to? is                              \n",
      "keep calm and keep calm\n",
      "Actual caption: <emp> <sep> DO THE HARLEM SHAKE\n",
      "prediction: sm> sep>  NOT WORKDERY OUTS                          \n",
      "a man with a mustache and a shirt\n",
      "Actual caption: NOM NOM NOM <sep> <emp>\n",
      "prediction:   M NOM NOsep> sm>                              \n",
      "a woman with her hand on her head\n",
      "Actual caption: had an idea for a first world problem meme <sep> someone else already did it\n",
      "prediction: A her  to a new date problemsep>  else it                        \n",
      "a man with a shirt on and a shirt on\n",
      "Actual caption: I'm not in high school <sep> I'm high in school\n",
      "prediction: A'm   love schoolsep>'m  school school                       A A A A\n",
      "a man in a suit sitting in a chair\n",
      "Actual caption: Fuck you, satan! <sep> Ephessians 6 : 12\n",
      "prediction: uck you  ihit down sep> ssyi s                     \n",
      "a man in a suit and tie is standing\n",
      "Actual caption: Got in touch with my inner self <sep> i'll never buy cheap toilet paper again\n",
      "prediction:   the with   selfsep>'m be stop   paper                       \n",
      "a man in glasses and a green background with the words,'i'm '\n",
      "Actual caption: OF COURSE YOU HAVE THE FREEDOM OF CHOICE! <sep> VIOLIN OR PIANO?\n",
      "prediction:  OURSE   TO DOM  CHOICE sep> ENLET DEREOO                    \n",
      "south park - the office\n",
      "Actual caption: Its finally friday! <sep> aaannd its sunday\n",
      "prediction: '  hereday sep> han  day                         \n",
      "a group of people with their arms up\n",
      "Actual caption: beats lemmy in poker <sep> with the ace of spades\n",
      "prediction: s ee  sep>    des                         \n",
      "a dog with a black background and a black background\n",
      "Actual caption: you mean <sep> you didnt throw the ball\n",
      "prediction:  can sep> '  ball                               \n",
      "a black wolf with a black background and a white background\n",
      "Actual caption: drive-thru restaurant? <sep> dRIVE THROUGH RESTAURANT!\n",
      "prediction:  byru sep> angiIMEEEH ULURANT                  \n",
      "a man with long hair and a white shirt\n",
      "Actual caption: What if the reason we have no visitors from the future <sep> is because we have no future\n",
      "prediction: is a we  is' to money is  USA?sep>   we don no money         is is is is is is is is is is is is is is\n",
      "the hok in the hok\n",
      "Actual caption: breath mints <sep> you have no power here\n",
      "prediction:  inssep>'to idea                               \n",
      "a cartoon character with a stick and a stick in his hand\n",
      "Actual caption: use all the punctuation! <sep> <emp>\n",
      "prediction: A  the timeuresation markssep> sm>                         A A A A\n",
      "jesus's last supper canvas print\n",
      "Actual caption: so then isis burned a guy alive <sep> and the president said it was my fault\n",
      "prediction:    it   lotsep>      was  fault   je je je je je je je je je je je je je je je je je je je je\n",
      "a cat with a capt that says, i'm a cat\n",
      "Actual caption: 'you can't drink coffEe now, you'll be up all night!' <sep> ahahahaha.\n",
      "prediction: AiI''t do iee  canre die fine to nightsep> hhahahaha         \n",
      "a cartoon character crying with a sad expression\n",
      "Actual caption: aren't i good enough <sep> for the first page?\n",
      "prediction:  you't youi wantsep>   first time                          \n",
      "a man in glasses and a green background with the words,'i'm '\n",
      "Actual caption: You Build robot? <sep> You Must Build robot that build Robot\n",
      "prediction: ' ssep>'Be Robots is ss                A A A A A A A A A A A A A\n",
      "a picture of an owl with a cigarette in its mouth\n",
      "Actual caption: geek loser in high school. <sep> sex god in college.\n",
      "prediction: ys   schoolsep> hitys                          \n",
      "an eagle with the american flag on it's head\n",
      "Actual caption: three big macs <sep> diet coke\n",
      "prediction:   ssep> ke                                \n",
      "a man with a beard and a red and yellow background\n",
      "Actual caption: i heard you had the flu, wait a moment. <sep> i'm sorry. you have a brain tumor.\n",
      "prediction: A'    best  a minuteisep>'m'toa lots             \n",
      "toy story - toy story\n",
      "Actual caption: corruption <sep> corruption everywhere\n",
      "prediction:  sep>    to to to to to to to to to to to to to to to to to to to to to to to to to to to to to to to to to to to\n",
      "a cat sitting on a couch with a pillow\n",
      "Actual caption: i wish i were an octopus <sep> so i could slap 8 people at once\n",
      "prediction: Ai' i could  animalalytopussep>  i can beeatn  times thes                \n",
      "a woman and a child are sitting together\n",
      "Actual caption: so you're tellin' me in your country <sep> kids pretend to be in war for fun?\n",
      "prediction: A  canre going me me me to  sep>  are to be  love                The The A A A\n",
      "a koalaa is sitting in a tree\n",
      "Actual caption: WHAT DO YOU MEAN <sep> YOu used these to wipe\n",
      "prediction:  IS YOU TEAN sep> ES' to  get mys                          \n",
      "a baby laughing\n",
      "Actual caption: GUESS WHAT I DID <sep> HINT IT'S IN MY NAPPY\n",
      "prediction: AY  IS ID sep> APPS S  THEY AMEY             A A A A A A A A A A\n",
      "a boy is sitting at a desk with a laptop\n",
      "Actual caption: I'LL CORRECT HIS GRAMMAR <sep> THAT'LL SHOW HIM\n",
      "prediction: A'm MEECT ITELL DES sep> 'S OW MEIM THE                   A A A\n",
      "a woman sitting on a table with a laptop\n",
      "Actual caption: WARNING: <sep> ANOREXIA\n",
      "prediction: AARNING: sep> OTHER P              A A A A A A A A A A A A A A A A A A\n",
      "two men standing in a kitchen\n",
      "Actual caption: sig figs <sep> the best i can do is 3\n",
      "prediction: Twohssep>   can do is s                 Two Two Two Two Two Two Two Two Two Two\n",
      "a girl with a yellow background and a yellow background\n",
      "Actual caption: DO ME <sep> a favoR and babysit my little brother while i go to my boyfriend'S house\n",
      "prediction: A NOT sep> huckvrite i baby sister i' to school rooms house             \n",
      "the simpsons simpson wallpapers\n",
      "Actual caption: look marge <sep> i'm your mom\n",
      "prediction:  aty sep>  lovem s                              \n",
      "a cat sitting at a table with a newspaper\n",
      "Actual caption: <emp> <sep> We should buy a 3D printer\n",
      "prediction: Aism> sep>'go a newd printer                  A A A A A A A A A\n",
      "a group of men in a room\n",
      "Actual caption: they thought healthcare was free <sep> suckers\n",
      "prediction:  are it was sep> kings                               A A\n",
      "a picture of three children dancing together\n",
      "Actual caption: SCHOOL JUST GOT BOMBED! <sep> NO HOMEWORK!\n",
      "prediction: ingOL OB OT YED sep>  WORKs                        \n",
      "an eagle with the american flag on it's head\n",
      "Actual caption: land of the free* <sep> *some restrictions may apply\n",
      "prediction:     worldsep>  one be                             \n",
      "a dog sitting on top of a wooden table\n",
      "Actual caption: bishes be mirin' <sep> when my master takes me for a walk\n",
      "prediction: Ahs  a  sep>   dog is me to a walk                       \n",
      "a cat sitting at a table with a newspaper\n",
      "Actual caption: <emp> <sep> I should catch up with Breaking Bad\n",
      "prediction: Aism> sep>'be  youing News             A A A A A A A A A A A A A A\n",
      "a woman with long hair and a red shirt\n",
      "Actual caption: Why do old bands <sep> keep copying glee songs?\n",
      "prediction: A do you people havesep>  iting mee                         A A A\n",
      "a cartoon drawing of a person with a face in the middle\n",
      "Actual caption: THE TEACHER ERASED THE BOARD <sep> BEFORE I FINISHED COPYING\n",
      "prediction:  RUER  ES  Ysep> WORE  GETISHED Y                 \n",
      "a red and white poster with a face drawn in the middle\n",
      "Actual caption: installed new program <sep> default search changed to bing\n",
      "prediction:   sep>                               \n",
      "a penguin is walking across the screen\n",
      "Actual caption: READ SOCIALLY AWESOME PENGUIN MEMES <sep> DON'T RELATE TO ANY OF THEM\n",
      "prediction: Aaise ORIAL   SOMEGUINS ANS sep> ON'T EADATE MEONE THEMs           A\n",
      "a woman and a child are sitting together\n",
      "Actual caption: So, you mean to tell me <sep> people starve themselves on purpose?\n",
      "prediction: A, I can  be me isep> ved the                  The The The The The A A A\n",
      "a man in a suit holding a gun\n",
      "Actual caption: SHARE A \"LET IT GO\" cOVER ONE MORE TIME <sep> I dare you, I double dare you!\n",
      "prediction: AIT  'GO\"d UP  TIMEsep> 'e you'checke you           \n",
      "a cartoon drawing of a person pointing at a person\n",
      "Actual caption: Guess who this meme is <sep> Referring to\n",
      "prediction:  who is is issep>  to to s                  A A A A A A A A A A A A A A\n",
      "a cartoon character with a mustache and a mustache\n",
      "Actual caption: This is where I would hoard gold <sep> IF I HAD ANY\n",
      "prediction:  is 'likee mysep>  YOU AD A                 A A A A A A A A A A\n",
      "the dark knight in the dark knight\n",
      "Actual caption: You merely adopted single life. <sep> I was born in it. Molded by it.\n",
      "prediction: '  ssep>' to theed up.                     \n",
      "a kid with a purple and orange background\n",
      "Actual caption: survives dark knight rises MASSACRE <sep> chokes on popcorn.\n",
      "prediction: As  ss toSTERCHERsep> s on s                        A\n",
      "batman mememe mememememememememememememememe\n",
      "Actual caption: wait <sep> we only live once?!\n",
      "prediction:  isep>'have                  bat bat bat bat bat bat bat bat bat bat bat bat bat bat bat bat bat bat bat\n",
      "a picture of a goat with a capt that says, i'm'm'm '\n",
      "Actual caption: cant find mountain path <sep> spend 20 minutes jumping up rocks\n",
      "prediction:  you wait  sep> s minutes in ands                            \n",
      "a woman with glasses and a rainbow colored background\n",
      "Actual caption: YOU SHALL NOT <sep> PASS!!\n",
      "prediction: A AID BE GETsep>                      A A A A A A A A A A A A A A\n",
      "a woman in a brown shirt and brown pants\n",
      "Actual caption: Y'all motherfuckers <sep> Need soap\n",
      "prediction: AESall know uckingsep> s                      A A A A A A A A\n",
      "a dog sitting on top of a white table\n",
      "Actual caption: When you forget you had <sep> homework\n",
      "prediction: A  get to' asep>              A A A A A A A A A A A A A A A A A A A A A\n",
      "a kid with a purple and orange background\n",
      "Actual caption: turns on blender <sep> sued by skrillex for copyright infringement\n",
      "prediction: A on thesep> e ahitt right                        \n",
      "a cat wearing a purple hoodie and a purple hoodie\n",
      "Actual caption: i complained about facebook <sep> before it changed\n",
      "prediction: A' about itsep>   was                               \n",
      "a group of people with their arms up\n",
      "Actual caption: gives his phone number to iron maiden <sep> becomes \"the number of the beast\"\n",
      "prediction: A  hand to to themandensep>  I best one the day\"         The The The The The The The The The The The The The The The\n",
      "a man in a suit sitting on a chair\n",
      "Actual caption: So my third testicle isn't <sep> \"Normal\"\n",
      "prediction: A,  time iscle is 't workingasep>  al\"                         \n",
      "a woman in a brown shirt is standing in front of a white and red background\n",
      "Actual caption: NUH AH <sep> GURL!!\n",
      "prediction: ATS  sep> ROWY             A A A A A A A A A A A A A A A A A A A A\n",
      "a man with a beard and a beard in a scene from the movie star wars\n",
      "Actual caption: I offered you day work at the Home Depot parking lot <sep> You were the chosen Juan\n",
      "prediction: ' to   the  Depot lotsep>' best one                       \n",
      "keep calm and keep calm\n",
      "Actual caption: <emp> <sep> SMOKE WEED\n",
      "prediction: keep veryt keepsep> keepuckKE APS       keep keep keep keep keep keep keep keep keep keep keep keep keep keep keep keep keep keep keep keep keep keep keep\n",
      "the simpsons is a cartoon character\n",
      "Actual caption: Look Marge!! <sep> I'm Chuck Schumer, duuuuhhh!!!\n",
      "prediction:  atesep>'m ymacher Idehuu                      \n",
      "a picture of an owl with a cigarette in its mouth\n",
      "Actual caption: \"OMG YOU CAN DRAW?! I CAN'T DRAW A STICKMAN!\" <sep> yES YOU CAN. EVERYONE CAN.\n",
      "prediction:  G  ARE'USEOP ME'CAN'T EVOP! UDER!sep> e! CAN       \n",
      "a dog with glasses on it's face\n",
      "Actual caption: Why do niggers only have nightmares? <sep> because the last one who had a dream got shot\n",
      "prediction: A do youigers wear  ssep>  they dog time is  a heart is                  \n",
      "the communist flag\n",
      "Actual caption: in soviet russia <sep> justin bieber is still hated by millions\n",
      "prediction:  theviet unionsep>   bieber  d thes                      \n",
      "a poster of a man with a cigarette\n",
      "Actual caption: invisible baby? <sep> <emp>\n",
      "prediction:  sep> sm>                                \n",
      "a storm trooper sitting at a table with a laptop\n",
      "Actual caption: i can't believe they made me shoot bambi <sep> Damn you disney...\n",
      "prediction: A''t wait'it  acnsep> n its                     \n",
      "a black and white photo of a man in a suit\n",
      "Actual caption: \"one direction are better than the beatles\" <sep> .\n",
      "prediction:   of  you than the othersep>                            \n",
      "a guy in a crown with a capt that says, i'm'm'm '\n",
      "Actual caption: Finish all campaigns <sep> notice only one voice actor was used\n",
      "prediction: ing the sep>    thing                               \n",
      "a penguin is walking across a red and blue background\n",
      "Actual caption: HOT FEMALE ROOMMATE CATCHES ME MASTURBATING <sep> she wants to help\n",
      "prediction: A ISHIL AKE ALLING  KS  sep>'to go mes                  \n",
      "a painting of a man in a hat and coat\n",
      "Actual caption: i launch my arms up into the atmosphere on occasion <sep> remarking \"ayo, i must abandon control\n",
      "prediction:  want  own at the sky thesep> me on se  i' go my              \n",
      "a group of people with their arms up\n",
      "Actual caption: Bangs HEad <sep> & All the Girls\n",
      "prediction: Aing LPdssep> l the way         A A A A A A A A A A A A A A A A A A A A\n",
      "a cartoon character with a stick and a capt that says,'i'm '\n",
      "Actual caption: Create A meme account <sep> upvote all the memes!!!\n",
      "prediction: d new  sep>  tote me the times                           \n",
      "a cartoon drawing of a man with a finger up\n",
      "Actual caption: who told you this a month a go <sep> this guy\n",
      "prediction: a me to long agoigo isep>  is is                           \n",
      "a man with a red cross on his face\n",
      "Actual caption: Get down! <sep> they're trying to take my tortillas!\n",
      "prediction:   onsep>'re  to get over lifes                          \n",
      "a cartoon drawing of a person pointing at a person\n",
      "Actual caption: Penis in <sep> YOU\n",
      "prediction: c  theasep>                            A A A A A A A A A A\n",
      "a picture of an owl with a cigarette in its mouth\n",
      "Actual caption: \"You've got some something on your\" <sep> I know\n",
      "prediction: 're got to  to your handssep>'                           \n",
      "a man wearing a hat\n",
      "Actual caption: job outsourced <sep> but i get to train my replacement, so i got that going for me, which is nice\n",
      "prediction:  of tosep>  i'  work dog  i can   me                  \n",
      "a man with a beard and a star burst\n",
      "Actual caption: Once upon a time <sep> I built the hospital i was born in\n",
      "prediction:   a time sep>' world was                           \n",
      "a man laughing and laughing with the capt of a text that reads,'i'm '\n",
      "Actual caption: <emp> <sep> fuck that\n",
      "prediction: smt sep> ucking                                \n",
      "the joker movie scene\n",
      "Actual caption: thousand dead in Syria, nobody panics <sep> Go against my little pony..AND EVERYBODY LOSES THEIR MIND\n",
      "prediction:  times  the'ssep> s the wishes sister THDY ESIR ONE             \n",
      "a woman with glasses and a red background\n",
      "Actual caption: one right wing meme on whole site <sep> works day and night to shut it down\n",
      "prediction: A of  the bodysep>  on and night get down downs                       \n",
      "a man in a gray shirt holding a knife\n",
      "Actual caption: thousand pound lvl. 100 snorlax used bodyslam on lvl. 1 magikarp <sep> magikarp \"fainted\"\n",
      "prediction: A times il puffe toeide theavl. sep> ikarpucksd\"\n",
      "a woman in a pink dress and a man in a suit\n",
      "Actual caption: I had fun once <sep> it was awful\n",
      "prediction: A'  with sep>  was                      A A A A A A A A A A A A\n",
      "a dog sitting on top of a wooden table\n",
      "Actual caption: i love bitches <sep> literally\n",
      "prediction:  want youingsep>                                  \n",
      "a man holding two guns and a sign that says, i'm'm'm '\n",
      "Actual caption: i visited the virgin islands <sep> now they are just the islands\n",
      "prediction: '   islandssep> '                             \n",
      "a guy holding a beer glass in his hand\n",
      "Actual caption: Takes Picture with two beers <sep> becomes greatest douche ever\n",
      "prediction: s  of  erssep>  bag                            \n",
      "a man in a hat and a shirt\n",
      "Actual caption: i lost my virginity <sep> but i had sex, so I got that going for me, which is nice\n",
      "prediction: A' my itysep>  i' aex with '  me                 \n",
      "a black and white photo of a man in a suit\n",
      "Actual caption: forgot the suicide hotline number <sep> lol\n",
      "prediction:  to  s sep> s                                \n",
      "a cartoon character with a capt that says,'i'm'm'm'm\n",
      "Actual caption: kill yourself <sep> everyone!\n",
      "prediction: ssep>                                      \n",
      "a kid with a face that says, i'm'm'm'm'm\n",
      "Actual caption: god dammit mom <sep> you made me die again\n",
      "prediction:  mit!sep>   me                               \n",
      "a man with a hoodie and a quote that says, i'm'm'm\n",
      "Actual caption: DO YOU KNOW WHAT MY FAVORITE RICE WAS? <sep> UNCLE BEN'S...\n",
      "prediction: NT NOW  Y ACEOR IS EL ISS sep> LES AB S                   \n",
      "a man in a top hat and top hat with a smile\n",
      "Actual caption: Funny thing is <sep> She raped me\n",
      "prediction: A  to asep>'ped me                              \n",
      "a cartoon character is sitting in a car\n",
      "Actual caption: Remember when Black Friday was only on Black Friday? <sep> Pepperidge Farm Remembers\n",
      "prediction: A the berry was    Fridaysep> sdge Farm when when         The The The The A A A A A A A A A A\n",
      "a man in a sombre hat with a mexican flag\n",
      "Actual caption: Mexican word of the day: Chicken Wing <sep> My wife plays the lottery so chicken wing some money\n",
      "prediction: As  the day   ssep>   is  guitar Is more                    \n",
      "a man in a suit sitting in a chair\n",
      "Actual caption: favorite movie? <sep> pink floyd's the wall\n",
      "prediction: A sep>  yds  best                            \n",
      "a woman in a green dress is dancing\n",
      "Actual caption: You Get a gun, and you get a gun. <sep> everybody, gets a gun !!!\n",
      "prediction: A can a  you you' a sep>  is  a gun                  \n",
      "a woman in a pink dress and a man in a suit\n",
      "Actual caption: <emp> <sep> RELEASE THE LIONS\n",
      "prediction: Asm> sep> aiseASE  IGHTs                        A A A A A\n",
      "bender and bender from the simpsons\n",
      "Actual caption: I'll start my own political party <sep> with blackjack and hookers\n",
      "prediction: Bend'm be  own company partysep>   ers                 bend bend bend bend bend bend bend bend bend bend\n",
      "the joker movie scene\n",
      "Actual caption: NSA spys on everyone, nobody cares <sep> celeb nudes leak from icloud, everyone loses their minds\n",
      "prediction: The   on   ssep> bsgs thear  iss their mind              \n",
      "a little girl standing in front of a fire\n",
      "Actual caption: i just found out <sep> where justin bieber lives\n",
      "prediction: A' got  isep>    ber                           \n",
      "a man with a mustache and mustaches on his face\n",
      "Actual caption: looks like we got a meme <sep> maker over here\n",
      "prediction: A like'a mustsep>  here                        A A A A A A\n",
      "a duck standing on a red and yellow background\n",
      "Actual caption: 200 X 200 PIC <sep> STRETCH TO FIT DESKTOP\n",
      "prediction: A  ICTUREsep> ARTCH RIGHTERTOP                   A A A A A\n",
      "a man sitting at a table with a beer bottle\n",
      "Actual caption: i dont always make a meme <sep> but when i do i immediately press the up arrow\n",
      "prediction: A' know drink a beersep>   i do i'  the  arrow                  \n",
      "a kid with a green shirt and a white shirt is looking at the camera\n",
      "Actual caption: Didn't do homework <sep> Teacher doesn't check\n",
      "prediction: A you't get itsep> 't likes              A A A A A A A A A A A A A A A\n",
      "a man in glasses and a green background with the words,'i'm '\n",
      "Actual caption: YOU SING BEATLES' LET IT BE? <sep> wHY NOT LET IT A?\n",
      "prediction: A AIDEDAB    ME  sep> t? IT BEGO                   \n",
      "a cat sitting at a table with a newspaper\n",
      "Actual caption: I should <sep> stop making memes\n",
      "prediction: A' havesep>  mes                  A A A A A A A A A A A A A A A A\n",
      "a dog with a white face and brown hair\n",
      "Actual caption: Hi, it's me <sep> desperate mom friend\n",
      "prediction: A,'s sep>                               \n",
      "a fat man is talking on a cell\n",
      "Actual caption: HERRO RELCOME TO SHITY WOK <sep> MAY I TAKE YOUR ORDER PREASE\n",
      "prediction: A IDAPATIONE TO THEOWESTESsep> BE AKE YOU DER CIS                   \n",
      "a camel with its mouth open and a capt that says,'i'm '\n",
      "Actual caption: I LIKE <sep> MUFFINS\n",
      "prediction: 'KE YOUsep> SICET                                 \n",
      "a cartoon drawing of a person with a face in the middle\n",
      "Actual caption: WHY <sep> IS HALLOWEEN ON MONDAY ?\n",
      "prediction: ARN AREsep>  HEOWEEN  THEMONDAY                           \n",
      "a wolf with a smile on his face\n",
      "Actual caption: When life gives you lemons <sep> monopolize lemon market\n",
      "prediction:   is you ssep> ysa                            \n",
      "a woman holding her head in front of her face\n",
      "Actual caption: i want to watch tv <sep> but the remote is on the other sofa\n",
      "prediction: A' to go avsep>    is not table side                       \n",
      "a man in a suit and tie is talking\n",
      "Actual caption: i did not hear your question... <sep> ...but the answer is aliens\n",
      "prediction: '  know  name sep>     is s                       \n",
      "a man with a hoodie and a quote that says, i'm'm'm\n",
      "Actual caption: i didn't get invited <sep> to the avengers\n",
      "prediction: ''t know  tosep>  the partypringers                         \n",
      "a woman in a brown shirt is standing in front of a white and red background\n",
      "Actual caption: no you didn't <sep> just read this in a sassy black woman voice\n",
      "prediction:   can't saysep>   a bookaxhayy way                   \n",
      "a man in a suit and sunglasses is helping a woman with a skateboard\n",
      "Actual caption: it's two for one <sep> on tush tapping tuesdays\n",
      "prediction: 's  years onesep>  theauuesday                      \n",
      "a picture of three children dancing together\n",
      "Actual caption: NO COMPUTER <sep> CAN STILL PLAY MINESWEEPER\n",
      "prediction:  LATER sep>  YOUART Y YELLKs                        \n",
      "a bear with a capt that says, i'm'm'm'm'm\n",
      "Actual caption: Kony <sep> a.k.a competition\n",
      "prediction: easep> h.a.                              \n",
      "a woman in a brown shirt is standing in front of a white and red background\n",
      "Actual caption: NA AAA <sep> NOT IN THIS HOUSE\n",
      "prediction:   sep>    ROOMUSE                 A A A A A A A A A A A A A A A\n",
      "a dog sitting on a desk with a laptop\n",
      "Actual caption: i had no idea what i was doing <sep> at least i did it\n",
      "prediction: '  idea  i was doingsep>   i was                        \n",
      "a black and white image of a man with a black shirt\n",
      "Actual caption: TAKE YOUR AGE, SUBTRACT 2, THEN ADD 2. THAT IS YOUR AGE. <sep> YOU DON'T SAY!\n",
      "prediction: s ME BUSINESS  EEJCT  3,N IT S  sep>  ID'T Y           \n",
      "a man in a suit and sunglasses is helping a woman with a skateboard\n",
      "Actual caption: can't understand 90% of his song <sep> still better than Justin beiber\n",
      "prediction:  t wait  of the sep>                             \n",
      "a person holding a cat in their lap\n",
      "Actual caption: todays weather forecast: <sep> you're gonna freeze your ass off.\n",
      "prediction:      sep>  re a be ass                        \n",
      "a woman with a face in the middle of a blue and white background\n",
      "Actual caption: Been dating one day <sep> Omg im so inlove with you\n",
      "prediction:  careful there  ofsep> g so happy lovee you                         \n",
      "a painting of a man in a hat and coat\n",
      "Actual caption: african american <sep> i beg of you\n",
      "prediction: n americanssep>  lovets you                              \n",
      "a man in a blue suit sitting in a chair\n",
      "Actual caption: well <sep> that escalated quickly\n",
      "prediction: A isep>'s                             A A A A A A A\n",
      "a storm trooper sitting at a table with a laptop\n",
      "Actual caption: Cloned after the best warrior in the GALAXY <sep> STILL CAN'T SHOOT STRAIGHT.\n",
      "prediction: Aaims     s the worldTAXY sep>OP 'T EEOTUNIGHT              \n",
      "a cat sitting on top of a purple and orange background\n",
      "Actual caption: PANIC OVER LOST IPOD <sep> WHILE LISTENING TO IT\n",
      "prediction: APER  IVE OD sep> ICH HETINGING                       A\n",
      "a cartoon of two men standing in front of a blackboard\n",
      "Actual caption: Hey beavis, remember last thanksgiving? <sep> I caught you stuffing the bird\n",
      "prediction: , carefuls   to year sep>'you                        \n",
      "a picture of a young boy with a smile\n",
      "Actual caption: WALKED DOWN TWO STAIRS AT ONCE <sep> ONE STEP CLOSER TO CONQUERING FEAR OF HEIGHTS\n",
      "prediction: IT   IME EPSS ACEsep>  EPSLOSCK THETINR AIL ABAVE        \n",
      "a dog sitting on top of a wooden table\n",
      "Actual caption: let me guess <sep> the ball is still in your hand\n",
      "prediction: A me take sep>  dog   the hand               A A A A A A A A A A A A A A A\n",
      "a cat sitting at a table with a cup of coffee\n",
      "Actual caption: i should... <sep> close my ex wifes bank account.\n",
      "prediction: A' have isep>  up eyes e account                           \n",
      "a girl with a pink background and a blue background, says, i'm'm '\n",
      "Actual caption: sees kids throwing bread to ducks <sep> Quack Quack\n",
      "prediction: A     to thes sep> a ack                    A A A A A A A A\n",
      "a baby sitting at a table with a beer\n",
      "Actual caption: so then i says, i says <sep> \"this little piggy's of to the bar\"\n",
      "prediction: A  i''sep>   is babys banks   the moon                  \n",
      "the cast of the sopranos\n",
      "Actual caption: conservatives <sep> laughing at liberals daily for the next 8 years\n",
      "prediction: s sep>  at thes  past  yearss            the the the the the the the the the the the the the the the the\n",
      "a cat with a capt that says, i'm a cat\n",
      "Actual caption: Find out girl/boy has chronic illness too <sep> automatic hottness increase\n",
      "prediction: A      sep> si                         \n",
      "a cat wearing glasses and a bow tie sitting at a table\n",
      "Actual caption: The names bond <sep> covalent bond.\n",
      "prediction: A cat of sep> ss                    A A A A A A A A A A A A A\n",
      "a seal seal with a capt that says, i'm'm'm'm '\n",
      "Actual caption: Shaved my asshole <sep> My farts louder than ever\n",
      "prediction: ked  heads ssep>  tsely than                         \n",
      "jesus thumbs up\n",
      "Actual caption: fuck you satan! <sep> fuck you moloh!\n",
      "prediction: uck  hitansep> uck youest                      \n",
      "a chicken with a capt that says, i'm'm'm'm'm\n",
      "Actual caption: Knock Knock <sep> Come in\n",
      "prediction: Ack knockcksep>  on            A A A A A A A A A A A A A A A A A A A A A A\n",
      "a girl with a blue shirt and a smile\n",
      "Actual caption: I'M JEALOUS OF YOUR MUM <sep> SHE HAD YOU INSIDE HER FOR 9 MONTHS\n",
      "prediction: A'm GOALOUS YOUSELISSsep> EE'AS A IDE  EVER MONTHS             \n",
      "a man in a suit sitting on a chair\n",
      "Actual caption: mcdonalds <sep> \"1oo percent pure meat\"\n",
      "prediction: Ardonalds sep>   ho\"\"s                        \n",
      "a girl standing in front of a fire\n",
      "Actual caption: Trick or treat? <sep> Trick...\n",
      "prediction: A or Treatsep>  ors           A A A A A A A A A A A A A A A A A A A A A A A\n",
      "an old woman holding a laptop computer\n",
      "Actual caption: g-mail? <sep> i need e-mail!\n",
      "prediction: id sep>  want toa-mail                           \n",
      "a cat sitting on a couch with a pillow\n",
      "Actual caption: the next time i see justin beiber in the news <sep> it better be because he's dead\n",
      "prediction: A cat time i' you one ber the sep>'be  i's s                 \n",
      "a girl with a yellow background and a yellow background\n",
      "Actual caption: I want to date some just like you <sep> but not you\n",
      "prediction: A' to go you one like yousep>                               \n",
      "a woman with glasses and a red background\n",
      "Actual caption: down with capitalism! smash the corporations! eat the rich! <sep> Oh No! steve jobs died!!! (\n",
      "prediction: A  ing wall  sep>,!roid                   \n",
      "a penguin is flying in the air with a capt\n",
      "Actual caption: Read Socially Awkward Penguin <sep> Worry That too many apply to you\n",
      "prediction: A more media  wwardssep> eing You much pen you            A A A A A A A A A A A A\n",
      "a frog with a capt that says, i'm'm'm'm'm\n",
      "Actual caption: wake up after 10 hours of sleep <sep> still be tired\n",
      "prediction:  up   years worksep>   s                             \n",
      "a woman in a pink dress and a man in a suit\n",
      "Actual caption: <emp> <sep> Release The Kraken\n",
      "prediction: Asm> sep> d ken               A A A A A A A A A A A A A A A A\n",
      "a man with a big grin on his face\n",
      "Actual caption: Happy Valentine's Day <sep> My Precious\n",
      "prediction:  birthdayss Daysep>  birthdaytious Son                 A A A A A A A A A A A A A A\n",
      "a man with a red and white background and a red and white background\n",
      "Actual caption: Your grandfather died to keep it in the family? <sep> It's fake\n",
      "prediction: Ae is me you up the familysep>'s                          A\n",
      "a shirtless man sitting on a bed\n",
      "Actual caption: sleeves? <sep> i don't even wear shirts\n",
      "prediction:  sep> ''t know know as                            \n",
      "an old woman holding a laptop computer\n",
      "Actual caption: But I don't want to open a New window <sep> It's already cold in here\n",
      "prediction: A ''t want to pay ita new Yorksep>'s too been the.          A A A A A A A A A A\n",
      "a cartoon character with a mustache and a mustache\n",
      "Actual caption: This Is Where My Presidential Candidate Would Go <sep> If I had one\n",
      "prediction:  iss  I Father Candidate I Besep>  I Could       A A A A A A A A A A A A A A A A A A A\n",
      "jesus thumbs up\n",
      "Actual caption: THROWS A PARTY FOR 12 PEOPLE <sep> WORLD STILL TALKING ABOUT IT 2000 YEARS LATER\n",
      "prediction: UMS  THY  EOPLEsep>  ART KOUT  S TERs          \n",
      "a man and woman looking at a computer screen\n",
      "Actual caption: I TOLD HIM MY DAD COMMITED SUICIDE <sep> HE SAID \"LOL RAGE QUIT\"\n",
      "prediction: 'HI YOUIM TOY AU INGTED TOCCIDE sep>  HAID IL\"EAD CK s         \n",
      "a black and white photo of a man in a suit\n",
      "Actual caption: fail at meme generator <sep> <emp>\n",
      "prediction:   ssep> sm>                               \n",
      "a red and white striped background with a cartoon face and a red and white striped background\n",
      "Actual caption: Turning your computer off <sep> and later realising you still needed to do something on it\n",
      "prediction: s the head onsep>   izing that' have  do it                       \n",
      "a man with glasses and a tank top\n",
      "Actual caption: Hey girl <sep> i love it when you change your name without telling me\n",
      "prediction: A,,isep>'you you'  mind me me                         \n",
      "a man wearing a mask with a face mask on\n",
      "Actual caption: IF you use \"#\" on Facebook <sep> You have my permission to die\n",
      "prediction:  YOU want    sep>'to permission use                        \n",
      "a dog with marijuana leaves on it's face\n",
      "Actual caption: Trees <sep> they're just really really slow explosions\n",
      "prediction: As aresep>'re   good goodss                            \n",
      "a man in a blue suit sitting in a chair\n",
      "Actual caption: WELL <sep> i ejaculated quickly\n",
      "prediction: AARN,sep> 'eculate                             A A\n",
      "a clown with red hair and a white face\n",
      "Actual caption: ronald likes hamburgers, I like hot dogs <sep> can you show me yours?\n",
      "prediction: ad   tos' dogssep>' help me hows?                   \n",
      "a man in a brown jacket and hat sitting on a couch\n",
      "Actual caption: so a white billionaire admits to sexual assault <sep> And he still gets to run for president!!!\n",
      "prediction:  i  ss  lysep>  i' has  the away                   \n",
      "a man with a red and white background and a red and white background\n",
      "Actual caption: your trying to sell me a lunchbox for $250? Tell you what ill meet you in the middle <sep> $10\n",
      "prediction: Ae to get me    me what youi do you the morning ofsep> me                \n",
      "batman mememe mememememememememememememememe\n",
      "Actual caption: robin! <sep> Dont put the batcave's location on facebook!\n",
      "prediction: in sep>'you it mand onse on the                       \n",
      "a man in a suit and tie is talking\n",
      "Actual caption: Cowboys and Aliens <sep> True story\n",
      "prediction: ss are girlslienssep> s                               \n",
      "a penguin is walking across a red and blue background\n",
      "Actual caption: Fifteen minutes late for class <sep> still EARLIER THAN EVERYONE.\n",
      "prediction: uckteen years ago  sep>  LYHAN                         \n",
      "a penguin is walking across a red and blue background\n",
      "Actual caption: Has sex talk with dad <sep> dad learns a few new moves\n",
      "prediction:  aaty sep>  s to lot words wordss                        \n",
      "an old photo of a man in a suit and tie\n",
      "Actual caption: <emp> <sep> we only had bottom text\n",
      "prediction: smt sep> t have                                \n",
      "a woman and child sitting on the ground\n",
      "Actual caption: SO YOU'RE TELLING ME <sep> I CAN SAVE 15% OR MORE ON CAR INSURANCE BY SWITCHING TO GEICO?\n",
      "prediction: AME RE RY ME ME ABsep> ''EE YOU MORE YOURASH IDEANCEET EETCH ES     \n",
      "the simpsons is a cartoon character\n",
      "Actual caption: oh look <sep> cod: ghost has dynamic fish\n",
      "prediction: h  atisep> y   s                             \n",
      "a man and woman looking at a computer screen\n",
      "Actual caption: I told him i'm going out of the kitchen <sep> he said \"lol, outside the map glitch\"\n",
      "prediction: A' you toi wouldm going to of town house.sep>' ol\"   house\"e               \n",
      "a man in a blue suit sitting in a chair\n",
      "Actual caption: MJD Goes from $10 to $51 <sep> well that escalated quickly\n",
      "prediction: A  ss to the to $205asep>,'s to                       \n",
      "a man in a gray shirt holding a knife\n",
      "Actual caption: time for me to <sep> \"study\"\n",
      "prediction: A   to goeatsep>  y\"                         A A A A A A A\n",
      "two men standing in a kitchen\n",
      "Actual caption: You're asking for salmon? <sep> Best I can do is salmonella.\n",
      "prediction: Two canre  for sep>   can do is          Two Two Two Two Two Two Two Two Two Two Two Two Two Two Two Two\n",
      "a man in a blue suit sitting in a chair\n",
      "Actual caption: Avengers assemble <sep> that escalated quickly\n",
      "prediction: A ssep>'s to                      A A A A A A A A A A A\n",
      "an old woman holding a laptop computer\n",
      "Actual caption: i always liked sudoku <sep> what is this thing called bukkake?\n",
      "prediction:  want use thisoku sep>   the?? a                          \n",
      "a man talking on a cell phone\n",
      "Actual caption: i don't know who you are <sep> seriously- what's your name?\n",
      "prediction: ''t know   aresep>  - s the name?                      \n",
      "a boy holding a video game controller\n",
      "Actual caption: everyone better than me is a hacker <sep> everyone worse than me is a noob\n",
      "prediction: A is get me a ersep>  is than me a  gob                    \n",
      "the dark knight rises\n",
      "Actual caption: When the internet is down <sep> you have my permission to cry\n",
      "prediction:  the dark was downsep>'to vote do                      the the the the the the the\n",
      "a woman and a child sitting on the ground\n",
      "Actual caption: So, someone I've never met <sep> just wants to give me 65 cents a day?\n",
      "prediction: , 'm been seen sep>   to go me  s day                   \n",
      "a girl with a yellow background and a yellow background\n",
      "Actual caption: can't date you until she gets over last boyfriend <sep> find out she's dating someone else already\n",
      "prediction:  yout wait    gets  it yearsep>  's                     \n",
      "a man with a red cross on his face\n",
      "Actual caption: I CAN'T GET <sep> THE POPCORN OUT OF MY TEETH\n",
      "prediction:  'T GET OVERsep> REINTORN  OF Y HEETHs                   \n",
      "a man in a suit and tie is posing for a photo\n",
      "Actual caption: Did I say 47 percent? <sep> I meant 4 to 7 percent\n",
      "prediction:  you    sep>'9% 5s                           \n",
      "a man with a mustache and a shirt\n",
      "Actual caption: excuse me <sep> I seem to have misplaced my wife\n",
      "prediction:  me sep>'to be underd my                             \n",
      "a cartoon character with a sad expression sticker\n",
      "Actual caption: ash, please <sep> gimme me your pikachu\n",
      "prediction: A   helpsep> loomme   moneyschu                          \n",
      "a cat sitting at a table with a cup of coffee\n",
      "Actual caption: I should listen to <sep> more black metal\n",
      "prediction: A' have to asep>                            A A A A A A\n",
      "a dog sitting on top of a wooden table\n",
      "Actual caption: baby, i put the 'std' in 'stud' <sep> all i need is 'u'\n",
      "prediction: A  i' it dogiceseuff' on theasysep>  over want is as'             \n",
      "a man with long hair and a white shirt\n",
      "Actual caption: What if I really am the 1,000,000th visitor <sep> And I just missed out on a free Ipad?\n",
      "prediction: A a we can want going beststh person?sep>  I' want the on a job ticket'                \n",
      "a man laughing and laughing with the capt of a text that reads,'i'm '\n",
      "Actual caption: HAS A CHIKEN EVER SURVIVED IN AFRICA ? <sep> BITCH PLEASE !\n",
      "prediction: mm TO LOTLDARA  INVIVED  THE ICA sep> TER                \n",
      "a man wearing a mask with a face mask on\n",
      "Actual caption: Once you have eaten all your vegetables <sep> Then you have my permission for pie\n",
      "prediction:   get   the food,sep> n you' to money to me                        \n",
      "a man in a sombre hat with a mexican flag\n",
      "Actual caption: HOW MANY MEXICANS DOES IT TAKE TO CHANGE A LIGHTBULB? <sep> JUST JUAN\n",
      "prediction:  AREY XIANS S  TAKE  GETGE  ENG RNsep> UST USTICE           \n",
      "a man in a suit sitting on a chair\n",
      "Actual caption: soy ateo <sep> y tengo retraso mental\n",
      "prediction: A a  sep> e stoe s                       \n",
      "a woman and a child are sitting together\n",
      "Actual caption: so you'r telling me,you can't eat that food <sep> if it touches the ground for more than five seconds?\n",
      "prediction: A  canree me to ''t do it sep>  you' you ground  than  seconds            \n",
      "a baby laughing in the grass\n",
      "Actual caption: I want to hug you till you feel better <sep> Then fart on your pillow\n",
      "prediction: A' to go you  get bettersep> n youts me head                       \n",
      "a picture of a young boy with a smile\n",
      "Actual caption: LOOKS ON THE BRIGHT SIDE <sep> TURNS BLIND\n",
      "prediction:  OO   EACH IDEsep> N OFFESSs                        \n",
      "a little girl standing in front of a fire\n",
      "Actual caption: next time <sep> you'll buy the goddamn cookies\n",
      "prediction: A to isep>  canre be me bestsn thing                            \n",
      "a camel with its mouth open and a capt that says,'i'm '\n",
      "Actual caption: joined the dark side <sep> this cammel has\n",
      "prediction:    sidesep>  is is is e                               \n",
      "an eagle with the american flag on it's head\n",
      "Actual caption: Gulf of Mexico? <sep> Gulf of America\n",
      "prediction:   Mexicosep>  of Mexico                                \n",
      "a man in a suit and tie is laughing\n",
      "Actual caption: <emp> <sep> YOU DON'T SAY?\n",
      "prediction: Asm> sep>  ID'T Y                  A A A A A A A A A A\n",
      "a group of people with their arms up\n",
      "Actual caption: Right now Im having sex <sep> With this blonde girl\n",
      "prediction:  now   aex withsep>                                \n",
      "a penguin is flying in the air with a capt\n",
      "Actual caption: Think aBout awkward situations from the past <sep> feel awkward again\n",
      "prediction: A abouti i the the pastsep>  free                          \n",
      "a man with glasses and a beard\n",
      "Actual caption: Hey girl, <sep> The way you study all the time and don't go out is really sexy.\n",
      "prediction: A,, Iisep>   to  is day time. you't get to  hardahity                \n",
      "a cat with a capt that says, i'm'm'm'm'm\n",
      "Actual caption: I can haz <sep> updates?\n",
      "prediction: A'' sep>                                   \n",
      "a dog with marijuana leaves on it's face\n",
      "Actual caption: Cop says \"how high are you\" <sep> so i say \"No, its hi how are you\"\n",
      "prediction: As   do do you goingsep>  i can n\" I notppy much you                  \n",
      "a guy holding a beer glass in his hand\n",
      "Actual caption: scarface poster or bob marley poster? <sep> decisions\n",
      "prediction: Ae   something tsep>                              \n",
      "a dog with glasses on it's face\n",
      "Actual caption: I kinda like black people <sep> It's a shame they don't sell it anymore.\n",
      "prediction: A' of like it dogssep>'s a good don't have                    \n",
      "a woman and a child are sitting together\n",
      "Actual caption: SO YOU BROUGHT BIBLES, <sep> BUT DIDN'T BRING FOOD?\n",
      "prediction: AME CANEACHHT MEACKS  sep>  YOUDN'T ELI MEOD            A A A A A A A A\n",
      "a wolf with a smile on his face\n",
      "Actual caption: Stage 4 cancer <sep> boss fight!\n",
      "prediction:    sep>  s                                 \n",
      "a pokemon pio with a yellow and blue background\n",
      "Actual caption: understands everything you say <sep> can only respond with variations of its own name\n",
      "prediction: A   wantsep>' to   own                         \n",
      "a group of children dancing in the dirt\n",
      "Actual caption: TEACH ME <sep> HOW TO DOUGIE\n",
      "prediction: rashING sep>   ANCEH                A A A A A A A A A A A A A A A A\n",
      "a crowd of people\n",
      "Actual caption: boobytrap backwards is <sep> partyboob\n",
      "prediction: A  pedss  asep> ingms                             \n",
      "a cartoon duck with a blue hat and a blue bow\n",
      "Actual caption: stop doing memes atleast for 1 minute! <sep> shabbirv pls\n",
      "prediction: A  s theeast once  minutesep> uckbyz                     \n",
      "a black background\n",
      "Actual caption: Has 49/50 achievements <sep> Missing Co-Op One\n",
      "prediction: A  50 sep> e keworkp day   A A A A A A A A A A A A A A A A A A A A A A A A A\n",
      "a baby laughing in the grass\n",
      "Actual caption: i found a pile of shit under your bed <sep> i put it there...\n",
      "prediction: Aa love a baby of hayhit my nosesep>'it in                    \n",
      "keep calm and keep calm\n",
      "Actual caption: <emp> <sep> LOOK IT UP ON GOOGLE\n",
      "prediction: keepi veryt keepsep> CK  UP YOURITSINGLE            keep keep keep keep keep keep keep keep keep keep keep keep keep\n",
      "a bear with a capt that says, i'm'm'm'm'm\n",
      "Actual caption: Go to Harry potter theme park <sep> Show All the kids my wand\n",
      "prediction: As the Pottertersep>  me time loveu                        \n",
      "a pink and red background with a cartoon character in the middle of the image\n",
      "Actual caption: hey guys! <sep> Youtube now has 'like' instead of stars!\n",
      "prediction: ,isep>  as' of                         \n",
      "a cat wearing glasses and a bow tie sitting at a table\n",
      "Actual caption: the names bond, ionic bond <sep> taken, not shared\n",
      "prediction: A cat ofing  love sep>                              \n",
      "a cat sitting at a table with a cup of coffee\n",
      "Actual caption: I should get <sep> a girlfriend\n",
      "prediction: A' have asep> h                        A A A A A A A A A A\n",
      "a camel with its mouth open and a capt that says,'i'm '\n",
      "Actual caption: cnn news <sep> it's that unwatchable\n",
      "prediction: A tt sep>'s  timerealable                           \n",
      "the communist flag\n",
      "Actual caption: In Soviet russia <sep> challenges accept you\n",
      "prediction:  the times sep>  the                          the the the the the the the the\n",
      "a picture of a goat with a capt that says, i'm'm'm '\n",
      "Actual caption: run out of potions <sep> eat 100 potatoes mid fight\n",
      "prediction:  away of the  sep>   days                            \n",
      "a cartoon penguin with a blue hat and a white background\n",
      "Actual caption: i hurd u lek prno <sep> so dolan raep u\n",
      "prediction: A'riedles e yt sep>   af                  \n",
      "a picture of a man with a hat and a shirt\n",
      "Actual caption: HE GIRL, FEEL MY SWEATER. <sep> KNOW WHAT IT'S MADE OF? GIRLFRIEND MATERIAL.\n",
      "prediction: YFT  iW FREEY EETERsep> EEP YOU YOU ISS ALLEAN OFODLSULENDSKS     \n",
      "a person holding a cat in their hand\n",
      "Actual caption: the wheels on the bus go <sep> flat\n",
      "prediction: A cat are the cat downsep>                                 \n",
      "a group of children playing in the dirt\n",
      "Actual caption: Santa Claus is bringing <sep> Romney For President Shirts!\n",
      "prediction: A is is a asep>  Presidents                    A A A A A A A A\n",
      "a man with a beard and a red background\n",
      "Actual caption: Gets Injured at Indian Party <sep> Surrounded by Doctors\n",
      "prediction: As volred the restaurantsep> r by s   A A A A A A A A A A A A A A A A A A A A A A A A\n",
      "a man in a military uniform smoking a cigarette\n",
      "Actual caption: YOU MEAN TO TELL ME ... <sep> THAT THIS ISN'T CALL OF DUTY?\n",
      "prediction: A ISS IT AKE ME AB sep>  IS ISSN'T OVERING THEHEMB            A A A A A A\n",
      "bender and bender from the simpsons\n",
      "Actual caption: I'll start my own boyscouts <sep> with blackjack and hookers\n",
      "prediction: Bend'm be  own companytsep>   ers         bend bend bend bend bend bend bend bend bend bend bend bend bend bend bend bend\n",
      "a man in glasses and a green background with the words,'i'm '\n",
      "Actual caption: \"YOUR SON GOT 99 ON THE CALCULUS TEST\" <sep> WHAT SON?\n",
      "prediction:  e GOSOD A  THE USEULATOR IME sep>  ISARES                   \n",
      "a cartoon duck with a blue hat and a blue bow\n",
      "Actual caption: hot <sep> cheese\n",
      "prediction: A dogsep>                                      \n",
      "a picture of the president smiling\n",
      "Actual caption: Promises ChANGE <sep> DeCLARES CITIZENS TERRORISTS\n",
      "prediction: s tol ONsep> eOSE  ITYIZENSHIMINRISESs                     \n",
      "a man in a suit and tie speaking into a microphone\n",
      "Actual caption: i tell the man it have no school tomorrow <sep> this ass still come\n",
      "prediction: A' you truth to' to effectsep>  isahole on                        \n",
      "the hok in the hok\n",
      "Actual caption: married women <sep> your boobs have no power here\n",
      "prediction:  couple insep> es to idea                            \n",
      "a picture of a man with a hat and a beard\n",
      "Actual caption: knock up mary <sep> blame holy ghost\n",
      "prediction: s t sep>  me s                                \n",
      "a man in a purple shirt is standing in front of a blue and pink background\n",
      "Actual caption: borrows computer <sep> virus!\n",
      "prediction:   sep>                                   \n",
      "a dog sitting on a desk with a laptop\n",
      "Actual caption: free money <sep> https/ is . gd / freemoney4you\n",
      "prediction: A sep> :// adp u                       \n",
      "a man is sitting in a chair with his head in his hands\n",
      "Actual caption: When so-called \"anti-fascists\" <sep> beat up a gay person of color\n",
      "prediction:   fars  -saketist\"\"sep> s a  man                  \n",
      "a black and white photo of a man in a suit\n",
      "Actual caption: you rep yolo? <sep> ok\n",
      "prediction:  canee sep> s                             \n",
      "a man holding a cell phone\n",
      "Actual caption: chicken pot pie <sep> my 3 favorite things\n",
      "prediction: As  sep>  r thingss                               A A\n",
      "a seal seal with a capt that says, i'm'm'm'm '\n",
      "Actual caption: the face when <sep> grandma asks where your sweater she made is\n",
      "prediction:   of youisep> pas me e is' me                          \n",
      "a chicken with a capt that says, i'm'm'm'm'm\n",
      "Actual caption: Your Mom is so fat <sep> That She needs to lose weight\n",
      "prediction: e' osep> '' to be weight                            \n",
      "a picture of a man with a face on it\n",
      "Actual caption: MASTURBATED RECENTLY. <sep> HAS THAT FEELING OF GUILT AFTERWARDS...\n",
      "prediction: iKS  VIEWLY sep> APP  DAYWING  TAR TER ARDSs             \n",
      "fusosososososososososososososososososo\n",
      "Actual caption: Not sure if your post is a life crisis <sep> or song lyrics\n",
      "prediction: a  e is   sep>                            \n",
      "a woman with a blue shirt and a smile\n",
      "Actual caption: bakes you a cake <sep> adds own hair to ingredients\n",
      "prediction:     sep>     the                           \n",
      "a man in a top hat and top hat with a smile\n",
      "Actual caption: <emp> <sep> Ha...this ain't Sparta\n",
      "prediction:  mt sep> ha  isin't noea                       \n",
      "the simpsons simpson wallpapers\n",
      "Actual caption: Look Marge <sep> I'm Brian Williams\n",
      "prediction:  atin sep>'m  s     I I I I I I                     \n",
      "a storm trooper sitting at a table with a laptop\n",
      "Actual caption: I made my self a wookie steak <sep> but it was too cheewie.\n",
      "prediction: ' it way a stormsresep> ' lateses                    \n",
      "a girl with glasses on and a pink background\n",
      "Actual caption: Says cool story bro <sep> would never sleep again if she actually saw 4chan\n",
      "prediction: As  sep>  like do  could  me                        \n",
      "a picture of two people in a room with a red and blue background\n",
      "Actual caption: Bodily fluids <sep> bodily fluids everywhere\n",
      "prediction: oi s aresep> ly fluidss             Two Two Two Two Two Two Two Two Two Two Two Two Two Two Two Two Two\n",
      "a boy with a red and white flag\n",
      "Actual caption: sets password as \"mytalent\" <sep> password too small\n",
      "prediction: A up   i\"sep>                             \n",
      "a man with glasses and a beard is looking at the camera\n",
      "Actual caption: went outside <sep> graphics were shit\n",
      "prediction: A to tosep>  okoooo                             A A A A\n",
      "a duck standing on a red and yellow background\n",
      "Actual caption: open command prompt <sep> certified hacker\n",
      "prediction: A yourossep> er                                 \n",
      "a man with glasses and a beard smiles at the camera\n",
      "Actual caption: His Funeral is next week <sep> he'll be reburied every six months in a slightly shinier coffin.\n",
      "prediction: A    weeksep>'s be a- year months a few differentsnier ways             \n",
      "a man in a blue shirt is holding his hand up\n",
      "Actual caption: wake up jim. <sep> how many fingers do you see?\n",
      "prediction:  up immyisep>  do times you have                          \n",
      "a dog sitting on a couch with a person's hand\n",
      "Actual caption: Wow wow <sep> wow\n",
      "prediction: A,w wosep> ws                      A A A A A A A A A A A A A\n",
      "a man in a blue shirt and tie\n",
      "Actual caption: IF we could not start WWIII with Russia <sep> THAT'D be great\n",
      "prediction: A YOU can get get, ,sep> 'S BE greats                        \n",
      "a group of children playing in the dirt\n",
      "Actual caption: we just got <sep> a kfc\n",
      "prediction: A are got asep> hittye                              \n"
     ]
    }
   ],
   "source": [
    "for i in range(len(dataset_split['test']['description'])):\n",
    "    print(dataset_split['test']['description'][i])\n",
    "    print(\"Actual caption:\", dataset_split['test']['caption'][i])\n",
    "    print(\"prediction:\", eval_preds[i])"
   ]
  },
  {
   "cell_type": "code",
   "execution_count": 249,
   "metadata": {},
   "outputs": [
    {
     "name": "stdout",
     "output_type": "stream",
     "text": [
      "Collecting ipywidgets\n",
      "  Downloading ipywidgets-8.1.5-py3-none-any.whl.metadata (2.3 kB)\n",
      "Requirement already satisfied: comm>=0.1.3 in ./.bmw_env/lib/python3.11/site-packages (from ipywidgets) (0.2.2)\n",
      "Requirement already satisfied: ipython>=6.1.0 in ./.bmw_env/lib/python3.11/site-packages (from ipywidgets) (8.27.0)\n",
      "Requirement already satisfied: traitlets>=4.3.1 in ./.bmw_env/lib/python3.11/site-packages (from ipywidgets) (5.14.3)\n",
      "Collecting widgetsnbextension~=4.0.12 (from ipywidgets)\n",
      "  Downloading widgetsnbextension-4.0.13-py3-none-any.whl.metadata (1.6 kB)\n",
      "Collecting jupyterlab-widgets~=3.0.12 (from ipywidgets)\n",
      "  Downloading jupyterlab_widgets-3.0.13-py3-none-any.whl.metadata (4.1 kB)\n",
      "Requirement already satisfied: decorator in ./.bmw_env/lib/python3.11/site-packages (from ipython>=6.1.0->ipywidgets) (5.1.1)\n",
      "Requirement already satisfied: jedi>=0.16 in ./.bmw_env/lib/python3.11/site-packages (from ipython>=6.1.0->ipywidgets) (0.19.1)\n",
      "Requirement already satisfied: matplotlib-inline in ./.bmw_env/lib/python3.11/site-packages (from ipython>=6.1.0->ipywidgets) (0.1.7)\n",
      "Requirement already satisfied: prompt-toolkit<3.1.0,>=3.0.41 in ./.bmw_env/lib/python3.11/site-packages (from ipython>=6.1.0->ipywidgets) (3.0.47)\n",
      "Requirement already satisfied: pygments>=2.4.0 in ./.bmw_env/lib/python3.11/site-packages (from ipython>=6.1.0->ipywidgets) (2.18.0)\n",
      "Requirement already satisfied: stack-data in ./.bmw_env/lib/python3.11/site-packages (from ipython>=6.1.0->ipywidgets) (0.6.3)\n",
      "Requirement already satisfied: typing-extensions>=4.6 in ./.bmw_env/lib/python3.11/site-packages (from ipython>=6.1.0->ipywidgets) (4.12.2)\n",
      "Requirement already satisfied: pexpect>4.3 in ./.bmw_env/lib/python3.11/site-packages (from ipython>=6.1.0->ipywidgets) (4.9.0)\n",
      "Requirement already satisfied: parso<0.9.0,>=0.8.3 in ./.bmw_env/lib/python3.11/site-packages (from jedi>=0.16->ipython>=6.1.0->ipywidgets) (0.8.4)\n",
      "Requirement already satisfied: ptyprocess>=0.5 in ./.bmw_env/lib/python3.11/site-packages (from pexpect>4.3->ipython>=6.1.0->ipywidgets) (0.7.0)\n",
      "Requirement already satisfied: wcwidth in ./.bmw_env/lib/python3.11/site-packages (from prompt-toolkit<3.1.0,>=3.0.41->ipython>=6.1.0->ipywidgets) (0.2.13)\n",
      "Requirement already satisfied: executing>=1.2.0 in ./.bmw_env/lib/python3.11/site-packages (from stack-data->ipython>=6.1.0->ipywidgets) (2.1.0)\n",
      "Requirement already satisfied: asttokens>=2.1.0 in ./.bmw_env/lib/python3.11/site-packages (from stack-data->ipython>=6.1.0->ipywidgets) (2.4.1)\n",
      "Requirement already satisfied: pure-eval in ./.bmw_env/lib/python3.11/site-packages (from stack-data->ipython>=6.1.0->ipywidgets) (0.2.3)\n",
      "Requirement already satisfied: six>=1.12.0 in ./.bmw_env/lib/python3.11/site-packages (from asttokens>=2.1.0->stack-data->ipython>=6.1.0->ipywidgets) (1.16.0)\n",
      "Downloading ipywidgets-8.1.5-py3-none-any.whl (139 kB)\n",
      "Downloading jupyterlab_widgets-3.0.13-py3-none-any.whl (214 kB)\n",
      "Downloading widgetsnbextension-4.0.13-py3-none-any.whl (2.3 MB)\n",
      "\u001b[2K   \u001b[90m━━━━━━━━━━━━━━━━━━━━━━━━━━━━━━━━━━━━━━━━\u001b[0m \u001b[32m2.3/2.3 MB\u001b[0m \u001b[31m6.4 MB/s\u001b[0m eta \u001b[36m0:00:00\u001b[0ma \u001b[36m0:00:01\u001b[0m\n",
      "\u001b[?25hInstalling collected packages: widgetsnbextension, jupyterlab-widgets, ipywidgets\n",
      "Successfully installed ipywidgets-8.1.5 jupyterlab-widgets-3.0.13 widgetsnbextension-4.0.13\n",
      "Note: you may need to restart the kernel to use updated packages.\n"
     ]
    }
   ],
   "source": [
    "pip install ipywidgets"
   ]
  },
  {
   "cell_type": "code",
   "execution_count": 250,
   "metadata": {},
   "outputs": [
    {
     "data": {
      "application/vnd.jupyter.widget-view+json": {
       "model_id": "30339de3a435421ca56e15b158d59dc2",
       "version_major": 2,
       "version_minor": 0
      },
      "text/plain": [
       "VBox(children=(HTML(value='<center> <img\\nsrc=https://huggingface.co/front/assets/huggingface_logo-noborder.sv…"
      ]
     },
     "metadata": {},
     "output_type": "display_data"
    }
   ],
   "source": [
    "from huggingface_hub import notebook_login\n",
    "\n",
    "notebook_login()"
   ]
  },
  {
   "cell_type": "code",
   "execution_count": 258,
   "metadata": {},
   "outputs": [
    {
     "name": "stderr",
     "output_type": "stream",
     "text": [
      "/Users/nursulusagimbayeva/Downloads/BMW_intern_GenAI_coding_task/.bmw_env/lib/python3.11/site-packages/transformers/utils/hub.py:875: FutureWarning: The `use_auth_token` argument is deprecated and will be removed in v5 of Transformers. Please use `token` instead.\n",
      "  warnings.warn(\n"
     ]
    },
    {
     "ename": "LocalTokenNotFoundError",
     "evalue": "Token is required (`token=True`), but no token found. You need to provide a token or be logged in to Hugging Face with `huggingface-cli login` or `huggingface_hub.login`. See https://huggingface.co/settings/tokens.",
     "output_type": "error",
     "traceback": [
      "\u001b[0;31m---------------------------------------------------------------------------\u001b[0m",
      "\u001b[0;31mLocalTokenNotFoundError\u001b[0m                   Traceback (most recent call last)",
      "Cell \u001b[0;32mIn[258], line 2\u001b[0m\n\u001b[1;32m      1\u001b[0m peft_model_id \u001b[38;5;241m=\u001b[39m \u001b[38;5;124m\"\u001b[39m\u001b[38;5;124mmeme_caption_generator_FLAN-T5-large_prefix_tuned\u001b[39m\u001b[38;5;124m\"\u001b[39m\n\u001b[0;32m----> 2\u001b[0m \u001b[43mmodel\u001b[49m\u001b[38;5;241;43m.\u001b[39;49m\u001b[43mpush_to_hub\u001b[49m\u001b[43m(\u001b[49m\u001b[43mpeft_model_id\u001b[49m\u001b[43m,\u001b[49m\u001b[43m \u001b[49m\u001b[43muse_auth_token\u001b[49m\u001b[38;5;241;43m=\u001b[39;49m\u001b[38;5;28;43;01mTrue\u001b[39;49;00m\u001b[43m,\u001b[49m\u001b[43m \u001b[49m\u001b[43mcreate_pr\u001b[49m\u001b[38;5;241;43m=\u001b[39;49m\u001b[38;5;241;43m1\u001b[39;49m\u001b[43m)\u001b[49m\n",
      "File \u001b[0;32m~/Downloads/BMW_intern_GenAI_coding_task/.bmw_env/lib/python3.11/site-packages/transformers/utils/hub.py:914\u001b[0m, in \u001b[0;36mPushToHubMixin.push_to_hub\u001b[0;34m(self, repo_id, use_temp_dir, commit_message, private, token, max_shard_size, create_pr, safe_serialization, revision, commit_description, tags, **deprecated_kwargs)\u001b[0m\n\u001b[1;32m    911\u001b[0m repo_url \u001b[38;5;241m=\u001b[39m deprecated_kwargs\u001b[38;5;241m.\u001b[39mpop(\u001b[38;5;124m\"\u001b[39m\u001b[38;5;124mrepo_url\u001b[39m\u001b[38;5;124m\"\u001b[39m, \u001b[38;5;28;01mNone\u001b[39;00m)\n\u001b[1;32m    912\u001b[0m organization \u001b[38;5;241m=\u001b[39m deprecated_kwargs\u001b[38;5;241m.\u001b[39mpop(\u001b[38;5;124m\"\u001b[39m\u001b[38;5;124morganization\u001b[39m\u001b[38;5;124m\"\u001b[39m, \u001b[38;5;28;01mNone\u001b[39;00m)\n\u001b[0;32m--> 914\u001b[0m repo_id \u001b[38;5;241m=\u001b[39m \u001b[38;5;28;43mself\u001b[39;49m\u001b[38;5;241;43m.\u001b[39;49m\u001b[43m_create_repo\u001b[49m\u001b[43m(\u001b[49m\n\u001b[1;32m    915\u001b[0m \u001b[43m    \u001b[49m\u001b[43mrepo_id\u001b[49m\u001b[43m,\u001b[49m\u001b[43m \u001b[49m\u001b[43mprivate\u001b[49m\u001b[38;5;241;43m=\u001b[39;49m\u001b[43mprivate\u001b[49m\u001b[43m,\u001b[49m\u001b[43m \u001b[49m\u001b[43mtoken\u001b[49m\u001b[38;5;241;43m=\u001b[39;49m\u001b[43mtoken\u001b[49m\u001b[43m,\u001b[49m\u001b[43m \u001b[49m\u001b[43mrepo_url\u001b[49m\u001b[38;5;241;43m=\u001b[39;49m\u001b[43mrepo_url\u001b[49m\u001b[43m,\u001b[49m\u001b[43m \u001b[49m\u001b[43morganization\u001b[49m\u001b[38;5;241;43m=\u001b[39;49m\u001b[43morganization\u001b[49m\n\u001b[1;32m    916\u001b[0m \u001b[43m\u001b[49m\u001b[43m)\u001b[49m\n\u001b[1;32m    918\u001b[0m \u001b[38;5;66;03m# Create a new empty model card and eventually tag it\u001b[39;00m\n\u001b[1;32m    919\u001b[0m model_card \u001b[38;5;241m=\u001b[39m create_and_tag_model_card(\n\u001b[1;32m    920\u001b[0m     repo_id, tags, token\u001b[38;5;241m=\u001b[39mtoken, ignore_metadata_errors\u001b[38;5;241m=\u001b[39mignore_metadata_errors\n\u001b[1;32m    921\u001b[0m )\n",
      "File \u001b[0;32m~/Downloads/BMW_intern_GenAI_coding_task/.bmw_env/lib/python3.11/site-packages/transformers/utils/hub.py:730\u001b[0m, in \u001b[0;36mPushToHubMixin._create_repo\u001b[0;34m(self, repo_id, private, token, repo_url, organization)\u001b[0m\n\u001b[1;32m    727\u001b[0m             repo_id \u001b[38;5;241m=\u001b[39m repo_id\u001b[38;5;241m.\u001b[39msplit(\u001b[38;5;124m\"\u001b[39m\u001b[38;5;124m/\u001b[39m\u001b[38;5;124m\"\u001b[39m)[\u001b[38;5;241m-\u001b[39m\u001b[38;5;241m1\u001b[39m]\n\u001b[1;32m    728\u001b[0m         repo_id \u001b[38;5;241m=\u001b[39m \u001b[38;5;124mf\u001b[39m\u001b[38;5;124m\"\u001b[39m\u001b[38;5;132;01m{\u001b[39;00morganization\u001b[38;5;132;01m}\u001b[39;00m\u001b[38;5;124m/\u001b[39m\u001b[38;5;132;01m{\u001b[39;00mrepo_id\u001b[38;5;132;01m}\u001b[39;00m\u001b[38;5;124m\"\u001b[39m\n\u001b[0;32m--> 730\u001b[0m url \u001b[38;5;241m=\u001b[39m \u001b[43mcreate_repo\u001b[49m\u001b[43m(\u001b[49m\u001b[43mrepo_id\u001b[49m\u001b[38;5;241;43m=\u001b[39;49m\u001b[43mrepo_id\u001b[49m\u001b[43m,\u001b[49m\u001b[43m \u001b[49m\u001b[43mtoken\u001b[49m\u001b[38;5;241;43m=\u001b[39;49m\u001b[43mtoken\u001b[49m\u001b[43m,\u001b[49m\u001b[43m \u001b[49m\u001b[43mprivate\u001b[49m\u001b[38;5;241;43m=\u001b[39;49m\u001b[43mprivate\u001b[49m\u001b[43m,\u001b[49m\u001b[43m \u001b[49m\u001b[43mexist_ok\u001b[49m\u001b[38;5;241;43m=\u001b[39;49m\u001b[38;5;28;43;01mTrue\u001b[39;49;00m\u001b[43m)\u001b[49m\n\u001b[1;32m    731\u001b[0m \u001b[38;5;28;01mreturn\u001b[39;00m url\u001b[38;5;241m.\u001b[39mrepo_id\n",
      "File \u001b[0;32m~/Downloads/BMW_intern_GenAI_coding_task/.bmw_env/lib/python3.11/site-packages/huggingface_hub/utils/_validators.py:114\u001b[0m, in \u001b[0;36mvalidate_hf_hub_args.<locals>._inner_fn\u001b[0;34m(*args, **kwargs)\u001b[0m\n\u001b[1;32m    111\u001b[0m \u001b[38;5;28;01mif\u001b[39;00m check_use_auth_token:\n\u001b[1;32m    112\u001b[0m     kwargs \u001b[38;5;241m=\u001b[39m smoothly_deprecate_use_auth_token(fn_name\u001b[38;5;241m=\u001b[39mfn\u001b[38;5;241m.\u001b[39m\u001b[38;5;18m__name__\u001b[39m, has_token\u001b[38;5;241m=\u001b[39mhas_token, kwargs\u001b[38;5;241m=\u001b[39mkwargs)\n\u001b[0;32m--> 114\u001b[0m \u001b[38;5;28;01mreturn\u001b[39;00m \u001b[43mfn\u001b[49m\u001b[43m(\u001b[49m\u001b[38;5;241;43m*\u001b[39;49m\u001b[43margs\u001b[49m\u001b[43m,\u001b[49m\u001b[43m \u001b[49m\u001b[38;5;241;43m*\u001b[39;49m\u001b[38;5;241;43m*\u001b[39;49m\u001b[43mkwargs\u001b[49m\u001b[43m)\u001b[49m\n",
      "File \u001b[0;32m~/Downloads/BMW_intern_GenAI_coding_task/.bmw_env/lib/python3.11/site-packages/huggingface_hub/hf_api.py:3348\u001b[0m, in \u001b[0;36mHfApi.create_repo\u001b[0;34m(self, repo_id, token, private, repo_type, exist_ok, resource_group_id, space_sdk, space_hardware, space_storage, space_sleep_time, space_secrets, space_variables)\u001b[0m\n\u001b[1;32m   3345\u001b[0m \u001b[38;5;28;01mif\u001b[39;00m resource_group_id \u001b[38;5;129;01mis\u001b[39;00m \u001b[38;5;129;01mnot\u001b[39;00m \u001b[38;5;28;01mNone\u001b[39;00m:\n\u001b[1;32m   3346\u001b[0m     json[\u001b[38;5;124m\"\u001b[39m\u001b[38;5;124mresourceGroupId\u001b[39m\u001b[38;5;124m\"\u001b[39m] \u001b[38;5;241m=\u001b[39m resource_group_id\n\u001b[0;32m-> 3348\u001b[0m headers \u001b[38;5;241m=\u001b[39m \u001b[38;5;28;43mself\u001b[39;49m\u001b[38;5;241;43m.\u001b[39;49m\u001b[43m_build_hf_headers\u001b[49m\u001b[43m(\u001b[49m\u001b[43mtoken\u001b[49m\u001b[38;5;241;43m=\u001b[39;49m\u001b[43mtoken\u001b[49m\u001b[43m)\u001b[49m\n\u001b[1;32m   3349\u001b[0m \u001b[38;5;28;01mwhile\u001b[39;00m \u001b[38;5;28;01mTrue\u001b[39;00m:\n\u001b[1;32m   3350\u001b[0m     r \u001b[38;5;241m=\u001b[39m get_session()\u001b[38;5;241m.\u001b[39mpost(path, headers\u001b[38;5;241m=\u001b[39mheaders, json\u001b[38;5;241m=\u001b[39mjson)\n",
      "File \u001b[0;32m~/Downloads/BMW_intern_GenAI_coding_task/.bmw_env/lib/python3.11/site-packages/huggingface_hub/hf_api.py:9072\u001b[0m, in \u001b[0;36mHfApi._build_hf_headers\u001b[0;34m(self, token, is_write_action, library_name, library_version, user_agent)\u001b[0m\n\u001b[1;32m   9069\u001b[0m \u001b[38;5;28;01mif\u001b[39;00m token \u001b[38;5;129;01mis\u001b[39;00m \u001b[38;5;28;01mNone\u001b[39;00m:\n\u001b[1;32m   9070\u001b[0m     \u001b[38;5;66;03m# Cannot do `token = token or self.token` as token can be `False`.\u001b[39;00m\n\u001b[1;32m   9071\u001b[0m     token \u001b[38;5;241m=\u001b[39m \u001b[38;5;28mself\u001b[39m\u001b[38;5;241m.\u001b[39mtoken\n\u001b[0;32m-> 9072\u001b[0m \u001b[38;5;28;01mreturn\u001b[39;00m \u001b[43mbuild_hf_headers\u001b[49m\u001b[43m(\u001b[49m\n\u001b[1;32m   9073\u001b[0m \u001b[43m    \u001b[49m\u001b[43mtoken\u001b[49m\u001b[38;5;241;43m=\u001b[39;49m\u001b[43mtoken\u001b[49m\u001b[43m,\u001b[49m\n\u001b[1;32m   9074\u001b[0m \u001b[43m    \u001b[49m\u001b[43mis_write_action\u001b[49m\u001b[38;5;241;43m=\u001b[39;49m\u001b[43mis_write_action\u001b[49m\u001b[43m,\u001b[49m\n\u001b[1;32m   9075\u001b[0m \u001b[43m    \u001b[49m\u001b[43mlibrary_name\u001b[49m\u001b[38;5;241;43m=\u001b[39;49m\u001b[43mlibrary_name\u001b[49m\u001b[43m \u001b[49m\u001b[38;5;129;43;01mor\u001b[39;49;00m\u001b[43m \u001b[49m\u001b[38;5;28;43mself\u001b[39;49m\u001b[38;5;241;43m.\u001b[39;49m\u001b[43mlibrary_name\u001b[49m\u001b[43m,\u001b[49m\n\u001b[1;32m   9076\u001b[0m \u001b[43m    \u001b[49m\u001b[43mlibrary_version\u001b[49m\u001b[38;5;241;43m=\u001b[39;49m\u001b[43mlibrary_version\u001b[49m\u001b[43m \u001b[49m\u001b[38;5;129;43;01mor\u001b[39;49;00m\u001b[43m \u001b[49m\u001b[38;5;28;43mself\u001b[39;49m\u001b[38;5;241;43m.\u001b[39;49m\u001b[43mlibrary_version\u001b[49m\u001b[43m,\u001b[49m\n\u001b[1;32m   9077\u001b[0m \u001b[43m    \u001b[49m\u001b[43muser_agent\u001b[49m\u001b[38;5;241;43m=\u001b[39;49m\u001b[43muser_agent\u001b[49m\u001b[43m \u001b[49m\u001b[38;5;129;43;01mor\u001b[39;49;00m\u001b[43m \u001b[49m\u001b[38;5;28;43mself\u001b[39;49m\u001b[38;5;241;43m.\u001b[39;49m\u001b[43muser_agent\u001b[49m\u001b[43m,\u001b[49m\n\u001b[1;32m   9078\u001b[0m \u001b[43m    \u001b[49m\u001b[43mheaders\u001b[49m\u001b[38;5;241;43m=\u001b[39;49m\u001b[38;5;28;43mself\u001b[39;49m\u001b[38;5;241;43m.\u001b[39;49m\u001b[43mheaders\u001b[49m\u001b[43m,\u001b[49m\n\u001b[1;32m   9079\u001b[0m \u001b[43m\u001b[49m\u001b[43m)\u001b[49m\n",
      "File \u001b[0;32m~/Downloads/BMW_intern_GenAI_coding_task/.bmw_env/lib/python3.11/site-packages/huggingface_hub/utils/_validators.py:114\u001b[0m, in \u001b[0;36mvalidate_hf_hub_args.<locals>._inner_fn\u001b[0;34m(*args, **kwargs)\u001b[0m\n\u001b[1;32m    111\u001b[0m \u001b[38;5;28;01mif\u001b[39;00m check_use_auth_token:\n\u001b[1;32m    112\u001b[0m     kwargs \u001b[38;5;241m=\u001b[39m smoothly_deprecate_use_auth_token(fn_name\u001b[38;5;241m=\u001b[39mfn\u001b[38;5;241m.\u001b[39m\u001b[38;5;18m__name__\u001b[39m, has_token\u001b[38;5;241m=\u001b[39mhas_token, kwargs\u001b[38;5;241m=\u001b[39mkwargs)\n\u001b[0;32m--> 114\u001b[0m \u001b[38;5;28;01mreturn\u001b[39;00m \u001b[43mfn\u001b[49m\u001b[43m(\u001b[49m\u001b[38;5;241;43m*\u001b[39;49m\u001b[43margs\u001b[49m\u001b[43m,\u001b[49m\u001b[43m \u001b[49m\u001b[38;5;241;43m*\u001b[39;49m\u001b[38;5;241;43m*\u001b[39;49m\u001b[43mkwargs\u001b[49m\u001b[43m)\u001b[49m\n",
      "File \u001b[0;32m~/Downloads/BMW_intern_GenAI_coding_task/.bmw_env/lib/python3.11/site-packages/huggingface_hub/utils/_headers.py:124\u001b[0m, in \u001b[0;36mbuild_hf_headers\u001b[0;34m(token, is_write_action, library_name, library_version, user_agent, headers)\u001b[0m\n\u001b[1;32m     48\u001b[0m \u001b[38;5;250m\u001b[39m\u001b[38;5;124;03m\"\"\"\u001b[39;00m\n\u001b[1;32m     49\u001b[0m \u001b[38;5;124;03mBuild headers dictionary to send in a HF Hub call.\u001b[39;00m\n\u001b[1;32m     50\u001b[0m \n\u001b[0;32m   (...)\u001b[0m\n\u001b[1;32m    121\u001b[0m \u001b[38;5;124;03m        If `token=True` but token is not saved locally.\u001b[39;00m\n\u001b[1;32m    122\u001b[0m \u001b[38;5;124;03m\"\"\"\u001b[39;00m\n\u001b[1;32m    123\u001b[0m \u001b[38;5;66;03m# Get auth token to send\u001b[39;00m\n\u001b[0;32m--> 124\u001b[0m token_to_send \u001b[38;5;241m=\u001b[39m \u001b[43mget_token_to_send\u001b[49m\u001b[43m(\u001b[49m\u001b[43mtoken\u001b[49m\u001b[43m)\u001b[49m\n\u001b[1;32m    125\u001b[0m _validate_token_to_send(token_to_send, is_write_action\u001b[38;5;241m=\u001b[39mis_write_action)\n\u001b[1;32m    127\u001b[0m \u001b[38;5;66;03m# Combine headers\u001b[39;00m\n",
      "File \u001b[0;32m~/Downloads/BMW_intern_GenAI_coding_task/.bmw_env/lib/python3.11/site-packages/huggingface_hub/utils/_headers.py:158\u001b[0m, in \u001b[0;36mget_token_to_send\u001b[0;34m(token)\u001b[0m\n\u001b[1;32m    156\u001b[0m \u001b[38;5;28;01mif\u001b[39;00m token \u001b[38;5;129;01mis\u001b[39;00m \u001b[38;5;28;01mTrue\u001b[39;00m:\n\u001b[1;32m    157\u001b[0m     \u001b[38;5;28;01mif\u001b[39;00m cached_token \u001b[38;5;129;01mis\u001b[39;00m \u001b[38;5;28;01mNone\u001b[39;00m:\n\u001b[0;32m--> 158\u001b[0m         \u001b[38;5;28;01mraise\u001b[39;00m LocalTokenNotFoundError(\n\u001b[1;32m    159\u001b[0m             \u001b[38;5;124m\"\u001b[39m\u001b[38;5;124mToken is required (`token=True`), but no token found. You\u001b[39m\u001b[38;5;124m\"\u001b[39m\n\u001b[1;32m    160\u001b[0m             \u001b[38;5;124m\"\u001b[39m\u001b[38;5;124m need to provide a token or be logged in to Hugging Face with\u001b[39m\u001b[38;5;124m\"\u001b[39m\n\u001b[1;32m    161\u001b[0m             \u001b[38;5;124m\"\u001b[39m\u001b[38;5;124m `huggingface-cli login` or `huggingface_hub.login`. See\u001b[39m\u001b[38;5;124m\"\u001b[39m\n\u001b[1;32m    162\u001b[0m             \u001b[38;5;124m\"\u001b[39m\u001b[38;5;124m https://huggingface.co/settings/tokens.\u001b[39m\u001b[38;5;124m\"\u001b[39m\n\u001b[1;32m    163\u001b[0m         )\n\u001b[1;32m    164\u001b[0m     \u001b[38;5;28;01mreturn\u001b[39;00m cached_token\n\u001b[1;32m    166\u001b[0m \u001b[38;5;66;03m# Case implicit use of the token is forbidden by env variable\u001b[39;00m\n",
      "\u001b[0;31mLocalTokenNotFoundError\u001b[0m: Token is required (`token=True`), but no token found. You need to provide a token or be logged in to Hugging Face with `huggingface-cli login` or `huggingface_hub.login`. See https://huggingface.co/settings/tokens."
     ]
    }
   ],
   "source": [
    "peft_model_id = \"meme_caption_generator_FLAN-T5-large_prefix_tuned\"\n",
    "model.push_to_hub(peft_model_id, use_auth_token=True, create_pr=1)"
   ]
  },
  {
   "cell_type": "code",
   "execution_count": 259,
   "metadata": {},
   "outputs": [],
   "source": [
    "import os"
   ]
  },
  {
   "cell_type": "code",
   "execution_count": 268,
   "metadata": {},
   "outputs": [],
   "source": [
    "os.environ['HUGGINGFACE_TOKEN'] = \"hf_YOUR_TOKEN\""
   ]
  },
  {
   "cell_type": "code",
   "execution_count": 269,
   "metadata": {},
   "outputs": [
    {
     "name": "stdout",
     "output_type": "stream",
     "text": [
      "The token has not been saved to the git credentials helper. Pass `add_to_git_credential=True` in this function directly or `--add-to-git-credential` if using via `huggingface-cli` if you want to set the git credential as well.\n",
      "Token is valid (permission: write).\n",
      "Your token has been saved to /Users/nursulusagimbayeva/.cache/huggingface/token\n",
      "Login successful\n"
     ]
    }
   ],
   "source": [
    "from huggingface_hub import login\n",
    "\n",
    "# Replace 'your_token_here' with your actual token\n",
    "login(token=\"hf_YOUR_TOKEN\")"
   ]
  },
  {
   "cell_type": "code",
   "execution_count": 271,
   "metadata": {},
   "outputs": [
    {
     "name": "stderr",
     "output_type": "stream",
     "text": [
      "adapter_model.safetensors: 100%|██████████| 3.93M/3.93M [00:09<00:00, 430kB/s]\n"
     ]
    },
    {
     "data": {
      "text/plain": [
       "CommitInfo(commit_url='https://huggingface.co/NursNurs/meme_caption_generator_FLAN-T5-large_prefix_tuned/commit/6b40fe636ce290718f8844f9ad3061ed5c6965c9', commit_message='Upload model', commit_description='', oid='6b40fe636ce290718f8844f9ad3061ed5c6965c9', pr_url='https://huggingface.co/NursNurs/meme_caption_generator_FLAN-T5-large_prefix_tuned/discussions/1', pr_revision='refs/pr/1', pr_num=1)"
      ]
     },
     "execution_count": 271,
     "metadata": {},
     "output_type": "execute_result"
    }
   ],
   "source": [
    "peft_model_id = \"meme_caption_generator_FLAN-T5-large_prefix_tuned\"\n",
    "model.push_to_hub(peft_model_id, use_auth_token=True, create_pr=1)"
   ]
  },
  {
   "cell_type": "code",
   "execution_count": 247,
   "metadata": {},
   "outputs": [
    {
     "ename": "TypeError",
     "evalue": "PeftModelForSeq2SeqLM.generate() takes 1 positional argument but 2 were given",
     "output_type": "error",
     "traceback": [
      "\u001b[0;31m---------------------------------------------------------------------------\u001b[0m",
      "\u001b[0;31mTypeError\u001b[0m                                 Traceback (most recent call last)",
      "Cell \u001b[0;32mIn[247], line 8\u001b[0m\n\u001b[1;32m      5\u001b[0m input_ids \u001b[38;5;241m=\u001b[39m tokenizer\u001b[38;5;241m.\u001b[39mencode(input_text, return_tensors\u001b[38;5;241m=\u001b[39m\u001b[38;5;124m\"\u001b[39m\u001b[38;5;124mpt\u001b[39m\u001b[38;5;124m\"\u001b[39m)\n\u001b[1;32m      7\u001b[0m \u001b[38;5;66;03m# Generate output\u001b[39;00m\n\u001b[0;32m----> 8\u001b[0m outputs \u001b[38;5;241m=\u001b[39m \u001b[43mmodel\u001b[49m\u001b[38;5;241;43m.\u001b[39;49m\u001b[43mgenerate\u001b[49m\u001b[43m(\u001b[49m\u001b[43minput_ids\u001b[49m\u001b[43m)\u001b[49m\n\u001b[1;32m     10\u001b[0m \u001b[38;5;66;03m# Decode and print the generated text\u001b[39;00m\n\u001b[1;32m     11\u001b[0m generated_text \u001b[38;5;241m=\u001b[39m tokenizer\u001b[38;5;241m.\u001b[39mdecode(outputs[\u001b[38;5;241m0\u001b[39m], skip_special_tokens\u001b[38;5;241m=\u001b[39m\u001b[38;5;28;01mTrue\u001b[39;00m)\n",
      "\u001b[0;31mTypeError\u001b[0m: PeftModelForSeq2SeqLM.generate() takes 1 positional argument but 2 were given"
     ]
    }
   ],
   "source": [
    "# Define input text\n",
    "input_text = \"Translate English to French: How are you?\"\n",
    "\n",
    "# Tokenize the input\n",
    "input_ids = tokenizer.encode(input_text, return_tensors=\"pt\")\n",
    "\n",
    "# Generate output\n",
    "outputs = model.generate(input_ids)\n",
    "\n",
    "# Decode and print the generated text\n",
    "generated_text = tokenizer.decode(outputs[0], skip_special_tokens=True)\n",
    "print(generated_text)"
   ]
  },
  {
   "cell_type": "code",
   "execution_count": 20,
   "metadata": {},
   "outputs": [],
   "source": [
    "def process_image(image_path: str) -> str:\n",
    "    CONTEXT = \"A chat between a curious user and an artificial intelligence assistant. The assistant gives helpful, detailed, and polite answers to the user's questions.\\n\"\n",
    "\n",
    "    with open(image_path, 'rb') as f:\n",
    "        img_str = base64.b64encode(f.read()).decode('utf-8')\n",
    "        prompt = CONTEXT + f'### Human: Describe the image: \\n<img src=\"data:image/jpeg;base64,{img_str}\">### Assistant: '### Human: What is unusual about this image: \\n<img src=\"data:image/jpeg;base64,{img_str}\">### Assistant: '\n",
    "\n",
    "        data = {\n",
    "            \"mode\": \"instruct\", # chat, instruct\n",
    "            \"character\": \"Example\",\n",
    "#           \"instruction_template\": \"LLaVA-v1\",\n",
    "            \"messages\": [{\"role\": \"system\", \"content\": prompt}]\n",
    "        }\n",
    "        \n",
    "\n",
    "        response = requests.post('http://127.0.0.1:5000/v1/chat/completions', json=data)\n",
    "        print(response)\n",
    "\n",
    "        if response.status_code != 200:\n",
    "            print(response.text)\n",
    "            print(f\"Request failed with status {response.status_code}. Response: {response.json()}\")\n",
    "            return None\n",
    "        else:\n",
    "            print(response.text)\n",
    "            return response.json()['choices'][0]['message']['content']"
   ]
  },
  {
   "cell_type": "code",
   "execution_count": 2,
   "metadata": {},
   "outputs": [],
   "source": [
    "import json"
   ]
  },
  {
   "cell_type": "code",
   "execution_count": 3,
   "metadata": {},
   "outputs": [],
   "source": [
    "with open(\"memes_900k_files/meme_properties.json\", 'r') as file:\n",
    "    meme_properties = json.load(file)"
   ]
  },
  {
   "cell_type": "code",
   "execution_count": 4,
   "metadata": {},
   "outputs": [
    {
     "data": {
      "text/plain": [
       "dict_keys(['Y U No', 'Bad Luck Brian', 'Willy Wonka', 'The Most Interesting Man In The World', 'Futurama Fry', 'Success Kid', 'One Does Not Simply', 'First World Problems', 'Philosoraptor', 'Grumpy Cat ', 'Winter is Coming', 'Forever Alone', 'Good Guy Greg', 'Scumbag Steve', 'What If I Told You', 'Kermit The Frog Drinking Tea', 'Conspiracy Keanu', 'Yo Dawg', 'All the things', 'Insanity Wolf', 'Joseph Ducreux', 'Trollface', 'Pedobear', 'Skeptical 3rd World Kid', 'Annoying Facebook Girl', 'Disaster Girl', 'Socially Awkward Penguin', 'Prepare yourself', 'Slowpoke', 'Dr Evil meme', 'Advice Yoda Gives', 'joker mind loss', 'Stoner Stanley', 'Foul Bachelor Frog', 'pleaseguy ', 'batman slap robin', 'High Expectations Asian Father', \"Koala can't believe it\", 'MR bean', 'Chuck Norris ', 'Overly Attached Girlfriend', 'Butthurt Dweller', 'Desk Flip Rage Guy', 'Whyyy???', 'Business Cat', 'drunk baby 1', 'Correction Guy', \"So You're Telling me\", \"south park aand it's gone\", 'Skeptical African Child', 'What if I told you / Matrix Morpheus', 'Okay Guy', 'Sudden Realization Ralph', 'kill yourself guy', 'crying peter parker', 'san juan cholo', 'african children dancing', 'Imagination', 'Chemistry Cat', 'ancient alien guy', 'SouthPark Bad Time meme', 'Chill Out Lemur', 'Skeptical african kid ', 'Captain Picard', 'fat chinese kid', 'Angry School Boy', 'Courage Wolf', 'That would be great', 'so doge', 'Internet Husband', 'skeptical black kid', 'Successful Black Man', 'Matrix Morpheus', 'Batman Slappp', 'Provincial Man', 'Sad Trooper', 'Advice Dog', 'Challenge Accepted 2', 'Archer', 'i should buy a boat cat', 'Not sure if troll', 'Guess who ?', 'Stoner Dog', 'Keep calm and', 'Sunny Student', 'Bear Grylls', 'Paranoid Parrot', 'Socially Awesome Awkward Penguin', 'iHate', 'Awkward Seal', 'Rage FU', 'Really Stoned Guy', 'Anxiety Cat', 'Maury Lie Detector', 'crying girl sad', 'Anti Joke Chicken', 'Unpopular Opinion Puffin', 'Bear Grylls Loneliness', 'Musically Oblivious 8th Grader', 'Kermit the frog', 'sparta', 'african kids dancing', '1889 [10] guy', 'really high guy', 'evil toddler kid2', \"And it's gone\", 'spongebob rainbow', 'Y U SO', 'Unlucky Brian Strikes Again', 'American Pride Eagle', 'Advice Hitler', 'Rich Men Laughing', 'Fat Girl', 'Yeah If You Could Just', 'Tough Spongebob', 'Ash Pedreiro', 'First Day on the internet kid', 'bender blackjack and hookers', 'Oprah You get a', 'old lady', 'Vengeance Dad', 'Pawn Stars', 'Sassy Black Woman', 'Ridiculously Photogenic Metalhead', 'Grumpy cat good', 'Angry Arnold', 'Hipster Ariel', \"Don't you, Squidward?\", 'Gangnam Style', 'Retail Robin', 'Why the fuck', 'newspaper cat realization', 'mean girls', 'gordo granudo', 'Obama', 'so i guess you could say things are getting pretty serious', 'Art Student Owl', 'Overly Obsessed Girlfriend', 'Hipster Kitty', 'Minecraft Creeper', 'So Then I Said...', 'buddy jesus', 'Craig would be so happy', \"I don't know who you are...\", 'Skeptical third-world kid', 'Donald Trump', 'Jealous Girl', \"you don't say meme\", 'Lame Pun Coon', \"Bill O'Reilly Proves God\", 'skyrim stan', 'Bane', 'PTSD Karate Kyle', 'Trologirl', 'yaowonkaxd', 'Look at All the Fucks I Give', 'overly manlyman', 'look-marge', 'aysi', 'Picard facepalm ', 'Pennywise the Clown', 'Racist Dog', 'Cool Dog', 'In Soviet Russia', 'FPS N00b', 'Crying face', 'Pulp Fiction', 'your country needs you', 'Thats a paddlin', 'Bane Meme', 'journalist', 'You shall not pass', \"I have no idea what I'm doing - Dog with Tie\", 'obama laughing ', 'Mafia Baby', 'Blackjack and hookers bender', 'GUESS WHO YOU', 'Racist Dawg', 'evil raccoon', 'Idiot Nerd Girl', 'Annoying Gamer Kid', \"You keep using that word, I don't think it means what you think it means\", 'Office Space Boss', 'Uncle Dolan', 'Roleplaying Rabbit', 'Computer kid', 'Technologically Impaired Duck', 'Pepperidge Farm Remembers FG', 'RomneyMakes.com', 'Successful Mexican', 'FU*CK THAT GUY', \"I don't always guy meme\", 'Ryan Gosling Hey Girl 3', 'Professor Oak', 'Unimpressed Queen', 'calamardo me vale', 'you mean to tell me black kid', 'I will Find You Meme', 'Stupid Monkey', 'McKayla Maroney Not Impressed', 'Buddy the Elf', 'Bad Factman', 'I double dare you', 'Crazy Camel lol', 'So I got that going on for me, which is nice', 'obama beer', 'Confused Bill Cosby ', 'God', 'Dr. Evil and His Minions', 'KD you the real mvp f', 'Minecraft Guy', 'Angry Cat Meme', 'high/drunk guy', 'Liberal Douche Garofalo', 'Everywhere', 'mens wearhouse', 'x all the y', 'Angry Linus', \"You're gonna have a bad time\", 'kill yourself guy blank', 'Socially Awesome Penguin', 'Bill Murray Caddyshack', 'Nick Cage', 'Tobey_Maguire', 'Fallout 3', 'Douchebag Roommate', 'Stalin Says', 'Chronic Illness Cat', \"Why Can't I Hold All These?!?!?\", 'Socially Awkward to Awesome Penguin', 'The Godfather', 'Correction Man ', 'Beavis and butthead', 'Foul Bachelorette Frog', 'Steve Jobs Says', 'overly attached girl', 'Carl Spackler', 'Black Kid', 'Batman Bitchslap', 'nerdy kid lolz', 'dr. evil quotation marks', 'Dogeeeee', 'Chuck Norris Advice', 'teacher', 'Pawn Stars Rick', 'Scumbag God', 'katt williams shocked', 'Yes, this is dog!', 'Dancing black kid', 'Anchorman Birthday', 'Buzz lightyear meme fixd', 'Justin Bieber', 'Spock', 'Never Have I Been So Wrong', 'Age Of Empires', 'Not today arya', 'you have no power here', 'I will find you and kill you', 'burning house girl', 'Dolan duck', 'I can haz', 'NFL Ref Meeting', 'Bad Advice Cat', 'Angry Black Woman', 'evil plan kid', 'Asinine America', 'Patrick Stewart WTF', 'Diagnostic House', 'Funes 20 años', 'My Precious Gollum', 'storytime jesus', 'You were the chosen one ', 'Science Cat', 'Grumpy Cat Santa Hat', 'Shirtless Ryan Gosling', 'Pushing Patrick', 'Fat Guy', 'Blank Black', 'Laughing Girls ', 'Grumpy Cat 2', 'Thespian Peacock', 'dolan meme', 'went full retard', 'Ye Old Englishman', 'if you know what', 'Homer retard', 'Generic Indian Guy', 'sad bear', \"Timmy turner's dad IF I HAD ONE!\", 'Pokemon Logic ', 'dogeee', 'say what one more time', 'Depression Dog', 'That escalated quickly-Ron Burgundy', 'flniuydl', 'Serious Kip', 'Ryan Gosling Hey ', 'men in black', 'Niño Malvado - Evil Toddler', 'Bane Permission to Die'])"
      ]
     },
     "execution_count": 4,
     "metadata": {},
     "output_type": "execute_result"
    }
   ],
   "source": [
    "meme_properties.keys()\n"
   ]
  },
  {
   "cell_type": "code",
   "execution_count": 5,
   "metadata": {},
   "outputs": [],
   "source": [
    "import pandas as pd\n",
    "from collections import Counter"
   ]
  },
  {
   "cell_type": "code",
   "execution_count": 6,
   "metadata": {},
   "outputs": [],
   "source": [
    "df = pd.read_csv(\"memes_900k_files/sentiments_captions.csv\")"
   ]
  },
  {
   "cell_type": "code",
   "execution_count": 7,
   "metadata": {},
   "outputs": [],
   "source": [
    "df_angry = df[df['sentiments']=='angry']"
   ]
  },
  {
   "cell_type": "code",
   "execution_count": 27,
   "metadata": {},
   "outputs": [],
   "source": [
    "brace_yourselves = df_angry[df_angry['descriptions'] == 'a man in a fur coat holding a microphone']"
   ]
  },
  {
   "cell_type": "code",
   "execution_count": 8,
   "metadata": {},
   "outputs": [],
   "source": [
    "y_u_no =  df_angry[df_angry['descriptions'] == 'a simple, stylized drawing of a face with a very exaggerated expression of anger or frustration']"
   ]
  },
  {
   "cell_type": "code",
   "execution_count": 9,
   "metadata": {},
   "outputs": [],
   "source": [
    "y_u_no = list(y_u_no['captions'])\n"
   ]
  },
  {
   "cell_type": "code",
   "execution_count": 10,
   "metadata": {},
   "outputs": [
    {
     "data": {
      "text/plain": [
       "3000"
      ]
     },
     "execution_count": 10,
     "metadata": {},
     "output_type": "execute_result"
    }
   ],
   "source": [
    "len(y_u_no)"
   ]
  },
  {
   "cell_type": "code",
   "execution_count": 12,
   "metadata": {},
   "outputs": [],
   "source": [
    "y_u_so =  df_angry[df_angry['descriptions'] == 'a rage rage rage rage rage rage rage rage rage rage rage rage rage rage rage rage rage rage']"
   ]
  },
  {
   "cell_type": "code",
   "execution_count": 13,
   "metadata": {},
   "outputs": [],
   "source": [
    "y_u_so = list(y_u_so['captions'])"
   ]
  },
  {
   "cell_type": "code",
   "execution_count": 14,
   "metadata": {},
   "outputs": [
    {
     "data": {
      "text/plain": [
       "3000"
      ]
     },
     "execution_count": 14,
     "metadata": {},
     "output_type": "execute_result"
    }
   ],
   "source": [
    "len(y_u_so)"
   ]
  },
  {
   "cell_type": "code",
   "execution_count": 15,
   "metadata": {},
   "outputs": [],
   "source": [
    "y_u_memes = y_u_no + y_u_so"
   ]
  },
  {
   "cell_type": "code",
   "execution_count": 16,
   "metadata": {},
   "outputs": [
    {
     "data": {
      "text/plain": [
       "6000"
      ]
     },
     "execution_count": 16,
     "metadata": {},
     "output_type": "execute_result"
    }
   ],
   "source": [
    "len(y_u_memes)"
   ]
  },
  {
   "cell_type": "code",
   "execution_count": 18,
   "metadata": {},
   "outputs": [],
   "source": [
    "with open(\"y_u_memes.json\", 'w') as file:\n",
    "    json.dump(y_u_memes, file)"
   ]
  },
  {
   "cell_type": "code",
   "execution_count": 7,
   "metadata": {},
   "outputs": [],
   "source": [
    "brace_yourselves = list(brace_yourselves['captions'])"
   ]
  },
  {
   "cell_type": "code",
   "execution_count": 8,
   "metadata": {},
   "outputs": [
    {
     "data": {
      "text/plain": [
       "6000"
      ]
     },
     "execution_count": 8,
     "metadata": {},
     "output_type": "execute_result"
    }
   ],
   "source": [
    "len(brace_yourselves)"
   ]
  },
  {
   "cell_type": "code",
   "execution_count": 19,
   "metadata": {},
   "outputs": [],
   "source": [
    "df_happy = df[df['sentiments']=='happy']"
   ]
  },
  {
   "cell_type": "code",
   "execution_count": 33,
   "metadata": {},
   "outputs": [
    {
     "data": {
      "text/plain": [
       "[\"just wanted to say... <sep> happy mother's day!!!\",\n",
       " 'You mad bro? <sep> <emp>',\n",
       " 'complain about league of legends burst <sep> plays annie',\n",
       " 'hmmmm <sep> indeed she is preety',\n",
       " 'Are you sure that england can win tonight? <sep> balotelli will beat you england !!',\n",
       " 'fffrrrrtttt <sep> excuse me',\n",
       " 'sex pistlos <sep> if you know what i mean',\n",
       " 'NO <sep> JUST NO',\n",
       " 'may i have a peek <sep> at your tits?',\n",
       " 'Well she was just seventeen <sep> if you know what I mean',\n",
       " 'CAN YOU BLOW MY <sep> WHISTLE BABY',\n",
       " 'Mr. bean? <sep> Nah, Mr. Badi.',\n",
       " '<emp> <sep> whats so funny?',\n",
       " 'E ka patellxhanin ti mabi? <sep> if u know what i mean',\n",
       " '<emp> <sep> smell my fart yet?',\n",
       " 'sorry <sep> i just got back from vaktovia',\n",
       " 'THat face <sep> mli kat 7ze9 west jma3a',\n",
       " 'DID I SEE <sep> WHAT YOU THERE DID?',\n",
       " \"You say you're leet hacker? <sep> i think not.\",\n",
       " 'you are my kinky temptress of love <sep> sexy little angel you',\n",
       " 'YOU HAVE TWO CHOICES, <sep> consensual sex, or rape?',\n",
       " 'i just let the little blue three wheeled car <sep> get crushed by a tank. shhhhhh',\n",
       " 'My Dick <sep> is hard',\n",
       " 'my face <sep> when girls talk about british accents',\n",
       " 'school is over... <sep> if you know what i mean',\n",
       " 'i saw my nabours bush today <sep> if you know what i mean',\n",
       " '<emp> <sep> ...Safety...',\n",
       " 'i placed first in a pie-eating contest <sep> if you know what i bean',\n",
       " 'you want a bite of my banana? <sep> if you know what i bean',\n",
       " 'sorry about that, i was parking my beef bus in tuna town <sep> if you know what i bean',\n",
       " \"sorry i'm late i was exercising the demons <sep> if you know what i bean\",\n",
       " 'do you have a quarter? <sep> so i can call your mom and thank her',\n",
       " 'nice shirt <sep> it would look great on my floor',\n",
       " \"are you a parking ticket? <sep> cuz you have 'fine' written all over you\",\n",
       " 'you listen to lmfao <sep> you must work out',\n",
       " 'The second hardest thing in the morning is to wake up <sep> If you know what i mean',\n",
       " 'hello ladies... <sep> i have a hand grenade flavored condom',\n",
       " 'Thats not a <sep> Crease in my trousers',\n",
       " 'Face your bridesmaids make <sep> when you say yes to the wrong dress',\n",
       " \"That face you get from friends... <sep> When you're cosplaying at supernova\",\n",
       " 'THAT LOOK WHEN <sep> YOU SEE A HANDSOME GUY ON TV',\n",
       " 'sees you account <sep> hacks it',\n",
       " 'Mr BEAN <sep> aaaaaahhhhh',\n",
       " 'my wife does 3 jobs <sep> if you know what i mean',\n",
       " '<emp> <sep> SORRY, i don`t have an itunes account',\n",
       " \"<emp> <sep> I'm Waiting\",\n",
       " 'even if i <sep> say please ?',\n",
       " 'instant <sep> seduction',\n",
       " 'ENJOYS WALKING AROUND THE STORE <sep> IN THE WOMANS AISLE',\n",
       " \"KNOWS WHERE... <sep> ...THERE'S NO CAMERAS IN THE STORE\"]"
      ]
     },
     "execution_count": 33,
     "metadata": {},
     "output_type": "execute_result"
    }
   ],
   "source": [
    "list(df_happy['captions'])[15300:15350]"
   ]
  },
  {
   "cell_type": "code",
   "execution_count": 34,
   "metadata": {},
   "outputs": [],
   "source": [
    "if_you_know = df_happy[df_happy['captions'] == 'Farted In Class <sep> No One Heard']"
   ]
  },
  {
   "cell_type": "code",
   "execution_count": 40,
   "metadata": {},
   "outputs": [],
   "source": [
    "descr = if_you_know['descriptions'].iloc[0]"
   ]
  },
  {
   "cell_type": "code",
   "execution_count": 43,
   "metadata": {},
   "outputs": [
    {
     "name": "stdout",
     "output_type": "stream",
     "text": [
      "MR bean\n"
     ]
    }
   ],
   "source": [
    "for el in meme_properties:\n",
    "    if meme_properties[el]['description'] == descr:\n",
    "        print(el)"
   ]
  },
  {
   "cell_type": "code",
   "execution_count": 41,
   "metadata": {},
   "outputs": [],
   "source": [
    "if_you_know = df_happy[df_happy['descriptions'] == descr]"
   ]
  },
  {
   "cell_type": "code",
   "execution_count": 42,
   "metadata": {},
   "outputs": [
    {
     "data": {
      "text/html": [
       "<div>\n",
       "<style scoped>\n",
       "    .dataframe tbody tr th:only-of-type {\n",
       "        vertical-align: middle;\n",
       "    }\n",
       "\n",
       "    .dataframe tbody tr th {\n",
       "        vertical-align: top;\n",
       "    }\n",
       "\n",
       "    .dataframe thead th {\n",
       "        text-align: right;\n",
       "    }\n",
       "</style>\n",
       "<table border=\"1\" class=\"dataframe\">\n",
       "  <thead>\n",
       "    <tr style=\"text-align: right;\">\n",
       "      <th></th>\n",
       "      <th>descriptions</th>\n",
       "      <th>captions</th>\n",
       "      <th>sentiments</th>\n",
       "    </tr>\n",
       "  </thead>\n",
       "  <tbody>\n",
       "    <tr>\n",
       "      <th>114000</th>\n",
       "      <td>a man in a suit and tie standing next to the o...</td>\n",
       "      <td>That face your friend gives you &lt;sep&gt; When you...</td>\n",
       "      <td>happy</td>\n",
       "    </tr>\n",
       "    <tr>\n",
       "      <th>114001</th>\n",
       "      <td>a man in a suit and tie standing next to the o...</td>\n",
       "      <td>getting up is the second hardest thing in the ...</td>\n",
       "      <td>happy</td>\n",
       "    </tr>\n",
       "    <tr>\n",
       "      <th>114002</th>\n",
       "      <td>a man in a suit and tie standing next to the o...</td>\n",
       "      <td>do you live on a chicken farm? &lt;sep&gt; Cause you...</td>\n",
       "      <td>happy</td>\n",
       "    </tr>\n",
       "    <tr>\n",
       "      <th>114003</th>\n",
       "      <td>a man in a suit and tie standing next to the o...</td>\n",
       "      <td>Teacher says piCk a pArtner &lt;sep&gt; Look at Your...</td>\n",
       "      <td>happy</td>\n",
       "    </tr>\n",
       "    <tr>\n",
       "      <th>114004</th>\n",
       "      <td>a man in a suit and tie standing next to the o...</td>\n",
       "      <td>you like krabby patties &lt;sep&gt; don't you squidw...</td>\n",
       "      <td>happy</td>\n",
       "    </tr>\n",
       "    <tr>\n",
       "      <th>...</th>\n",
       "      <td>...</td>\n",
       "      <td>...</td>\n",
       "      <td>...</td>\n",
       "    </tr>\n",
       "    <tr>\n",
       "      <th>116995</th>\n",
       "      <td>a man in a suit and tie standing next to the o...</td>\n",
       "      <td>hmmm &lt;sep&gt; its friday</td>\n",
       "      <td>happy</td>\n",
       "    </tr>\n",
       "    <tr>\n",
       "      <th>116996</th>\n",
       "      <td>a man in a suit and tie standing next to the o...</td>\n",
       "      <td>that face your friend gives you &lt;sep&gt; when a h...</td>\n",
       "      <td>happy</td>\n",
       "    </tr>\n",
       "    <tr>\n",
       "      <th>116997</th>\n",
       "      <td>a man in a suit and tie standing next to the o...</td>\n",
       "      <td>Ragazzi, domani vi faccio il culo &lt;sep&gt; cit.pr...</td>\n",
       "      <td>happy</td>\n",
       "    </tr>\n",
       "    <tr>\n",
       "      <th>116998</th>\n",
       "      <td>a man in a suit and tie standing next to the o...</td>\n",
       "      <td>i dont need hair WAX &lt;sep&gt; if you know what i ...</td>\n",
       "      <td>happy</td>\n",
       "    </tr>\n",
       "    <tr>\n",
       "      <th>116999</th>\n",
       "      <td>a man in a suit and tie standing next to the o...</td>\n",
       "      <td>Marchewka &lt;sep&gt; przypadek? I DONT THINK SO</td>\n",
       "      <td>happy</td>\n",
       "    </tr>\n",
       "  </tbody>\n",
       "</table>\n",
       "<p>3000 rows × 3 columns</p>\n",
       "</div>"
      ],
      "text/plain": [
       "                                             descriptions  \\\n",
       "114000  a man in a suit and tie standing next to the o...   \n",
       "114001  a man in a suit and tie standing next to the o...   \n",
       "114002  a man in a suit and tie standing next to the o...   \n",
       "114003  a man in a suit and tie standing next to the o...   \n",
       "114004  a man in a suit and tie standing next to the o...   \n",
       "...                                                   ...   \n",
       "116995  a man in a suit and tie standing next to the o...   \n",
       "116996  a man in a suit and tie standing next to the o...   \n",
       "116997  a man in a suit and tie standing next to the o...   \n",
       "116998  a man in a suit and tie standing next to the o...   \n",
       "116999  a man in a suit and tie standing next to the o...   \n",
       "\n",
       "                                                 captions sentiments  \n",
       "114000  That face your friend gives you <sep> When you...      happy  \n",
       "114001  getting up is the second hardest thing in the ...      happy  \n",
       "114002  do you live on a chicken farm? <sep> Cause you...      happy  \n",
       "114003  Teacher says piCk a pArtner <sep> Look at Your...      happy  \n",
       "114004  you like krabby patties <sep> don't you squidw...      happy  \n",
       "...                                                   ...        ...  \n",
       "116995                              hmmm <sep> its friday      happy  \n",
       "116996  that face your friend gives you <sep> when a h...      happy  \n",
       "116997  Ragazzi, domani vi faccio il culo <sep> cit.pr...      happy  \n",
       "116998  i dont need hair WAX <sep> if you know what i ...      happy  \n",
       "116999         Marchewka <sep> przypadek? I DONT THINK SO      happy  \n",
       "\n",
       "[3000 rows x 3 columns]"
      ]
     },
     "execution_count": 42,
     "metadata": {},
     "output_type": "execute_result"
    }
   ],
   "source": [
    "if_you_know"
   ]
  },
  {
   "cell_type": "code",
   "execution_count": 48,
   "metadata": {},
   "outputs": [],
   "source": [
    "sneaky_guy = df[df['descriptions']=='a man with a black shirt and a black tie']"
   ]
  },
  {
   "cell_type": "code",
   "execution_count": 44,
   "metadata": {},
   "outputs": [],
   "source": [
    "if_you_know = list(if_you_know['captions'])"
   ]
  },
  {
   "cell_type": "code",
   "execution_count": 45,
   "metadata": {},
   "outputs": [],
   "source": [
    "with open(\"mr_bean.json\", 'w') as file:\n",
    "    json.dump(if_you_know, file)"
   ]
  },
  {
   "cell_type": "code",
   "execution_count": 54,
   "metadata": {},
   "outputs": [
    {
     "data": {
      "text/plain": [
       "['oh goody henry has two <sep> spiderman inflatables',\n",
       " 'the look you give your buddy when your white tac <sep> does 230 damage to a skull trooper',\n",
       " 'when you gave her all the attention yesterday <sep> and you know she gonna give it to you today',\n",
       " 'WHEN I SEE YOU PARAS, <sep> AND YOU SLEEPING ..',\n",
       " '*creepy* <sep> im looking at yOU...',\n",
       " 'LADIES AND GENTLEMEN... <sep> MISS KD LANG',\n",
       " 'How to tell <sep> Who farted in class',\n",
       " 'CREO QUE SE SIGUE ENOJANDO <sep> <emp>',\n",
       " 'Parents leaving out of the door for a week cruise <sep> knows where the seagrams 7 is',\n",
       " 'UM <sep> I MIGHT OF HAD SEX WITH HIM',\n",
       " '<emp> <sep> SGUELLA LIBRE',\n",
       " 'bruce dean professional recreationalist <sep> loves my golden showers.',\n",
       " 'WHEN UR FRIENDS SAW <sep> YOU SWEAR WHEN YOU WERE 10',\n",
       " \"pshhh <sep> that donkeys' dick is huge\",\n",
       " \"I DIDN'T FUCK <sep> HARRY'S GIRLFRIEND\",\n",
       " 'Mmmh... <sep> Cinnamon Buns',\n",
       " \"THE FACE YOU MAKE <sep> WHEN YOU'RE FIRST CRUSH LIKES YOU BACK\",\n",
       " \"I'VE PARKED NEXT TO A <sep> SKODA LABIA...\",\n",
       " \"so I see it's <sep> your birthday today...\",\n",
       " \"come inside and do my phlebotomy homework <sep> it's really easy! i promise...\"]"
      ]
     },
     "execution_count": 54,
     "metadata": {},
     "output_type": "execute_result"
    }
   ],
   "source": [
    "list(sneaky_guy['captions'])[80:100]"
   ]
  },
  {
   "cell_type": "code",
   "execution_count": 55,
   "metadata": {},
   "outputs": [],
   "source": [
    "sneaky_guy = list(sneaky_guy['captions'])"
   ]
  },
  {
   "cell_type": "code",
   "execution_count": 57,
   "metadata": {},
   "outputs": [],
   "source": [
    "with open(\"sneaky_guy.json\", 'w') as file:\n",
    "    json.dump(sneaky_guy, file)"
   ]
  },
  {
   "cell_type": "code",
   "execution_count": 18,
   "metadata": {},
   "outputs": [],
   "source": [
    "import json\n",
    "import re\n",
    "from sklearn.metrics import silhouette_score\n",
    "from sklearn.metrics.pairwise import cosine_similarity\n",
    "from transformers import AutoTokenizer, AutoModelForMaskedLM\n",
    "import matplotlib.pyplot as plt\n",
    "import torch\n",
    "from langdetect import detect\n",
    "import numpy as np"
   ]
  },
  {
   "cell_type": "code",
   "execution_count": 10,
   "metadata": {},
   "outputs": [
    {
     "name": "stderr",
     "output_type": "stream",
     "text": [
      "/Users/nursulusagimbayeva/Downloads/BMW_intern_GenAI_coding_task/.bmw_env/lib/python3.11/site-packages/transformers/tokenization_utils_base.py:1601: FutureWarning: `clean_up_tokenization_spaces` was not set. It will be set to `True` by default. This behavior will be depracted in transformers v4.45, and will be then set to `False` by default. For more details check this issue: https://github.com/huggingface/transformers/issues/31884\n",
      "  warnings.warn(\n",
      "Some weights of the model checkpoint at google-bert/bert-base-uncased were not used when initializing BertForMaskedLM: ['bert.pooler.dense.bias', 'bert.pooler.dense.weight', 'cls.seq_relationship.bias', 'cls.seq_relationship.weight']\n",
      "- This IS expected if you are initializing BertForMaskedLM from the checkpoint of a model trained on another task or with another architecture (e.g. initializing a BertForSequenceClassification model from a BertForPreTraining model).\n",
      "- This IS NOT expected if you are initializing BertForMaskedLM from the checkpoint of a model that you expect to be exactly identical (initializing a BertForSequenceClassification model from a BertForSequenceClassification model).\n"
     ]
    }
   ],
   "source": [
    "# Load pre-trained BERT model and tokenizer\n",
    "tokenizer = AutoTokenizer.from_pretrained(\"google-bert/bert-base-uncased\")\n",
    "model = AutoModelForMaskedLM.from_pretrained(\"google-bert/bert-base-uncased\")"
   ]
  },
  {
   "cell_type": "code",
   "execution_count": 12,
   "metadata": {},
   "outputs": [],
   "source": [
    "def preprocess_text(text):\n",
    "    # detect language. If not english, remove\n",
    "    lan = detect(text)\n",
    "    if lan != 'en':\n",
    "        return None\n",
    "    # lower case\n",
    "    text = text.lower()\n",
    "    return text"
   ]
  },
  {
   "cell_type": "code",
   "execution_count": 13,
   "metadata": {},
   "outputs": [],
   "source": [
    "brace_yourselves_processed = list(map(preprocess_text, brace_yourselves))"
   ]
  },
  {
   "cell_type": "code",
   "execution_count": 14,
   "metadata": {},
   "outputs": [],
   "source": [
    "# Function to generate BERT embeddings\n",
    "def get_bert_embeddings(texts, tokenizer, model):\n",
    "    inputs = tokenizer(texts, return_tensors='pt', padding=True, truncation=True, max_length=512)\n",
    "    with torch.no_grad():\n",
    "        outputs = model(**inputs, output_hidden_states=True)\n",
    "    embeddings = outputs['hidden_states'][-1].mean(dim=1)\n",
    "    return embeddings\n",
    "\n",
    "\n",
    "# Plotting using Matplotlib\n",
    "def plot_clusters(plot_df, title):\n",
    "    plt.figure(figsize=(10, 7))\n",
    "    scatter = plt.scatter(plot_df['x'], plot_df['y'], c=plot_df['Cluster'], cmap='viridis')\n",
    "    plt.title(title)\n",
    "    plt.xlabel('Component 1')\n",
    "    plt.ylabel('Component 2')\n",
    "    plt.colorbar(scatter, label='Cluster')\n",
    "    for i, doc in enumerate(plot_df['Document']):\n",
    "        plt.annotate(doc, (plot_df['x'][i], plot_df['y'][i]))\n",
    "    plt.show()"
   ]
  },
  {
   "cell_type": "code",
   "execution_count": 15,
   "metadata": {},
   "outputs": [],
   "source": [
    "brace_yourselves_processed = [el for el in brace_yourselves_processed if el != None]"
   ]
  },
  {
   "cell_type": "code",
   "execution_count": 16,
   "metadata": {},
   "outputs": [
    {
     "data": {
      "text/plain": [
       "5471"
      ]
     },
     "execution_count": 16,
     "metadata": {},
     "output_type": "execute_result"
    }
   ],
   "source": [
    "len(brace_yourselves_processed)"
   ]
  },
  {
   "cell_type": "code",
   "execution_count": 17,
   "metadata": {},
   "outputs": [],
   "source": [
    "embeddings_brace_yourselves = get_bert_embeddings(brace_yourselves_processed, tokenizer, model)"
   ]
  },
  {
   "cell_type": "code",
   "execution_count": 19,
   "metadata": {},
   "outputs": [],
   "source": [
    "np.savez('embeddings_brace_yourselves.npz')\n"
   ]
  },
  {
   "cell_type": "code",
   "execution_count": 21,
   "metadata": {},
   "outputs": [],
   "source": [
    "documents = brace_yourselves_processed\n",
    "embeddings = embeddings_brace_yourselves"
   ]
  },
  {
   "cell_type": "code",
   "execution_count": 22,
   "metadata": {},
   "outputs": [],
   "source": [
    "from sklearn.cluster import KMeans  # For KMeans clustering\n",
    "from sklearn.manifold import TSNE   # For t-SNE dimensionality reduction\n",
    "from sklearn.decomposition import PCA"
   ]
  },
  {
   "cell_type": "code",
   "execution_count": 25,
   "metadata": {},
   "outputs": [
    {
     "data": {
      "image/png": "[encoded data removed]",
      "text/plain": [
       "<Figure size 1000x500 with 2 Axes>"
      ]
     },
     "metadata": {},
     "output_type": "display_data"
    },
    {
     "ename": "ValueError",
     "evalue": "perplexity must be less than n_samples",
     "output_type": "error",
     "traceback": [
      "\u001b[0;31m---------------------------------------------------------------------------\u001b[0m",
      "\u001b[0;31mValueError\u001b[0m                                Traceback (most recent call last)",
      "Cell \u001b[0;32mIn[25], line 46\u001b[0m\n\u001b[1;32m     44\u001b[0m tsne \u001b[38;5;241m=\u001b[39m TSNE(n_components\u001b[38;5;241m=\u001b[39m\u001b[38;5;241m2\u001b[39m, perplexity\u001b[38;5;241m=\u001b[39m\u001b[38;5;241m2\u001b[39m, random_state\u001b[38;5;241m=\u001b[39m\u001b[38;5;241m42\u001b[39m)\n\u001b[1;32m     45\u001b[0m reduced_embeddings_tsne \u001b[38;5;241m=\u001b[39m tsne\u001b[38;5;241m.\u001b[39mfit_transform(embeddings)\n\u001b[0;32m---> 46\u001b[0m reduced_cluster_centers_tsne \u001b[38;5;241m=\u001b[39m \u001b[43mtsne\u001b[49m\u001b[38;5;241;43m.\u001b[39;49m\u001b[43mfit_transform\u001b[49m\u001b[43m(\u001b[49m\u001b[43mcluster_centers\u001b[49m\u001b[43m)\u001b[49m\n\u001b[1;32m     48\u001b[0m \u001b[38;5;66;03m# Create a DataFrame for plotting\u001b[39;00m\n\u001b[1;32m     49\u001b[0m plot_df_pca \u001b[38;5;241m=\u001b[39m pd\u001b[38;5;241m.\u001b[39mDataFrame({\n\u001b[1;32m     50\u001b[0m     \u001b[38;5;124m'\u001b[39m\u001b[38;5;124mx\u001b[39m\u001b[38;5;124m'\u001b[39m: reduced_embeddings_pca[:, \u001b[38;5;241m0\u001b[39m],\n\u001b[1;32m     51\u001b[0m     \u001b[38;5;124m'\u001b[39m\u001b[38;5;124my\u001b[39m\u001b[38;5;124m'\u001b[39m: reduced_embeddings_pca[:, \u001b[38;5;241m1\u001b[39m],\n\u001b[1;32m     52\u001b[0m     \u001b[38;5;124m'\u001b[39m\u001b[38;5;124mCluster\u001b[39m\u001b[38;5;124m'\u001b[39m: clusters,\n\u001b[1;32m     53\u001b[0m     \u001b[38;5;124m'\u001b[39m\u001b[38;5;124mDocument\u001b[39m\u001b[38;5;124m'\u001b[39m: documents\n\u001b[1;32m     54\u001b[0m })\n",
      "File \u001b[0;32m~/Downloads/BMW_intern_GenAI_coding_task/.bmw_env/lib/python3.11/site-packages/sklearn/utils/_set_output.py:316\u001b[0m, in \u001b[0;36m_wrap_method_output.<locals>.wrapped\u001b[0;34m(self, X, *args, **kwargs)\u001b[0m\n\u001b[1;32m    314\u001b[0m \u001b[38;5;129m@wraps\u001b[39m(f)\n\u001b[1;32m    315\u001b[0m \u001b[38;5;28;01mdef\u001b[39;00m \u001b[38;5;21mwrapped\u001b[39m(\u001b[38;5;28mself\u001b[39m, X, \u001b[38;5;241m*\u001b[39margs, \u001b[38;5;241m*\u001b[39m\u001b[38;5;241m*\u001b[39mkwargs):\n\u001b[0;32m--> 316\u001b[0m     data_to_wrap \u001b[38;5;241m=\u001b[39m \u001b[43mf\u001b[49m\u001b[43m(\u001b[49m\u001b[38;5;28;43mself\u001b[39;49m\u001b[43m,\u001b[49m\u001b[43m \u001b[49m\u001b[43mX\u001b[49m\u001b[43m,\u001b[49m\u001b[43m \u001b[49m\u001b[38;5;241;43m*\u001b[39;49m\u001b[43margs\u001b[49m\u001b[43m,\u001b[49m\u001b[43m \u001b[49m\u001b[38;5;241;43m*\u001b[39;49m\u001b[38;5;241;43m*\u001b[39;49m\u001b[43mkwargs\u001b[49m\u001b[43m)\u001b[49m\n\u001b[1;32m    317\u001b[0m     \u001b[38;5;28;01mif\u001b[39;00m \u001b[38;5;28misinstance\u001b[39m(data_to_wrap, \u001b[38;5;28mtuple\u001b[39m):\n\u001b[1;32m    318\u001b[0m         \u001b[38;5;66;03m# only wrap the first output for cross decomposition\u001b[39;00m\n\u001b[1;32m    319\u001b[0m         return_tuple \u001b[38;5;241m=\u001b[39m (\n\u001b[1;32m    320\u001b[0m             _wrap_data_with_container(method, data_to_wrap[\u001b[38;5;241m0\u001b[39m], X, \u001b[38;5;28mself\u001b[39m),\n\u001b[1;32m    321\u001b[0m             \u001b[38;5;241m*\u001b[39mdata_to_wrap[\u001b[38;5;241m1\u001b[39m:],\n\u001b[1;32m    322\u001b[0m         )\n",
      "File \u001b[0;32m~/Downloads/BMW_intern_GenAI_coding_task/.bmw_env/lib/python3.11/site-packages/sklearn/base.py:1473\u001b[0m, in \u001b[0;36m_fit_context.<locals>.decorator.<locals>.wrapper\u001b[0;34m(estimator, *args, **kwargs)\u001b[0m\n\u001b[1;32m   1466\u001b[0m     estimator\u001b[38;5;241m.\u001b[39m_validate_params()\n\u001b[1;32m   1468\u001b[0m \u001b[38;5;28;01mwith\u001b[39;00m config_context(\n\u001b[1;32m   1469\u001b[0m     skip_parameter_validation\u001b[38;5;241m=\u001b[39m(\n\u001b[1;32m   1470\u001b[0m         prefer_skip_nested_validation \u001b[38;5;129;01mor\u001b[39;00m global_skip_validation\n\u001b[1;32m   1471\u001b[0m     )\n\u001b[1;32m   1472\u001b[0m ):\n\u001b[0;32m-> 1473\u001b[0m     \u001b[38;5;28;01mreturn\u001b[39;00m \u001b[43mfit_method\u001b[49m\u001b[43m(\u001b[49m\u001b[43mestimator\u001b[49m\u001b[43m,\u001b[49m\u001b[43m \u001b[49m\u001b[38;5;241;43m*\u001b[39;49m\u001b[43margs\u001b[49m\u001b[43m,\u001b[49m\u001b[43m \u001b[49m\u001b[38;5;241;43m*\u001b[39;49m\u001b[38;5;241;43m*\u001b[39;49m\u001b[43mkwargs\u001b[49m\u001b[43m)\u001b[49m\n",
      "File \u001b[0;32m~/Downloads/BMW_intern_GenAI_coding_task/.bmw_env/lib/python3.11/site-packages/sklearn/manifold/_t_sne.py:1175\u001b[0m, in \u001b[0;36mTSNE.fit_transform\u001b[0;34m(self, X, y)\u001b[0m\n\u001b[1;32m   1172\u001b[0m \u001b[38;5;28;01melse\u001b[39;00m:\n\u001b[1;32m   1173\u001b[0m     \u001b[38;5;28mself\u001b[39m\u001b[38;5;241m.\u001b[39m_max_iter \u001b[38;5;241m=\u001b[39m \u001b[38;5;28mself\u001b[39m\u001b[38;5;241m.\u001b[39mmax_iter\n\u001b[0;32m-> 1175\u001b[0m \u001b[38;5;28;43mself\u001b[39;49m\u001b[38;5;241;43m.\u001b[39;49m\u001b[43m_check_params_vs_input\u001b[49m\u001b[43m(\u001b[49m\u001b[43mX\u001b[49m\u001b[43m)\u001b[49m\n\u001b[1;32m   1176\u001b[0m embedding \u001b[38;5;241m=\u001b[39m \u001b[38;5;28mself\u001b[39m\u001b[38;5;241m.\u001b[39m_fit(X)\n\u001b[1;32m   1177\u001b[0m \u001b[38;5;28mself\u001b[39m\u001b[38;5;241m.\u001b[39membedding_ \u001b[38;5;241m=\u001b[39m embedding\n",
      "File \u001b[0;32m~/Downloads/BMW_intern_GenAI_coding_task/.bmw_env/lib/python3.11/site-packages/sklearn/manifold/_t_sne.py:864\u001b[0m, in \u001b[0;36mTSNE._check_params_vs_input\u001b[0;34m(self, X)\u001b[0m\n\u001b[1;32m    862\u001b[0m \u001b[38;5;28;01mdef\u001b[39;00m \u001b[38;5;21m_check_params_vs_input\u001b[39m(\u001b[38;5;28mself\u001b[39m, X):\n\u001b[1;32m    863\u001b[0m     \u001b[38;5;28;01mif\u001b[39;00m \u001b[38;5;28mself\u001b[39m\u001b[38;5;241m.\u001b[39mperplexity \u001b[38;5;241m>\u001b[39m\u001b[38;5;241m=\u001b[39m X\u001b[38;5;241m.\u001b[39mshape[\u001b[38;5;241m0\u001b[39m]:\n\u001b[0;32m--> 864\u001b[0m         \u001b[38;5;28;01mraise\u001b[39;00m \u001b[38;5;167;01mValueError\u001b[39;00m(\u001b[38;5;124m\"\u001b[39m\u001b[38;5;124mperplexity must be less than n_samples\u001b[39m\u001b[38;5;124m\"\u001b[39m)\n",
      "\u001b[0;31mValueError\u001b[0m: perplexity must be less than n_samples"
     ]
    }
   ],
   "source": [
    "# Elbow Method to determine optimal number of clusters\n",
    "inertia = []\n",
    "silhouette_scores = []\n",
    "K = range(5, 40)\n",
    "for k in K:\n",
    "    km = KMeans(n_clusters=k, random_state=42)\n",
    "    km.fit(embeddings)\n",
    "    inertia.append(km.inertia_)\n",
    "    silhouette_scores.append(silhouette_score(embeddings, km.labels_))\n",
    "\n",
    "# Plotting the Elbow Method results\n",
    "plt.figure(figsize=(10, 5))\n",
    "plt.subplot(1, 2, 1)\n",
    "plt.plot(K, inertia, 'bo-')\n",
    "plt.xlabel('Number of clusters')\n",
    "plt.ylabel('Inertia')\n",
    "plt.title('Elbow Method For Optimal k')\n",
    "\n",
    "# Plotting the Silhouette Scores\n",
    "plt.subplot(1, 2, 2)\n",
    "plt.plot(K, silhouette_scores, 'bo-')\n",
    "plt.xlabel('Number of clusters')\n",
    "plt.ylabel('Silhouette Score')\n",
    "plt.title('Silhouette Score For Optimal k')\n",
    "plt.tight_layout()\n",
    "plt.show()\n",
    "\n",
    "# Choose the optimal number of clusters based on the plots\n",
    "optimal_clusters = 2  # Assume this based on the elbow method and silhouette score\n",
    "\n",
    "# Clustering using KMeans with optimal number of clusters\n",
    "km = KMeans(n_clusters=optimal_clusters, random_state=42)\n",
    "clusters = km.fit_predict(embeddings)\n",
    "\n",
    "# Access cluster centers\n",
    "cluster_centers = km.cluster_centers_\n",
    "\n",
    "# Dimensionality Reduction using PCA\n",
    "pca = PCA(n_components=2)\n",
    "reduced_embeddings_pca = pca.fit_transform(embeddings)\n",
    "reduced_cluster_centers_pca = pca.transform(cluster_centers)\n",
    "\n",
    "# Dimensionality Reduction using t-SNE (with perplexity less than number of samples)\n",
    "tsne = TSNE(n_components=2, perplexity=2, random_state=42)\n",
    "reduced_embeddings_tsne = tsne.fit_transform(embeddings)\n",
    "reduced_cluster_centers_tsne = tsne.fit_transform(cluster_centers)\n",
    "\n",
    "# Create a DataFrame for plotting\n",
    "plot_df_pca = pd.DataFrame({\n",
    "    'x': reduced_embeddings_pca[:, 0],\n",
    "    'y': reduced_embeddings_pca[:, 1],\n",
    "    'Cluster': clusters,\n",
    "    'Document': documents\n",
    "})\n",
    "\n",
    "plot_df_tsne = pd.DataFrame({\n",
    "    'x': reduced_embeddings_tsne[:, 0],\n",
    "    'y': reduced_embeddings_tsne[:, 1],\n",
    "    'Cluster': clusters,\n",
    "    'Document': documents\n",
    "})\n",
    "\n",
    "# Function to plot clusters with centers\n",
    "def plot_clusters_with_centers(plot_df, centers, title):\n",
    "    plt.figure(figsize=(10, 7))\n",
    "    scatter = plt.scatter(plot_df['x'], plot_df['y'], c=plot_df['Cluster'], cmap='viridis', label='Documents')\n",
    "    plt.scatter(centers[:, 0], centers[:, 1], s=200, c='red', marker='X', label='Cluster Centers')\n",
    "    plt.title(title)\n",
    "    plt.xlabel('Component 1')\n",
    "    plt.ylabel('Component 2')\n",
    "    plt.colorbar(scatter, label='Cluster')\n",
    "    for i, doc in enumerate(plot_df['Document']):\n",
    "        plt.annotate(doc, (plot_df['x'][i], plot_df['y'][i]))\n",
    "    plt.legend()\n",
    "    plt.show()\n",
    "\n",
    "# Plot PCA clusters with centers\n",
    "plot_clusters_with_centers(plot_df_pca, reduced_cluster_centers_pca, \"PCA Clustering of Documents with Centers\")\n",
    "\n",
    "# Plot t-SNE clusters with centers\n",
    "plot_clusters_with_centers(plot_df_tsne, reduced_cluster_centers_tsne, \"t-SNE Clustering of Documents with Centers\")"
   ]
  },
  {
   "cell_type": "code",
   "execution_count": 26,
   "metadata": {},
   "outputs": [],
   "source": [
    "# Clustering using KMeans\n",
    "num_clusters = 17\n",
    "km = KMeans(n_clusters=num_clusters, random_state=42)\n",
    "clusters = km.fit_predict(embeddings)"
   ]
  },
  {
   "cell_type": "code",
   "execution_count": 27,
   "metadata": {},
   "outputs": [],
   "source": [
    "cluster_centers = km.cluster_centers_\n"
   ]
  },
  {
   "cell_type": "code",
   "execution_count": 29,
   "metadata": {},
   "outputs": [],
   "source": [
    "docs_df = pd.DataFrame({\n",
    "    'Document': documents,\n",
    "    'Cluster': clusters\n",
    "})"
   ]
  },
  {
   "cell_type": "code",
   "execution_count": 32,
   "metadata": {},
   "outputs": [],
   "source": [
    "with open(\"brace_yourselves.json\", 'w') as file:\n",
    "    json.dump(brace_yourselves_processed, file)"
   ]
  },
  {
   "cell_type": "code",
   "execution_count": null,
   "metadata": {},
   "outputs": [],
   "source": [
    "doc"
   ]
  },
  {
   "cell_type": "code",
   "execution_count": 22,
   "metadata": {},
   "outputs": [
    {
     "data": {
      "text/plain": [
       "['america <sep> y u no vote for ron paul?!',\n",
       " '1% germ <sep> y u no die?',\n",
       " 'hey creator of this template... <sep> y u no fill in the space between my arms blue',\n",
       " 'THE REAL SLIM SHADY <sep> Y U NO STAND UP?',\n",
       " 'bing <sep> y u no do barrel roll?!',\n",
       " 'Pedobear <sep> Y u no take Justin Bieber with you?',\n",
       " 'facebook <sep> y u no support gifs?',\n",
       " 'memegenerator <sep> y u always down',\n",
       " 'people making arrow-knee joke: <sep> y u no funny?',\n",
       " 'FRODO <sep> y u no just fly on eagles into mordor?',\n",
       " 'angelina jolie <sep> y u no take konys CHILDREN',\n",
       " 'george <sep> y u so curious',\n",
       " 'SUPPORT GUY <sep> Y U NO GIVE ME AMMO',\n",
       " 'BACON <sep> y u no stay same size when I cook you?',\n",
       " 'Gym teachers <sep> Y U No healthy!!!',\n",
       " 'people on memegenerator <sep> y u no have original ideas?',\n",
       " 'Brain <sep> Y u no think of something good to put here?',\n",
       " 'chihuahua <sep> y u no realize i can kick u',\n",
       " 'voice <sep> y u no sound good when i sing?',\n",
       " 'Pizza delivered at home <sep> Y U NO LOOK LIKE IN THE IMAGE FROM THE SITE ?']"
      ]
     },
     "execution_count": 22,
     "metadata": {},
     "output_type": "execute_result"
    }
   ],
   "source": [
    "list(df_angry['captions'])[100:120]"
   ]
  },
  {
   "cell_type": "code",
   "execution_count": null,
   "metadata": {},
   "outputs": [],
   "source": [
    "with open(\"brace_yourselves.json\", 'w') as file:\n",
    "    json.dump(brace_yourselves_processed, file)"
   ]
  },
  {
   "cell_type": "code",
   "execution_count": 26,
   "metadata": {},
   "outputs": [
    {
     "data": {
      "text/plain": [
       "{'a baby in a tuxed tuxed tuxed tuxed tuxed tuxed tuxed tu',\n",
       " 'a bird sitting on a pole with a caption',\n",
       " 'a black wolf with a black background and a white background',\n",
       " \"a camel with its mouth open and a capt that says,'i'm '\",\n",
       " \"a cartoon character with a capt that reads,'i'm'm'm'm\",\n",
       " 'a cartoon character with a red and blue background',\n",
       " 'a cartoon duck with a blue hat and a blue bow',\n",
       " 'a cartoon penguin with a blue hat and a white background',\n",
       " 'a cat sitting on a couch with a pillow',\n",
       " 'a cat sitting on top of a purple and orange background',\n",
       " 'a cat wearing a santa hat on top of a table',\n",
       " \"a cat with a capt that says, i'm a cat\",\n",
       " \"a cat with a capt that says, i'm'm'm'm'm\",\n",
       " \"a cat with its mouth open and a capt that says,'i'm '\",\n",
       " 'a dog with a white face and brown hair',\n",
       " \"a frog with a capt that says, i'm'm'm'm'm\",\n",
       " 'a girl in a pink shirt and jeans',\n",
       " 'a green and brown minecraft creeper',\n",
       " \"a lemure with a capt that says, i'm'm'm'm\",\n",
       " 'a man and woman standing in a room',\n",
       " 'a man holding a gun in his hand',\n",
       " 'a man in a brown jacket and hat sitting on a couch',\n",
       " 'a man in a fur coat holding a microphone',\n",
       " 'a man in a hat and vest standing in a doorway',\n",
       " 'a man in a red shirt',\n",
       " 'a man in a red shirt pointing at something',\n",
       " 'a man in a suit holding a gun',\n",
       " \"a man in glasses and a green background with the words,'i'm '\",\n",
       " 'a man wearing a mask with a face mask on',\n",
       " 'a man with a beard and a beard in a scene from the movie star wars',\n",
       " 'a man with a beard and a beard on his head, laughing',\n",
       " 'a man with a beard and a red and yellow background',\n",
       " 'a man with a beard and a red background',\n",
       " 'a man with a mustache and a mustache',\n",
       " 'a man with a red and white background and a red and white background',\n",
       " 'a man with a red cross on his face',\n",
       " 'a man with glasses and a green background',\n",
       " \"a parrot with a capt that says, i'm'm'm'm'm\",\n",
       " 'a person holding a cat in their hand',\n",
       " 'a person holding a cat in their lap',\n",
       " 'a picture of an owl with a cigarette in its mouth',\n",
       " 'a rage rage rage rage rage rage rage rage rage rage rage rage rage rage rage rage rage rage',\n",
       " 'a red and white poster with a face drawn in the middle',\n",
       " 'a red and white striped background with a cartoon face and a red and white striped background',\n",
       " \"a seal seal with a capt that says, i'm'm'm'm '\",\n",
       " 'a simple, stylized drawing of a face with a very exaggerated expression of anger or frustration',\n",
       " 'a wolf with a smile on his face',\n",
       " 'a woman in a pink dress and a man in a suit',\n",
       " 'a woman standing on a podium with a medal',\n",
       " 'batman mememe mememememememememememememememe',\n",
       " 'batman slappings robin robin robin robin robin robin robin robin robin robin robin robin robin robin robin robin',\n",
       " 'gro gro gro gro gro gro gro gro gro gr',\n",
       " 'sponge sponge sponge sponge sponge sponge sponge sponge sponge sponge sponge sponge sponge sponge sponge sponge sponge sponge sponge',\n",
       " 'the dark knight rises',\n",
       " 'two men standing in a kitchen',\n",
       " 'yo yo yo yo yo yo yo yo yo yo yo yo yo yo yo yo yo yo yo'}"
      ]
     },
     "execution_count": 26,
     "metadata": {},
     "output_type": "execute_result"
    }
   ],
   "source": [
    "set(df_angry['descriptions'])"
   ]
  },
  {
   "cell_type": "code",
   "execution_count": 63,
   "metadata": {},
   "outputs": [
    {
     "data": {
      "text/plain": [
       "dict_keys(['Y U No', 'Bad Luck Brian', 'Willy Wonka', 'The Most Interesting Man In The World', 'Futurama Fry', 'Success Kid', 'One Does Not Simply', 'First World Problems', 'Philosoraptor', 'Grumpy Cat ', 'Winter is Coming', 'Forever Alone', 'Good Guy Greg', 'Scumbag Steve', 'What If I Told You', 'Kermit The Frog Drinking Tea', 'Conspiracy Keanu', 'Yo Dawg', 'All the things', 'Insanity Wolf', 'Joseph Ducreux', 'Trollface', 'Pedobear', 'Skeptical 3rd World Kid', 'Annoying Facebook Girl', 'Disaster Girl', 'Socially Awkward Penguin', 'Prepare yourself', 'Slowpoke', 'Dr Evil meme', 'Advice Yoda Gives', 'joker mind loss', 'Stoner Stanley', 'Foul Bachelor Frog', 'pleaseguy ', 'batman slap robin', 'High Expectations Asian Father', \"Koala can't believe it\", 'MR bean', 'Chuck Norris ', 'Overly Attached Girlfriend', 'Butthurt Dweller', 'Desk Flip Rage Guy', 'Whyyy???', 'Business Cat', 'drunk baby 1', 'Correction Guy', \"So You're Telling me\", \"south park aand it's gone\", 'Skeptical African Child', 'What if I told you / Matrix Morpheus', 'Okay Guy', 'Sudden Realization Ralph', 'kill yourself guy', 'crying peter parker', 'san juan cholo', 'african children dancing', 'Imagination', 'Chemistry Cat', 'ancient alien guy', 'SouthPark Bad Time meme', 'Chill Out Lemur', 'Skeptical african kid ', 'Captain Picard', 'fat chinese kid', 'Angry School Boy', 'Courage Wolf', 'That would be great', 'so doge', 'Internet Husband', 'skeptical black kid', 'Successful Black Man', 'Matrix Morpheus', 'Batman Slappp', 'Provincial Man', 'Sad Trooper', 'Advice Dog', 'Challenge Accepted 2', 'Archer', 'i should buy a boat cat', 'Not sure if troll', 'Guess who ?', 'Stoner Dog', 'Keep calm and', 'Sunny Student', 'Bear Grylls', 'Paranoid Parrot', 'Socially Awesome Awkward Penguin', 'iHate', 'Awkward Seal', 'Rage FU', 'Really Stoned Guy', 'Anxiety Cat', 'Maury Lie Detector', 'crying girl sad', 'Anti Joke Chicken', 'Unpopular Opinion Puffin', 'Bear Grylls Loneliness', 'Musically Oblivious 8th Grader', 'Kermit the frog', 'sparta', 'african kids dancing', '1889 [10] guy', 'really high guy', 'evil toddler kid2', \"And it's gone\", 'spongebob rainbow', 'Y U SO', 'Unlucky Brian Strikes Again', 'American Pride Eagle', 'Advice Hitler', 'Rich Men Laughing', 'Fat Girl', 'Yeah If You Could Just', 'Tough Spongebob', 'Ash Pedreiro', 'First Day on the internet kid', 'bender blackjack and hookers', 'Oprah You get a', 'old lady', 'Vengeance Dad', 'Pawn Stars', 'Sassy Black Woman', 'Ridiculously Photogenic Metalhead', 'Grumpy cat good', 'Angry Arnold', 'Hipster Ariel', \"Don't you, Squidward?\", 'Gangnam Style', 'Retail Robin', 'Why the fuck', 'newspaper cat realization', 'mean girls', 'gordo granudo', 'Obama', 'so i guess you could say things are getting pretty serious', 'Art Student Owl', 'Overly Obsessed Girlfriend', 'Hipster Kitty', 'Minecraft Creeper', 'So Then I Said...', 'buddy jesus', 'Craig would be so happy', \"I don't know who you are...\", 'Skeptical third-world kid', 'Donald Trump', 'Jealous Girl', \"you don't say meme\", 'Lame Pun Coon', \"Bill O'Reilly Proves God\", 'skyrim stan', 'Bane', 'PTSD Karate Kyle', 'Trologirl', 'yaowonkaxd', 'Look at All the Fucks I Give', 'overly manlyman', 'look-marge', 'aysi', 'Picard facepalm ', 'Pennywise the Clown', 'Racist Dog', 'Cool Dog', 'In Soviet Russia', 'FPS N00b', 'Crying face', 'Pulp Fiction', 'your country needs you', 'Thats a paddlin', 'Bane Meme', 'journalist', 'You shall not pass', \"I have no idea what I'm doing - Dog with Tie\", 'obama laughing ', 'Mafia Baby', 'Blackjack and hookers bender', 'GUESS WHO YOU', 'Racist Dawg', 'evil raccoon', 'Idiot Nerd Girl', 'Annoying Gamer Kid', \"You keep using that word, I don't think it means what you think it means\", 'Office Space Boss', 'Uncle Dolan', 'Roleplaying Rabbit', 'Computer kid', 'Technologically Impaired Duck', 'Pepperidge Farm Remembers FG', 'RomneyMakes.com', 'Successful Mexican', 'FU*CK THAT GUY', \"I don't always guy meme\", 'Ryan Gosling Hey Girl 3', 'Professor Oak', 'Unimpressed Queen', 'calamardo me vale', 'you mean to tell me black kid', 'I will Find You Meme', 'Stupid Monkey', 'McKayla Maroney Not Impressed', 'Buddy the Elf', 'Bad Factman', 'I double dare you', 'Crazy Camel lol', 'So I got that going on for me, which is nice', 'obama beer', 'Confused Bill Cosby ', 'God', 'Dr. Evil and His Minions', 'KD you the real mvp f', 'Minecraft Guy', 'Angry Cat Meme', 'high/drunk guy', 'Liberal Douche Garofalo', 'Everywhere', 'mens wearhouse', 'x all the y', 'Angry Linus', \"You're gonna have a bad time\", 'kill yourself guy blank', 'Socially Awesome Penguin', 'Bill Murray Caddyshack', 'Nick Cage', 'Tobey_Maguire', 'Fallout 3', 'Douchebag Roommate', 'Stalin Says', 'Chronic Illness Cat', \"Why Can't I Hold All These?!?!?\", 'Socially Awkward to Awesome Penguin', 'The Godfather', 'Correction Man ', 'Beavis and butthead', 'Foul Bachelorette Frog', 'Steve Jobs Says', 'overly attached girl', 'Carl Spackler', 'Black Kid', 'Batman Bitchslap', 'nerdy kid lolz', 'dr. evil quotation marks', 'Dogeeeee', 'Chuck Norris Advice', 'teacher', 'Pawn Stars Rick', 'Scumbag God', 'katt williams shocked', 'Yes, this is dog!', 'Dancing black kid', 'Anchorman Birthday', 'Buzz lightyear meme fixd', 'Justin Bieber', 'Spock', 'Never Have I Been So Wrong', 'Age Of Empires', 'Not today arya', 'you have no power here', 'I will find you and kill you', 'burning house girl', 'Dolan duck', 'I can haz', 'NFL Ref Meeting', 'Bad Advice Cat', 'Angry Black Woman', 'evil plan kid', 'Asinine America', 'Patrick Stewart WTF', 'Diagnostic House', 'Funes 20 años', 'My Precious Gollum', 'storytime jesus', 'You were the chosen one ', 'Science Cat', 'Grumpy Cat Santa Hat', 'Shirtless Ryan Gosling', 'Pushing Patrick', 'Fat Guy', 'Blank Black', 'Laughing Girls ', 'Grumpy Cat 2', 'Thespian Peacock', 'dolan meme', 'went full retard', 'Ye Old Englishman', 'if you know what', 'Homer retard', 'Generic Indian Guy', 'sad bear', \"Timmy turner's dad IF I HAD ONE!\", 'Pokemon Logic ', 'dogeee', 'say what one more time', 'Depression Dog', 'That escalated quickly-Ron Burgundy', 'flniuydl', 'Serious Kip', 'Ryan Gosling Hey ', 'men in black', 'Niño Malvado - Evil Toddler', 'Bane Permission to Die'])"
      ]
     },
     "execution_count": 63,
     "metadata": {},
     "output_type": "execute_result"
    }
   ],
   "source": [
    "meme_properties.keys()"
   ]
  },
  {
   "cell_type": "code",
   "execution_count": 61,
   "metadata": {},
   "outputs": [
    {
     "ename": "KeyError",
     "evalue": "'crying-face'",
     "output_type": "error",
     "traceback": [
      "\u001b[1;31m---------------------------------------------------------------------------\u001b[0m",
      "\u001b[1;31mKeyError\u001b[0m                                  Traceback (most recent call last)",
      "Cell \u001b[1;32mIn[61], line 1\u001b[0m\n\u001b[1;32m----> 1\u001b[0m \u001b[43mmeme_properties\u001b[49m\u001b[43m[\u001b[49m\u001b[38;5;124;43m'\u001b[39;49m\u001b[38;5;124;43mcrying-face\u001b[39;49m\u001b[38;5;124;43m'\u001b[39;49m\u001b[43m]\u001b[49m\n",
      "\u001b[1;31mKeyError\u001b[0m: 'crying-face'"
     ]
    }
   ],
   "source": [
    "meme_properties['crying-face']"
   ]
  },
  {
   "cell_type": "code",
   "execution_count": null,
   "metadata": {},
   "outputs": [],
   "source": [
    "Really Stoned Guy"
   ]
  },
  {
   "cell_type": "code",
   "execution_count": null,
   "metadata": {},
   "outputs": [],
   "source": []
  }
 ],
 "metadata": {
  "kernelspec": {
   "display_name": ".bmw_env",
   "language": "python",
   "name": "python3"
  },
  "language_info": {
   "codemirror_mode": {
    "name": "ipython",
    "version": 3
   },
   "file_extension": ".py",
   "mimetype": "text/x-python",
   "name": "python",
   "nbconvert_exporter": "python",
   "pygments_lexer": "ipython3",
   "version": "3.11.9"
  }
 },
 "nbformat": 4,
 "nbformat_minor": 2
}
