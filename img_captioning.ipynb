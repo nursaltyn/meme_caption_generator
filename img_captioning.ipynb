{
 "cells": [
  {
   "cell_type": "code",
   "execution_count": 6,
   "metadata": {},
   "outputs": [],
   "source": [
    "from PIL import Image\n",
    "import requests\n",
    "from transformers import AutoProcessor, LlavaForConditionalGeneration\n",
    "import torch"
   ]
  },
  {
   "cell_type": "markdown",
   "metadata": {},
   "source": [
    "## Generate examples with ChatGPT using default prompt beginnings."
   ]
  },
  {
   "cell_type": "markdown",
   "metadata": {},
   "source": [
    "Generate meme captions that start with: \"That feeling when\""
   ]
  },
  {
   "cell_type": "code",
   "execution_count": 1,
   "metadata": {},
   "outputs": [],
   "source": [
    "captions = [\n",
    "    \"That feeling when you realize the weekend is over and it's Monday again.\",\n",
    "    \"That feeling when you finish a TV series and don’t know what to do with your life.\",\n",
    "    \"That feeling when you accidentally hit 'reply all' on an email.\",\n",
    "    \"That feeling when the Wi-Fi suddenly disconnects in the middle of streaming.\",\n",
    "    \"That feeling when you find money in your old coat pocket.\",\n",
    "    \"That feeling when someone says, 'We need to talk,' but doesn't say what about.\",\n",
    "    \"That feeling when you walk into a room and forget why you’re there.\",\n",
    "    \"That feeling when you wake up and realize it's your day off.\",\n",
    "    \"That feeling when your food finally arrives after waiting forever.\",\n",
    "    \"That feeling when you understand the meme without reading the text.\",\n",
    "    \"That feeling when your favorite song comes on just as you arrive home.\",\n",
    "    \"That feeling when you step on something wet while wearing socks.\",\n",
    "    \"That feeling when you're about to sneeze but it just won't happen.\",\n",
    "    \"That feeling when you accidentally like a post from 3 years ago while stalking someone's profile.\",\n",
    "    \"That feeling when you wake up and realize you still have time to sleep.\",\n",
    "    \"That feeling when your phone falls but the screen doesn't crack.\",\n",
    "    \"That feeling when you walk by a mirror and realize your outfit looks better than expected.\",\n",
    "    \"That feeling when you cancel plans and immediately feel the relief.\",\n",
    "    \"That feeling when you're watching a movie and realize you've seen it before.\",\n",
    "    \"That feeling when you spell a word so wrong even autocorrect is confused.\",\n",
    "    \"That feeling when the waiter brings your food and it looks way better than expected.\",\n",
    "    \"That feeling when you're telling a joke and everyone actually laughs.\",\n",
    "    \"That feeling when you hit all green lights on your way home.\",\n",
    "    \"That feeling when you take your shoes off after a long day.\",\n",
    "    \"That feeling when you realize your package is out for delivery.\",\n",
    "    \"That feeling when you find out it's someone else's turn to clean.\",\n",
    "    \"That feeling when the vending machine gives you two snacks instead of one.\",\n",
    "    \"That feeling when you wake up thinking it's Monday but it's actually Saturday.\",\n",
    "    \"That feeling when you finish a tough project and finally relax.\",\n",
    "    \"That feeling when you turn in your assignment right before the deadline.\",\n",
    "    \"That feeling when you perfectly parallel park on the first try.\",\n",
    "    \"That feeling when your favorite character doesn't die in the season finale.\",\n",
    "    \"That feeling when you finally remember the word that's been on the tip of your tongue.\",\n",
    "    \"That feeling when you realize the meeting got canceled last minute.\",\n",
    "    \"That feeling when you find a parking spot right in front of the entrance.\",\n",
    "    \"That feeling when you take the first bite of your favorite meal.\",\n",
    "    \"That feeling when you wake up and realize you don’t have to set an alarm.\",\n",
    "    \"That feeling when you try on clothes and they fit perfectly.\",\n",
    "    \"That feeling when you correctly guess the next plot twist in a movie.\",\n",
    "    \"That feeling when the teacher forgets to assign homework.\", \n",
    "    \"That feeling when your phone is at 1% and you find your charger just in time.\",\n",
    "    \"That feeling when you hear your favorite song on the radio.\",\n",
    "    \"That feeling when you walk into a room and it smells amazing.\",\n",
    "    \"That feeling when you find the missing sock from last week’s laundry.\",\n",
    "    \"That feeling when you solve a math problem on the first try.\",\n",
    "    \"That feeling when you close all your browser tabs after finishing a project.\",\n",
    "    \"That feeling when you find a meme that perfectly describes your mood.\",\n",
    "    \"That feeling when you pull your laundry out of the dryer and it’s all warm and fluffy.\",\n",
    "    \"That feeling when you remember it’s a holiday tomorrow and you don’t have to work.\",\n",
    "    \"That feeling when you get to the front of the line after waiting forever.\"\n",
    "]"
   ]
  },
  {
   "cell_type": "code",
   "execution_count": 10,
   "metadata": {},
   "outputs": [
    {
     "data": {
      "text/plain": [
       "50"
      ]
     },
     "execution_count": 10,
     "metadata": {},
     "output_type": "execute_result"
    }
   ],
   "source": [
    "len(set(captions))"
   ]
  },
  {
   "cell_type": "markdown",
   "metadata": {},
   "source": [
    "### Generate meme captions that start with: \"Me when\""
   ]
  },
  {
   "cell_type": "code",
   "execution_count": 3,
   "metadata": {},
   "outputs": [],
   "source": [
    "me_when_captions = [\n",
    "    \"Me when I realize I forgot to hit 'save' on my document.\",\n",
    "    \"Me when I finally find the TV remote after searching for hours.\",\n",
    "    \"Me when I see a notification about a sale on my favorite store.\",\n",
    "    \"Me when I manage to stay awake for an entire movie marathon.\",\n",
    "    \"Me when I hear someone else has the same taste in music as me.\",\n",
    "    \"Me when I accidentally make eye contact with someone while walking.\",\n",
    "    \"Me when I remember I have leftover pizza in the fridge.\",\n",
    "    \"Me when I finish a workout and my muscles are sore but satisfied.\",\n",
    "    \"Me when I realize I can sleep in tomorrow.\",\n",
    "    \"Me when I find a long-lost item I thought I’d never see again.\",\n",
    "    \"Me when I finally understand a joke I heard days ago.\",\n",
    "    \"Me when I get an unexpected day off from work.\",\n",
    "    \"Me when I spot a celebrity in public and try to play it cool.\",\n",
    "    \"Me when I find a great deal on something I was already planning to buy.\",\n",
    "    \"Me when I hear my favorite song playing in a public place.\",\n",
    "    \"Me when I finish a challenging puzzle or game level.\",\n",
    "    \"Me when I find an old photo and remember a funny moment.\",\n",
    "    \"Me when my favorite show gets renewed for another season.\",\n",
    "    \"Me when I successfully cook a new recipe without any mistakes.\",\n",
    "    \"Me when I get a compliment from someone I admire.\",\n",
    "    \"Me when I spot a spider and manage to calmly remove it.\",\n",
    "    \"Me when I get to the front of the line and realize I forgot my wallet.\",\n",
    "    \"Me when I finally finish a book I’ve been reading for months.\",\n",
    "    \"Me when I get a surprise visit from a friend.\",\n",
    "    \"Me when I achieve a personal milestone I’ve been working towards.\",\n",
    "    \"Me when I get to the last slice of pizza and no one else is around.\",\n",
    "    \"Me when I catch a mistake before it goes to print.\",\n",
    "    \"Me when I find an extra cookie in the cookie jar.\",\n",
    "    \"Me when I manage to keep my plants alive for a whole year.\",\n",
    "    \"Me when I get a perfect score on a test or quiz.\",\n",
    "    \"Me when I get to the end of a long day and finally relax.\",\n",
    "    \"Me when I get an email with a subject line that makes me smile.\",\n",
    "    \"Me when I manage to avoid a traffic jam by taking an alternate route.\",\n",
    "    \"Me when I finally get the last piece of a difficult puzzle.\",\n",
    "    \"Me when I hear someone say, 'We have snacks!' at a meeting.\",\n",
    "    \"Me when I see my favorite actor in a new movie trailer.\",\n",
    "    \"Me when I successfully fix something that’s been broken for a while.\",\n",
    "    \"Me when I discover a hidden gem in my music playlist.\",\n",
    "    \"Me when I get a spontaneous hug from someone I care about.\",\n",
    "    \"Me when I cross off the last task on my to-do list.\",\n",
    "    \"Me when I see a puppy and can't stop smiling.\",\n",
    "    \"Me when I remember I’ve already done my chores for the week.\",\n",
    "    \"Me when I finally understand a complicated concept.\",\n",
    "    \"Me when I see my favorite snack on sale at the store.\",\n",
    "    \"Me when I get an unexpected compliment from a stranger.\",\n",
    "    \"Me when I realize the traffic light is green as I approach.\",\n",
    "    \"Me when I find the perfect gift for someone special.\",\n",
    "    \"Me when I discover a new favorite book or show.\",\n",
    "    \"Me when I get a perfect selfie on the first try.\",\n",
    "    \"Me when I manage to stay under budget on my shopping trip.\"\n",
    "    \n",
    "]"
   ]
  },
  {
   "cell_type": "code",
   "execution_count": 9,
   "metadata": {},
   "outputs": [
    {
     "data": {
      "text/plain": [
       "50"
      ]
     },
     "execution_count": 9,
     "metadata": {},
     "output_type": "execute_result"
    }
   ],
   "source": [
    "len(set(me_when_captions))"
   ]
  },
  {
   "cell_type": "markdown",
   "metadata": {},
   "source": [
    "### Generate meme captions that start with: \"POV\""
   ]
  },
  {
   "cell_type": "code",
   "execution_count": 5,
   "metadata": {},
   "outputs": [],
   "source": [
    "pov_captions = [\n",
    "    \"POV: You finally finish a series you've been binge-watching.\",\n",
    "    \"POV: You accidentally send a text to the wrong person.\",\n",
    "    \"POV: You realize the meeting you thought was in person is actually online.\",\n",
    "    \"POV: You find out your favorite restaurant has a new menu item.\",\n",
    "    \"POV: You hear your favorite song playing at a random store.\",\n",
    "    \"POV: You just found out your old friend is in town for the weekend.\",\n",
    "    \"POV: You walk into a room and forget why you’re there.\",\n",
    "    \"POV: You see a meme that perfectly describes your current mood.\",\n",
    "    \"POV: You finally fix something you’ve been trying to repair for ages.\",\n",
    "    \"POV: You catch the perfect wave during a beach day.\",\n",
    "    \"POV: You hear your alarm go off and realize it's Saturday.\",\n",
    "    \"POV: You find a $20 bill in your old jacket pocket.\",\n",
    "    \"POV: You finally beat the final boss in a game you’ve been stuck on.\",\n",
    "    \"POV: You realize you’ve been talking with spinach in your teeth all day.\",\n",
    "    \"POV: You see someone you know at a random place and try to act cool.\",\n",
    "    \"POV: You successfully pull off a surprise for someone you care about.\",\n",
    "    \"POV: You discover a new favorite food at a local restaurant.\",\n",
    "    \"POV: You check your phone and see that there are no new notifications.\",\n",
    "    \"POV: You find the perfect spot to watch the sunset.\",\n",
    "    \"POV: You hear someone else quote your favorite movie line perfectly.\",\n",
    "    \"POV: You find a $20 bill in your old jacket pocket.\",\n",
    "    \"POV: You finally beat the final boss in a game you’ve been stuck on.\",\n",
    "    \"POV: You realize you’ve been talking with spinach in your teeth all day.\",\n",
    "    \"POV: You see someone you know at a random place and try to act cool.\",\n",
    "    \"POV: You successfully pull off a surprise for someone you care about.\",\n",
    "    \"POV: You discover a new favorite food at a local restaurant.\",\n",
    "    \"POV: You check your phone and see that there are no new notifications.\",\n",
    "    \"POV: You find the perfect spot to watch the sunset.\",    \n",
    "    \"POV: You get home and find that no one else has eaten the leftovers.\",\n",
    "    \"POV: You hear the sound of rain from inside your cozy home.\",\n",
    "    \"POV: You manage to catch all green lights on your commute.\",\n",
    "    \"POV: You finally get to the front of the line and it’s your turn.\",\n",
    "    \"POV: You receive a message from a friend you haven’t heard from in ages.\",\n",
    "    \"POV: You discover a new hobby that you’re really passionate about.\",\n",
    "    \"POV: You find a perfect parking spot right in front of your destination.\",\n",
    "    \"POV: You get to sleep in on a day you thought you had to wake up early.\",\n",
    "    \"POV: You successfully get through a long day and find time to relax.\",\n",
    "    \"POV: You see a discount on something you’ve wanted to buy for a long time.\",\n",
    "    \"POV: You finally understand a joke that’s been going around.\",\n",
    "    \"POV: You find out that the movie you’ve been waiting for is available to stream.\",\n",
    "    \"POV: You make it to the front of the line just before the store closes.\",\n",
    "    \"POV: You get a call from a friend who’s in town unexpectedly.\",\n",
    "    \"POV: You successfully avoid a major traffic jam on your way home.\",\n",
    "    \"POV: You discover a hidden gem in your local bookstore or library.\",\n",
    "    \"POV: You get an unexpected bonus at work or school.\",\n",
    "    \"POV: You see a familiar face in an unexpected place and have a great conversation.\",\n",
    "    \"POV: You finally finish a big project and it turns out better than you imagined.\",\n",
    "    \"POV: You receive a heartfelt thank you from someone you helped.\",\n",
    "    \"POV: You find the perfect gift just in time for a special occasion.\",\n",
    "    \"POV: You wake up and realize you have a day off with no plans.\",\n",
    "    \"POV: You discover a new favorite spot in your city or town.\",\n",
    "    \"POV: You finally get a reply to an important message you’ve been waiting for.\",\n",
    "    \"POV: You see a beautiful sunrise or sunset and have time to enjoy it.\",\n",
    "    \"POV: You manage to catch a rare glimpse of a shooting star.\",\n",
    "    \"POV: You get to the front of the line and find out there’s a surprise sale.\",\n",
    "    \"POV: You run into an old friend and catch up on life.\",\n",
    "    \"POV: You get a perfect match on a dating app and start a great conversation.\",\n",
    "    \"POV: You nail a presentation or performance you’ve been preparing for.\",\n",
    "]"
   ]
  },
  {
   "cell_type": "code",
   "execution_count": 8,
   "metadata": {},
   "outputs": [],
   "source": [
    "pov_captions = list(set(pov_captions))"
   ]
  },
  {
   "cell_type": "code",
   "execution_count": 6,
   "metadata": {},
   "outputs": [
    {
     "data": {
      "text/plain": [
       "58"
      ]
     },
     "execution_count": 6,
     "metadata": {},
     "output_type": "execute_result"
    }
   ],
   "source": [
    "len(pov_captions)"
   ]
  },
  {
   "cell_type": "markdown",
   "metadata": {},
   "source": [
    "### Generate meme captions that start with: \"Nobody:\""
   ]
  },
  {
   "cell_type": "code",
   "execution_count": 11,
   "metadata": {},
   "outputs": [],
   "source": [
    "nobody_captions = [\n",
    "    \"Nobody: \\nThe autocorrect feature on my phone:\",\n",
    "    \"Nobody: \\nMe trying to sound smart in a conversation:\",\n",
    "    \"Nobody: \\nMy cat at 3 AM:\",\n",
    "    \"Nobody: \\nThe Wi-Fi connection during a crucial moment:\",\n",
    "    \"Nobody: \\nThat one friend who always texts 'hey' and never follows up:\",\n",
    "    \"Nobody: \\nMy brain at 2 AM:\",\n",
    "    \"Nobody: \\nThe grocery store checkout line:\",\n",
    "    \"Nobody: \\nMy dog when I say 'walk':\",\n",
    "    \"Nobody: \\nThe TV remote when you really need it:\",\n",
    "    \"Nobody: \\nMy inner monologue during a Zoom meeting:\",\n",
    "    \"Nobody: \\nMy phone battery at 1%:\",\n",
    "    \"Nobody: \\nThe person who’s always late but has the best excuses:\",\n",
    "    \"Nobody: \\nMy plant when I forget to water it:\",\n",
    "    \"Nobody: \\nThe weather app when you don’t need it:\",\n",
    "    \"Nobody: \\nMy brain when the teacher asks a question:\",\n",
    "    \"Nobody: \\nThe car’s check engine light:\",\n",
    "    \"Nobody: \\nMy attempts at adulting:\",\n",
    "    \"Nobody: \\nThe laundry pile after one week:\",\n",
    "    \"Nobody: \\nThe vending machine that eats your money:\",\n",
    "    \"Nobody: \\nMy reaction to seeing a spider:\",\n",
    "    \"Nobody: \\nMy playlist when I'm feeling emotional:\",\n",
    "    \"Nobody: \\nThe food delivery driver when it’s raining:\",\n",
    "    \"Nobody: \\nMy attempts to stay awake during a boring meeting:\",\n",
    "    \"Nobody: \\nThe cat when you close the door:\",\n",
    "    \"Nobody: \\nThe internet when you need it the most:\",\n",
    "    \"Nobody: \\nMe pretending to be productive:\",\n",
    "    \"Nobody: \\nThe remote control that’s always lost:\",\n",
    "    \"Nobody: \\nMy fridge at midnight:\",\n",
    "    \"Nobody: \\nThe coffee maker on Monday morning:\",\n",
    "    \"Nobody: \\nMy reaction to a surprise plot twist:\",\n",
    "    \"Nobody: \\nThe Wi-Fi signal when you're about to stream something:\",\n",
    "    \"Nobody: \\nMy attempts to cook a new recipe:\",\n",
    "    \"Nobody: \\nThe caption on a meme that doesn’t match the image:\",\n",
    "    \"Nobody: \\nMy reflection when I wake up:\",\n",
    "    \"Nobody: \\nThe GPS when you’re already lost:\",\n",
    "    \"Nobody: \\nMy friends when I start a new diet:\",\n",
    "    \"Nobody: \\nThe search bar when you know exactly what you want:\",\n",
    "    \"Nobody: \\nMy dog's reaction to bath time:\",\n",
    "    \"Nobody: \\nThe volume of the TV when the neighbors are loud:\",\n",
    "    \"Nobody: \\nMy brain during a test:\",\n",
    "    \"Nobody: \\nThe 'five more minutes' button on the alarm clock:\",\n",
    "    \"Nobody: \\nMy reaction when I hear someone chewing loudly:\",\n",
    "    \"Nobody: \\nThe store when you're in a hurry:\",\n",
    "    \"Nobody: \\nMy phone when I need to find something quickly:\",\n",
    "    \"Nobody: \\nThe autocorrect fail that makes you look silly:\",\n",
    "    \"Nobody: \\nMy cat’s attitude towards being petted:\",\n",
    "    \"Nobody: \\nThe pile of unread emails in my inbox:\",\n",
    "    \"Nobody: \\nThe food I crave but don’t have the ingredients for:\",\n",
    "    \"Nobody: \\nMy face when I realize I left something at home:\",\n",
    "    \"Nobody: \\nThe movie ending I didn’t see coming:\",\n",
    "    \"Nobody: \\nThe plant you forgot to water:\",\n",
    "    \"Nobody: \\nMy excitement level when the weekend is near:\",\n",
    "    \"Nobody: \\nThe pet that hides during a thunderstorm:\",\n",
    "    \"Nobody: \\nMy reaction when someone cuts in line:\",\n",
    "    \"Nobody: \\nThe power button on a device that won't turn on:\",\n",
    "    \"Nobody: \\nMy room after a sudden cleaning spree:\",\n",
    "    \"Nobody: \\nThe person who always answers the door in pajamas:\",\n",
    "    \"Nobody: \\nThe exact moment you lose a bet:\",\n",
    "    \"Nobody: \\nMy energy level before my morning coffee:\",\n",
    "    \"Nobody: \\nThe snack you’re craving but don’t have in the pantry:\"\n",
    "]"
   ]
  },
  {
   "cell_type": "markdown",
   "metadata": {},
   "source": [
    "That feeling when you realize the weekend is over and it's Monday again.\n",
    "That feeling when you finish a TV series and don’t know what to do with your life.\n",
    "That feeling when you accidentally hit \"reply all\" on an email.\n",
    "That feeling when the Wi-Fi suddenly disconnects in the middle of streaming.\n",
    "That feeling when you find money in your old coat pocket.\n",
    "That feeling when someone says, \"We need to talk,\" but doesn't say what about.\n",
    "That feeling when you walk into a room and forget why you’re there.\n",
    "That feeling when you wake up and realize it's your day off.\n",
    "That feeling when your food finally arrives after waiting forever.\n",
    "That feeling when you understand the meme without reading the text.\n"
   ]
  },
  {
   "cell_type": "code",
   "execution_count": null,
   "metadata": {},
   "outputs": [],
   "source": []
  },
  {
   "cell_type": "code",
   "execution_count": 2,
   "metadata": {},
   "outputs": [],
   "source": [
    "processor = AutoProcessor.from_pretrained(\"llava-hf/llava-1.5-7b-hf\")"
   ]
  },
  {
   "cell_type": "code",
   "execution_count": 3,
   "metadata": {},
   "outputs": [
    {
     "name": "stderr",
     "output_type": "stream",
     "text": [
      "Downloading shards: 100%|██████████| 3/3 [37:02<00:00, 740.73s/it]\n",
      "Loading checkpoint shards: 100%|██████████| 3/3 [03:12<00:00, 64.20s/it]\n"
     ]
    }
   ],
   "source": [
    "model = LlavaForConditionalGeneration.from_pretrained(\"llava-hf/llava-1.5-7b-hf\")\n",
    "# took 40 mins to load\n"
   ]
  },
  {
   "cell_type": "code",
   "execution_count": 8,
   "metadata": {},
   "outputs": [
    {
     "name": "stdout",
     "output_type": "stream",
     "text": [
      "mps\n"
     ]
    },
    {
     "ename": "RuntimeError",
     "evalue": "MPS backend out of memory (MPS allocated: 18.12 GB, other allocations: 1.70 MB, max allowed: 18.13 GB). Tried to allocate 64.00 MB on private pool. Use PYTORCH_MPS_HIGH_WATERMARK_RATIO=0.0 to disable upper limit for memory allocations (may cause system failure).",
     "output_type": "error",
     "traceback": [
      "\u001b[0;31m---------------------------------------------------------------------------\u001b[0m",
      "\u001b[0;31mRuntimeError\u001b[0m                              Traceback (most recent call last)",
      "Cell \u001b[0;32mIn[8], line 3\u001b[0m\n\u001b[1;32m      1\u001b[0m device \u001b[38;5;241m=\u001b[39m torch\u001b[38;5;241m.\u001b[39mdevice(\u001b[38;5;124m\"\u001b[39m\u001b[38;5;124mmps\u001b[39m\u001b[38;5;124m\"\u001b[39m \u001b[38;5;28;01mif\u001b[39;00m torch\u001b[38;5;241m.\u001b[39mbackends\u001b[38;5;241m.\u001b[39mmps\u001b[38;5;241m.\u001b[39mis_available() \u001b[38;5;28;01melse\u001b[39;00m \u001b[38;5;124m\"\u001b[39m\u001b[38;5;124mcpu\u001b[39m\u001b[38;5;124m\"\u001b[39m)\n\u001b[1;32m      2\u001b[0m \u001b[38;5;28mprint\u001b[39m(device)\n\u001b[0;32m----> 3\u001b[0m \u001b[43mmodel\u001b[49m\u001b[38;5;241;43m.\u001b[39;49m\u001b[43mto\u001b[49m\u001b[43m(\u001b[49m\u001b[43mdevice\u001b[49m\u001b[43m)\u001b[49m\n\u001b[1;32m      4\u001b[0m \u001b[38;5;28mprint\u001b[39m(device)\n",
      "File \u001b[0;32m~/Downloads/BMW_intern_GenAI_coding_task/.bmw_env/lib/python3.11/site-packages/transformers/modeling_utils.py:2905\u001b[0m, in \u001b[0;36mPreTrainedModel.to\u001b[0;34m(self, *args, **kwargs)\u001b[0m\n\u001b[1;32m   2900\u001b[0m     \u001b[38;5;28;01mif\u001b[39;00m dtype_present_in_args:\n\u001b[1;32m   2901\u001b[0m         \u001b[38;5;28;01mraise\u001b[39;00m \u001b[38;5;167;01mValueError\u001b[39;00m(\n\u001b[1;32m   2902\u001b[0m             \u001b[38;5;124m\"\u001b[39m\u001b[38;5;124mYou cannot cast a GPTQ model in a new `dtype`. Make sure to load the model using `from_pretrained` using the desired\u001b[39m\u001b[38;5;124m\"\u001b[39m\n\u001b[1;32m   2903\u001b[0m             \u001b[38;5;124m\"\u001b[39m\u001b[38;5;124m `dtype` by passing the correct `torch_dtype` argument.\u001b[39m\u001b[38;5;124m\"\u001b[39m\n\u001b[1;32m   2904\u001b[0m         )\n\u001b[0;32m-> 2905\u001b[0m \u001b[38;5;28;01mreturn\u001b[39;00m \u001b[38;5;28;43msuper\u001b[39;49m\u001b[43m(\u001b[49m\u001b[43m)\u001b[49m\u001b[38;5;241;43m.\u001b[39;49m\u001b[43mto\u001b[49m\u001b[43m(\u001b[49m\u001b[38;5;241;43m*\u001b[39;49m\u001b[43margs\u001b[49m\u001b[43m,\u001b[49m\u001b[43m \u001b[49m\u001b[38;5;241;43m*\u001b[39;49m\u001b[38;5;241;43m*\u001b[39;49m\u001b[43mkwargs\u001b[49m\u001b[43m)\u001b[49m\n",
      "File \u001b[0;32m~/Downloads/BMW_intern_GenAI_coding_task/.bmw_env/lib/python3.11/site-packages/torch/nn/modules/module.py:1174\u001b[0m, in \u001b[0;36mModule.to\u001b[0;34m(self, *args, **kwargs)\u001b[0m\n\u001b[1;32m   1171\u001b[0m         \u001b[38;5;28;01melse\u001b[39;00m:\n\u001b[1;32m   1172\u001b[0m             \u001b[38;5;28;01mraise\u001b[39;00m\n\u001b[0;32m-> 1174\u001b[0m \u001b[38;5;28;01mreturn\u001b[39;00m \u001b[38;5;28;43mself\u001b[39;49m\u001b[38;5;241;43m.\u001b[39;49m\u001b[43m_apply\u001b[49m\u001b[43m(\u001b[49m\u001b[43mconvert\u001b[49m\u001b[43m)\u001b[49m\n",
      "File \u001b[0;32m~/Downloads/BMW_intern_GenAI_coding_task/.bmw_env/lib/python3.11/site-packages/torch/nn/modules/module.py:780\u001b[0m, in \u001b[0;36mModule._apply\u001b[0;34m(self, fn, recurse)\u001b[0m\n\u001b[1;32m    778\u001b[0m \u001b[38;5;28;01mif\u001b[39;00m recurse:\n\u001b[1;32m    779\u001b[0m     \u001b[38;5;28;01mfor\u001b[39;00m module \u001b[38;5;129;01min\u001b[39;00m \u001b[38;5;28mself\u001b[39m\u001b[38;5;241m.\u001b[39mchildren():\n\u001b[0;32m--> 780\u001b[0m         \u001b[43mmodule\u001b[49m\u001b[38;5;241;43m.\u001b[39;49m\u001b[43m_apply\u001b[49m\u001b[43m(\u001b[49m\u001b[43mfn\u001b[49m\u001b[43m)\u001b[49m\n\u001b[1;32m    782\u001b[0m \u001b[38;5;28;01mdef\u001b[39;00m \u001b[38;5;21mcompute_should_use_set_data\u001b[39m(tensor, tensor_applied):\n\u001b[1;32m    783\u001b[0m     \u001b[38;5;28;01mif\u001b[39;00m torch\u001b[38;5;241m.\u001b[39m_has_compatible_shallow_copy_type(tensor, tensor_applied):\n\u001b[1;32m    784\u001b[0m         \u001b[38;5;66;03m# If the new tensor has compatible tensor type as the existing tensor,\u001b[39;00m\n\u001b[1;32m    785\u001b[0m         \u001b[38;5;66;03m# the current behavior is to change the tensor in-place using `.data =`,\u001b[39;00m\n\u001b[0;32m   (...)\u001b[0m\n\u001b[1;32m    790\u001b[0m         \u001b[38;5;66;03m# global flag to let the user control whether they want the future\u001b[39;00m\n\u001b[1;32m    791\u001b[0m         \u001b[38;5;66;03m# behavior of overwriting the existing tensor or not.\u001b[39;00m\n",
      "File \u001b[0;32m~/Downloads/BMW_intern_GenAI_coding_task/.bmw_env/lib/python3.11/site-packages/torch/nn/modules/module.py:780\u001b[0m, in \u001b[0;36mModule._apply\u001b[0;34m(self, fn, recurse)\u001b[0m\n\u001b[1;32m    778\u001b[0m \u001b[38;5;28;01mif\u001b[39;00m recurse:\n\u001b[1;32m    779\u001b[0m     \u001b[38;5;28;01mfor\u001b[39;00m module \u001b[38;5;129;01min\u001b[39;00m \u001b[38;5;28mself\u001b[39m\u001b[38;5;241m.\u001b[39mchildren():\n\u001b[0;32m--> 780\u001b[0m         \u001b[43mmodule\u001b[49m\u001b[38;5;241;43m.\u001b[39;49m\u001b[43m_apply\u001b[49m\u001b[43m(\u001b[49m\u001b[43mfn\u001b[49m\u001b[43m)\u001b[49m\n\u001b[1;32m    782\u001b[0m \u001b[38;5;28;01mdef\u001b[39;00m \u001b[38;5;21mcompute_should_use_set_data\u001b[39m(tensor, tensor_applied):\n\u001b[1;32m    783\u001b[0m     \u001b[38;5;28;01mif\u001b[39;00m torch\u001b[38;5;241m.\u001b[39m_has_compatible_shallow_copy_type(tensor, tensor_applied):\n\u001b[1;32m    784\u001b[0m         \u001b[38;5;66;03m# If the new tensor has compatible tensor type as the existing tensor,\u001b[39;00m\n\u001b[1;32m    785\u001b[0m         \u001b[38;5;66;03m# the current behavior is to change the tensor in-place using `.data =`,\u001b[39;00m\n\u001b[0;32m   (...)\u001b[0m\n\u001b[1;32m    790\u001b[0m         \u001b[38;5;66;03m# global flag to let the user control whether they want the future\u001b[39;00m\n\u001b[1;32m    791\u001b[0m         \u001b[38;5;66;03m# behavior of overwriting the existing tensor or not.\u001b[39;00m\n",
      "    \u001b[0;31m[... skipping similar frames: Module._apply at line 780 (3 times)]\u001b[0m\n",
      "File \u001b[0;32m~/Downloads/BMW_intern_GenAI_coding_task/.bmw_env/lib/python3.11/site-packages/torch/nn/modules/module.py:780\u001b[0m, in \u001b[0;36mModule._apply\u001b[0;34m(self, fn, recurse)\u001b[0m\n\u001b[1;32m    778\u001b[0m \u001b[38;5;28;01mif\u001b[39;00m recurse:\n\u001b[1;32m    779\u001b[0m     \u001b[38;5;28;01mfor\u001b[39;00m module \u001b[38;5;129;01min\u001b[39;00m \u001b[38;5;28mself\u001b[39m\u001b[38;5;241m.\u001b[39mchildren():\n\u001b[0;32m--> 780\u001b[0m         \u001b[43mmodule\u001b[49m\u001b[38;5;241;43m.\u001b[39;49m\u001b[43m_apply\u001b[49m\u001b[43m(\u001b[49m\u001b[43mfn\u001b[49m\u001b[43m)\u001b[49m\n\u001b[1;32m    782\u001b[0m \u001b[38;5;28;01mdef\u001b[39;00m \u001b[38;5;21mcompute_should_use_set_data\u001b[39m(tensor, tensor_applied):\n\u001b[1;32m    783\u001b[0m     \u001b[38;5;28;01mif\u001b[39;00m torch\u001b[38;5;241m.\u001b[39m_has_compatible_shallow_copy_type(tensor, tensor_applied):\n\u001b[1;32m    784\u001b[0m         \u001b[38;5;66;03m# If the new tensor has compatible tensor type as the existing tensor,\u001b[39;00m\n\u001b[1;32m    785\u001b[0m         \u001b[38;5;66;03m# the current behavior is to change the tensor in-place using `.data =`,\u001b[39;00m\n\u001b[0;32m   (...)\u001b[0m\n\u001b[1;32m    790\u001b[0m         \u001b[38;5;66;03m# global flag to let the user control whether they want the future\u001b[39;00m\n\u001b[1;32m    791\u001b[0m         \u001b[38;5;66;03m# behavior of overwriting the existing tensor or not.\u001b[39;00m\n",
      "File \u001b[0;32m~/Downloads/BMW_intern_GenAI_coding_task/.bmw_env/lib/python3.11/site-packages/torch/nn/modules/module.py:805\u001b[0m, in \u001b[0;36mModule._apply\u001b[0;34m(self, fn, recurse)\u001b[0m\n\u001b[1;32m    801\u001b[0m \u001b[38;5;66;03m# Tensors stored in modules are graph leaves, and we don't want to\u001b[39;00m\n\u001b[1;32m    802\u001b[0m \u001b[38;5;66;03m# track autograd history of `param_applied`, so we have to use\u001b[39;00m\n\u001b[1;32m    803\u001b[0m \u001b[38;5;66;03m# `with torch.no_grad():`\u001b[39;00m\n\u001b[1;32m    804\u001b[0m \u001b[38;5;28;01mwith\u001b[39;00m torch\u001b[38;5;241m.\u001b[39mno_grad():\n\u001b[0;32m--> 805\u001b[0m     param_applied \u001b[38;5;241m=\u001b[39m \u001b[43mfn\u001b[49m\u001b[43m(\u001b[49m\u001b[43mparam\u001b[49m\u001b[43m)\u001b[49m\n\u001b[1;32m    806\u001b[0m p_should_use_set_data \u001b[38;5;241m=\u001b[39m compute_should_use_set_data(param, param_applied)\n\u001b[1;32m    808\u001b[0m \u001b[38;5;66;03m# subclasses may have multiple child tensors so we need to use swap_tensors\u001b[39;00m\n",
      "File \u001b[0;32m~/Downloads/BMW_intern_GenAI_coding_task/.bmw_env/lib/python3.11/site-packages/torch/nn/modules/module.py:1160\u001b[0m, in \u001b[0;36mModule.to.<locals>.convert\u001b[0;34m(t)\u001b[0m\n\u001b[1;32m   1153\u001b[0m     \u001b[38;5;28;01mif\u001b[39;00m convert_to_format \u001b[38;5;129;01mis\u001b[39;00m \u001b[38;5;129;01mnot\u001b[39;00m \u001b[38;5;28;01mNone\u001b[39;00m \u001b[38;5;129;01mand\u001b[39;00m t\u001b[38;5;241m.\u001b[39mdim() \u001b[38;5;129;01min\u001b[39;00m (\u001b[38;5;241m4\u001b[39m, \u001b[38;5;241m5\u001b[39m):\n\u001b[1;32m   1154\u001b[0m         \u001b[38;5;28;01mreturn\u001b[39;00m t\u001b[38;5;241m.\u001b[39mto(\n\u001b[1;32m   1155\u001b[0m             device,\n\u001b[1;32m   1156\u001b[0m             dtype \u001b[38;5;28;01mif\u001b[39;00m t\u001b[38;5;241m.\u001b[39mis_floating_point() \u001b[38;5;129;01mor\u001b[39;00m t\u001b[38;5;241m.\u001b[39mis_complex() \u001b[38;5;28;01melse\u001b[39;00m \u001b[38;5;28;01mNone\u001b[39;00m,\n\u001b[1;32m   1157\u001b[0m             non_blocking,\n\u001b[1;32m   1158\u001b[0m             memory_format\u001b[38;5;241m=\u001b[39mconvert_to_format,\n\u001b[1;32m   1159\u001b[0m         )\n\u001b[0;32m-> 1160\u001b[0m     \u001b[38;5;28;01mreturn\u001b[39;00m \u001b[43mt\u001b[49m\u001b[38;5;241;43m.\u001b[39;49m\u001b[43mto\u001b[49m\u001b[43m(\u001b[49m\n\u001b[1;32m   1161\u001b[0m \u001b[43m        \u001b[49m\u001b[43mdevice\u001b[49m\u001b[43m,\u001b[49m\n\u001b[1;32m   1162\u001b[0m \u001b[43m        \u001b[49m\u001b[43mdtype\u001b[49m\u001b[43m \u001b[49m\u001b[38;5;28;43;01mif\u001b[39;49;00m\u001b[43m \u001b[49m\u001b[43mt\u001b[49m\u001b[38;5;241;43m.\u001b[39;49m\u001b[43mis_floating_point\u001b[49m\u001b[43m(\u001b[49m\u001b[43m)\u001b[49m\u001b[43m \u001b[49m\u001b[38;5;129;43;01mor\u001b[39;49;00m\u001b[43m \u001b[49m\u001b[43mt\u001b[49m\u001b[38;5;241;43m.\u001b[39;49m\u001b[43mis_complex\u001b[49m\u001b[43m(\u001b[49m\u001b[43m)\u001b[49m\u001b[43m \u001b[49m\u001b[38;5;28;43;01melse\u001b[39;49;00m\u001b[43m \u001b[49m\u001b[38;5;28;43;01mNone\u001b[39;49;00m\u001b[43m,\u001b[49m\n\u001b[1;32m   1163\u001b[0m \u001b[43m        \u001b[49m\u001b[43mnon_blocking\u001b[49m\u001b[43m,\u001b[49m\n\u001b[1;32m   1164\u001b[0m \u001b[43m    \u001b[49m\u001b[43m)\u001b[49m\n\u001b[1;32m   1165\u001b[0m \u001b[38;5;28;01mexcept\u001b[39;00m \u001b[38;5;167;01mNotImplementedError\u001b[39;00m \u001b[38;5;28;01mas\u001b[39;00m e:\n\u001b[1;32m   1166\u001b[0m     \u001b[38;5;28;01mif\u001b[39;00m \u001b[38;5;28mstr\u001b[39m(e) \u001b[38;5;241m==\u001b[39m \u001b[38;5;124m\"\u001b[39m\u001b[38;5;124mCannot copy out of meta tensor; no data!\u001b[39m\u001b[38;5;124m\"\u001b[39m:\n",
      "\u001b[0;31mRuntimeError\u001b[0m: MPS backend out of memory (MPS allocated: 18.12 GB, other allocations: 1.70 MB, max allowed: 18.13 GB). Tried to allocate 64.00 MB on private pool. Use PYTORCH_MPS_HIGH_WATERMARK_RATIO=0.0 to disable upper limit for memory allocations (may cause system failure)."
     ]
    }
   ],
   "source": [
    "device = torch.device(\"mps\" if torch.backends.mps.is_available() else \"cpu\")\n",
    "print(device)\n",
    "model.to(device)\n",
    "print(device)"
   ]
  },
  {
   "cell_type": "code",
   "execution_count": null,
   "metadata": {},
   "outputs": [],
   "source": [
    "prompt = \"USER: <image>\\nWhat's the content of the image? ASSISTANT:\"\n",
    "url = \"https://www.ilankelman.org/stopsigns/australia.jpg\"\n",
    "image = Image.open(requests.get(url, stream=True).raw)\n",
    "\n",
    "inputs = processor(text=prompt, images=image, return_tensors=\"pt\")\n",
    "inputs.to(device)"
   ]
  },
  {
   "cell_type": "code",
   "execution_count": 4,
   "metadata": {},
   "outputs": [
    {
     "name": "stderr",
     "output_type": "stream",
     "text": [
      "The `seen_tokens` attribute is deprecated and will be removed in v4.41. Use the `cache_position` model input instead.\n"
     ]
    },
    {
     "data": {
      "text/plain": [
       "\"USER:  \\nWhat's the content of the image? ASSISTANT: The image features a street scene with a stop sign, a red building,\""
      ]
     },
     "execution_count": 4,
     "metadata": {},
     "output_type": "execute_result"
    }
   ],
   "source": [
    "# Generate\n",
    "# to get this answer, I needed 48 minutes: \"USER:  \\nWhat's the content of the image? ASSISTANT: The image features a street scene with a stop sign, a red building,\"\n",
    "generate_ids = model.generate(**inputs, max_new_tokens=15, device=device)\n",
    "processor.batch_decode(generate_ids, skip_special_tokens=True, clean_up_tokenization_spaces=False)[0]"
   ]
  },
  {
   "cell_type": "code",
   "execution_count": null,
   "metadata": {},
   "outputs": [],
   "source": [
    "\n",
    "\n",
    "model = LlavaForConditionalGeneration.from_pretrained(\"llava-hf/llava-1.5-7b-hf\")\n",
    "processor = AutoProcessor.from_pretrained(\"llava-hf/llava-1.5-7b-hf\")\n",
    "\n",
    "prompt = \"USER: <image>\\nWhat's the content of the image? ASSISTANT:\"\n",
    "url = \"https://www.ilankelman.org/stopsigns/australia.jpg\"\n",
    "image = Image.open(requests.get(url, stream=True).raw)\n",
    "\n",
    "inputs = processor(text=prompt, images=image, return_tensors=\"pt\")\n",
    "\n",
    "# Generate\n",
    "generate_ids = model.generate(**inputs, max_new_tokens=15)\n",
    "processor.batch_decode(generate_ids, skip_special_tokens=True, clean_up_tokenization_spaces=False)[0]"
   ]
  },
  {
   "cell_type": "code",
   "execution_count": null,
   "metadata": {},
   "outputs": [],
   "source": []
  }
 ],
 "metadata": {
  "kernelspec": {
   "display_name": "Python 3",
   "language": "python",
   "name": "python3"
  },
  "language_info": {
   "codemirror_mode": {
    "name": "ipython",
    "version": 3
   },
   "file_extension": ".py",
   "mimetype": "text/x-python",
   "name": "python",
   "nbconvert_exporter": "python",
   "pygments_lexer": "ipython3",
   "version": "3.11.9"
  }
 },
 "nbformat": 4,
 "nbformat_minor": 2
}
